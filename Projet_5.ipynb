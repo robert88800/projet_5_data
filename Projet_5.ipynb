{
 "cells": [
  {
   "cell_type": "markdown",
   "metadata": {},
   "source": [
    "<div style=\"display: flex; background-color: RGB(106,90,205);\">\n",
    "<h1 style=\"margin: auto; padding: 30px; color: RGB(255,255,255);\">PROJET 5 - Produisez une étude de marché</h1>\n",
    "</div>"
   ]
  },
  {
   "cell_type": "markdown",
   "metadata": {},
   "source": [
    "<div style=\"background-color: RGB(106,90,205);\">\n",
    "<h2 style=\"margin: auto; padding: 20px; color:RGB(255,255,255);\">Mission : identifier les pays propices à une insertion dans le marché du poulet</h2>\n",
    "</div>"
   ]
  },
  {
   "cell_type": "markdown",
   "metadata": {},
   "source": [
    "<div style=\"border: 1px solid RGB(106,90,205);\">\n",
    "<h3 style=\"margin: auto; padding: 20px; color: RGB(106,90,205);\">Importation des librairies et des fonctions utiles</h3>\n",
    "</div>"
   ]
  },
  {
   "cell_type": "code",
   "execution_count": 1,
   "metadata": {},
   "outputs": [],
   "source": [
    "from functions import*\n",
    "from sklearn import decomposition\n",
    "from sklearn import preprocessing \n",
    "from scipy.cluster.hierarchy import linkage, fcluster\n",
    "from scipy.stats import shapiro, ks_2samp"
   ]
  },
  {
   "cell_type": "markdown",
   "metadata": {},
   "source": [
    "<div style=\"background-color: RGB(106,90,205);\">\n",
    "<h2 style=\"margin: auto; padding: 20px; color:RGB(255,255,255);\">Construction de notre échantillon avec les différentes variables demandées</h2>\n",
    "</div>"
   ]
  },
  {
   "cell_type": "markdown",
   "metadata": {},
   "source": [
    "<div style=\"border: 1px solid RGB(106,90,205);\">\n",
    "<h3 style=\"margin: auto; padding: 20px; color: RGB(106,90,205);\">Importation du fichier relatif à la population</h3>\n",
    "</div>"
   ]
  },
  {
   "cell_type": "code",
   "execution_count": 2,
   "metadata": {},
   "outputs": [
    {
     "data": {
      "text/html": [
       "<div>\n",
       "<style scoped>\n",
       "    .dataframe tbody tr th:only-of-type {\n",
       "        vertical-align: middle;\n",
       "    }\n",
       "\n",
       "    .dataframe tbody tr th {\n",
       "        vertical-align: top;\n",
       "    }\n",
       "\n",
       "    .dataframe thead th {\n",
       "        text-align: right;\n",
       "    }\n",
       "</style>\n",
       "<table border=\"1\" class=\"dataframe\">\n",
       "  <thead>\n",
       "    <tr style=\"text-align: right;\">\n",
       "      <th></th>\n",
       "      <th>Code Domaine</th>\n",
       "      <th>Domaine</th>\n",
       "      <th>Code zone</th>\n",
       "      <th>Zone</th>\n",
       "      <th>Code Élément</th>\n",
       "      <th>Élément</th>\n",
       "      <th>Code Produit</th>\n",
       "      <th>Produit</th>\n",
       "      <th>Code année</th>\n",
       "      <th>Année</th>\n",
       "      <th>Unité</th>\n",
       "      <th>Valeur</th>\n",
       "      <th>Symbole</th>\n",
       "      <th>Description du Symbole</th>\n",
       "      <th>Note</th>\n",
       "    </tr>\n",
       "  </thead>\n",
       "  <tbody>\n",
       "    <tr>\n",
       "      <th>0</th>\n",
       "      <td>OA</td>\n",
       "      <td>Séries temporelles annuelles</td>\n",
       "      <td>2</td>\n",
       "      <td>Afghanistan</td>\n",
       "      <td>511</td>\n",
       "      <td>Population totale</td>\n",
       "      <td>3010</td>\n",
       "      <td>Population-Estimations</td>\n",
       "      <td>2008</td>\n",
       "      <td>2008</td>\n",
       "      <td>1000 personnes</td>\n",
       "      <td>27294.031</td>\n",
       "      <td>X</td>\n",
       "      <td>Sources internationales sûres</td>\n",
       "      <td>UNDESA, Population Division – World Population...</td>\n",
       "    </tr>\n",
       "    <tr>\n",
       "      <th>1</th>\n",
       "      <td>OA</td>\n",
       "      <td>Séries temporelles annuelles</td>\n",
       "      <td>2</td>\n",
       "      <td>Afghanistan</td>\n",
       "      <td>511</td>\n",
       "      <td>Population totale</td>\n",
       "      <td>3010</td>\n",
       "      <td>Population-Estimations</td>\n",
       "      <td>2013</td>\n",
       "      <td>2013</td>\n",
       "      <td>1000 personnes</td>\n",
       "      <td>31731.688</td>\n",
       "      <td>X</td>\n",
       "      <td>Sources internationales sûres</td>\n",
       "      <td>UNDESA, Population Division – World Population...</td>\n",
       "    </tr>\n",
       "    <tr>\n",
       "      <th>2</th>\n",
       "      <td>OA</td>\n",
       "      <td>Séries temporelles annuelles</td>\n",
       "      <td>202</td>\n",
       "      <td>Afrique du Sud</td>\n",
       "      <td>511</td>\n",
       "      <td>Population totale</td>\n",
       "      <td>3010</td>\n",
       "      <td>Population-Estimations</td>\n",
       "      <td>2008</td>\n",
       "      <td>2008</td>\n",
       "      <td>1000 personnes</td>\n",
       "      <td>50412.129</td>\n",
       "      <td>X</td>\n",
       "      <td>Sources internationales sûres</td>\n",
       "      <td>UNDESA, Population Division – World Population...</td>\n",
       "    </tr>\n",
       "    <tr>\n",
       "      <th>3</th>\n",
       "      <td>OA</td>\n",
       "      <td>Séries temporelles annuelles</td>\n",
       "      <td>202</td>\n",
       "      <td>Afrique du Sud</td>\n",
       "      <td>511</td>\n",
       "      <td>Population totale</td>\n",
       "      <td>3010</td>\n",
       "      <td>Population-Estimations</td>\n",
       "      <td>2013</td>\n",
       "      <td>2013</td>\n",
       "      <td>1000 personnes</td>\n",
       "      <td>53767.396</td>\n",
       "      <td>X</td>\n",
       "      <td>Sources internationales sûres</td>\n",
       "      <td>UNDESA, Population Division – World Population...</td>\n",
       "    </tr>\n",
       "    <tr>\n",
       "      <th>4</th>\n",
       "      <td>OA</td>\n",
       "      <td>Séries temporelles annuelles</td>\n",
       "      <td>3</td>\n",
       "      <td>Albanie</td>\n",
       "      <td>511</td>\n",
       "      <td>Population totale</td>\n",
       "      <td>3010</td>\n",
       "      <td>Population-Estimations</td>\n",
       "      <td>2008</td>\n",
       "      <td>2008</td>\n",
       "      <td>1000 personnes</td>\n",
       "      <td>2991.651</td>\n",
       "      <td>X</td>\n",
       "      <td>Sources internationales sûres</td>\n",
       "      <td>UNDESA, Population Division – World Population...</td>\n",
       "    </tr>\n",
       "  </tbody>\n",
       "</table>\n",
       "</div>"
      ],
      "text/plain": [
       "  Code Domaine                       Domaine  Code zone            Zone  \\\n",
       "0           OA  Séries temporelles annuelles          2     Afghanistan   \n",
       "1           OA  Séries temporelles annuelles          2     Afghanistan   \n",
       "2           OA  Séries temporelles annuelles        202  Afrique du Sud   \n",
       "3           OA  Séries temporelles annuelles        202  Afrique du Sud   \n",
       "4           OA  Séries temporelles annuelles          3         Albanie   \n",
       "\n",
       "   Code Élément            Élément  Code Produit                 Produit  \\\n",
       "0           511  Population totale          3010  Population-Estimations   \n",
       "1           511  Population totale          3010  Population-Estimations   \n",
       "2           511  Population totale          3010  Population-Estimations   \n",
       "3           511  Population totale          3010  Population-Estimations   \n",
       "4           511  Population totale          3010  Population-Estimations   \n",
       "\n",
       "   Code année  Année           Unité     Valeur Symbole  \\\n",
       "0        2008   2008  1000 personnes  27294.031       X   \n",
       "1        2013   2013  1000 personnes  31731.688       X   \n",
       "2        2008   2008  1000 personnes  50412.129       X   \n",
       "3        2013   2013  1000 personnes  53767.396       X   \n",
       "4        2008   2008  1000 personnes   2991.651       X   \n",
       "\n",
       "          Description du Symbole  \\\n",
       "0  Sources internationales sûres   \n",
       "1  Sources internationales sûres   \n",
       "2  Sources internationales sûres   \n",
       "3  Sources internationales sûres   \n",
       "4  Sources internationales sûres   \n",
       "\n",
       "                                                Note  \n",
       "0  UNDESA, Population Division – World Population...  \n",
       "1  UNDESA, Population Division – World Population...  \n",
       "2  UNDESA, Population Division – World Population...  \n",
       "3  UNDESA, Population Division – World Population...  \n",
       "4  UNDESA, Population Division – World Population...  "
      ]
     },
     "execution_count": 2,
     "metadata": {},
     "output_type": "execute_result"
    }
   ],
   "source": [
    "# On importe le fichier de la population mondiale provenant du site de la 'FAO', relatif aux années 2008 et 2013\n",
    "# L'individu 'Chine' n'a pas été sélectionné, pour éviter les doublons\n",
    "pop = pd.read_csv(\"pop.csv\")\n",
    "\n",
    "# On observe\n",
    "pop.head()"
   ]
  },
  {
   "cell_type": "code",
   "execution_count": 3,
   "metadata": {},
   "outputs": [],
   "source": [
    "# La variable 'Valeur' est mise à la bonne unité\n",
    "pop['Valeur'] = pop['Valeur']*1000"
   ]
  },
  {
   "cell_type": "markdown",
   "metadata": {},
   "source": [
    "> Nous allons construire la variable '%evopop' :\n",
    ">\n",
    "> - Calcul de la différence de population entre 2008 et 2013, exprimée en pourcentage, avec en parallèle un traitement \n",
    "> des valeurs manquantes, aberrantes et des doublons sur la table 'pop'"
   ]
  },
  {
   "cell_type": "code",
   "execution_count": 4,
   "metadata": {},
   "outputs": [],
   "source": [
    "# Formatage du dataframe pour une question pratique\n",
    "pop = pop.pivot_table(values = [\"Valeur\"], index = [\"Code zone\", \"Zone\", \"Produit\"],\n",
    "                      columns = [\"Année\"], aggfunc = sum)\n",
    "pop.columns = ['2008', '2013']\n",
    "pop = pop.reset_index()"
   ]
  },
  {
   "cell_type": "code",
   "execution_count": 5,
   "metadata": {},
   "outputs": [
    {
     "data": {
      "text/html": [
       "<div>\n",
       "<style scoped>\n",
       "    .dataframe tbody tr th:only-of-type {\n",
       "        vertical-align: middle;\n",
       "    }\n",
       "\n",
       "    .dataframe tbody tr th {\n",
       "        vertical-align: top;\n",
       "    }\n",
       "\n",
       "    .dataframe thead th {\n",
       "        text-align: right;\n",
       "    }\n",
       "</style>\n",
       "<table border=\"1\" class=\"dataframe\">\n",
       "  <thead>\n",
       "    <tr style=\"text-align: right;\">\n",
       "      <th></th>\n",
       "      <th>Code zone</th>\n",
       "      <th>Zone</th>\n",
       "      <th>Produit</th>\n",
       "      <th>2008</th>\n",
       "      <th>2013</th>\n",
       "      <th>%evopop</th>\n",
       "    </tr>\n",
       "  </thead>\n",
       "  <tbody>\n",
       "    <tr>\n",
       "      <th>0</th>\n",
       "      <td>1</td>\n",
       "      <td>Arménie</td>\n",
       "      <td>Population-Estimations</td>\n",
       "      <td>2908220.0</td>\n",
       "      <td>2893509.0</td>\n",
       "      <td>-0.505842</td>\n",
       "    </tr>\n",
       "    <tr>\n",
       "      <th>1</th>\n",
       "      <td>2</td>\n",
       "      <td>Afghanistan</td>\n",
       "      <td>Population-Estimations</td>\n",
       "      <td>27294031.0</td>\n",
       "      <td>31731688.0</td>\n",
       "      <td>16.258709</td>\n",
       "    </tr>\n",
       "    <tr>\n",
       "      <th>2</th>\n",
       "      <td>3</td>\n",
       "      <td>Albanie</td>\n",
       "      <td>Population-Estimations</td>\n",
       "      <td>2991651.0</td>\n",
       "      <td>2918978.0</td>\n",
       "      <td>-2.429194</td>\n",
       "    </tr>\n",
       "    <tr>\n",
       "      <th>3</th>\n",
       "      <td>4</td>\n",
       "      <td>Algérie</td>\n",
       "      <td>Population-Estimations</td>\n",
       "      <td>34860715.0</td>\n",
       "      <td>38338562.0</td>\n",
       "      <td>9.976408</td>\n",
       "    </tr>\n",
       "    <tr>\n",
       "      <th>4</th>\n",
       "      <td>5</td>\n",
       "      <td>Samoa américaines</td>\n",
       "      <td>Population-Estimations</td>\n",
       "      <td>57030.0</td>\n",
       "      <td>55307.0</td>\n",
       "      <td>-3.021217</td>\n",
       "    </tr>\n",
       "  </tbody>\n",
       "</table>\n",
       "</div>"
      ],
      "text/plain": [
       "   Code zone               Zone                 Produit        2008  \\\n",
       "0          1            Arménie  Population-Estimations   2908220.0   \n",
       "1          2        Afghanistan  Population-Estimations  27294031.0   \n",
       "2          3            Albanie  Population-Estimations   2991651.0   \n",
       "3          4            Algérie  Population-Estimations  34860715.0   \n",
       "4          5  Samoa américaines  Population-Estimations     57030.0   \n",
       "\n",
       "         2013    %evopop  \n",
       "0   2893509.0  -0.505842  \n",
       "1  31731688.0  16.258709  \n",
       "2   2918978.0  -2.429194  \n",
       "3  38338562.0   9.976408  \n",
       "4     55307.0  -3.021217  "
      ]
     },
     "execution_count": 5,
     "metadata": {},
     "output_type": "execute_result"
    }
   ],
   "source": [
    "# Calcul de la nouvelle variable '%evopop'\n",
    "pop.loc[:, '%evopop'] = ((pop['2013']/pop['2008'])-1)*100\n",
    "\n",
    "# On observe\n",
    "pop.head()"
   ]
  },
  {
   "cell_type": "markdown",
   "metadata": {},
   "source": [
    "<div style=\"border: 1px solid RGB(106,90,205);\">\n",
    "<h3 style=\"margin: auto; padding: 20px; color: RGB(106,90,205);\">Recherche des valeurs manquantes</h3>\n",
    "</div>"
   ]
  },
  {
   "cell_type": "code",
   "execution_count": 6,
   "metadata": {
    "scrolled": true
   },
   "outputs": [
    {
     "name": "stdout",
     "output_type": "stream",
     "text": [
      "<class 'pandas.core.frame.DataFrame'>\n",
      "RangeIndex: 232 entries, 0 to 231\n",
      "Data columns (total 6 columns):\n",
      "Code zone    232 non-null int64\n",
      "Zone         232 non-null object\n",
      "Produit      232 non-null object\n",
      "2008         230 non-null float64\n",
      "2013         230 non-null float64\n",
      "%evopop      228 non-null float64\n",
      "dtypes: float64(3), int64(1), object(2)\n",
      "memory usage: 11.0+ KB\n"
     ]
    }
   ],
   "source": [
    "# Recherche des valeurs manquantes au sein de la table 'pop'\n",
    "pop.info()"
   ]
  },
  {
   "cell_type": "markdown",
   "metadata": {},
   "source": [
    "> Nous observons des valeurs manquantes au sein de la nouvelle variable"
   ]
  },
  {
   "cell_type": "code",
   "execution_count": 7,
   "metadata": {},
   "outputs": [
    {
     "data": {
      "text/html": [
       "<div>\n",
       "<style scoped>\n",
       "    .dataframe tbody tr th:only-of-type {\n",
       "        vertical-align: middle;\n",
       "    }\n",
       "\n",
       "    .dataframe tbody tr th {\n",
       "        vertical-align: top;\n",
       "    }\n",
       "\n",
       "    .dataframe thead th {\n",
       "        text-align: right;\n",
       "    }\n",
       "</style>\n",
       "<table border=\"1\" class=\"dataframe\">\n",
       "  <thead>\n",
       "    <tr style=\"text-align: right;\">\n",
       "      <th></th>\n",
       "      <th>Code zone</th>\n",
       "      <th>Zone</th>\n",
       "      <th>Produit</th>\n",
       "      <th>2008</th>\n",
       "      <th>2013</th>\n",
       "      <th>%evopop</th>\n",
       "    </tr>\n",
       "  </thead>\n",
       "  <tbody>\n",
       "    <tr>\n",
       "      <th>134</th>\n",
       "      <td>151</td>\n",
       "      <td>Antilles néerlandaises (ex)</td>\n",
       "      <td>Population-Estimations</td>\n",
       "      <td>190320.0</td>\n",
       "      <td>NaN</td>\n",
       "      <td>NaN</td>\n",
       "    </tr>\n",
       "    <tr>\n",
       "      <th>183</th>\n",
       "      <td>206</td>\n",
       "      <td>Soudan (ex)</td>\n",
       "      <td>Population-Estimations</td>\n",
       "      <td>42218632.0</td>\n",
       "      <td>NaN</td>\n",
       "      <td>NaN</td>\n",
       "    </tr>\n",
       "    <tr>\n",
       "      <th>229</th>\n",
       "      <td>276</td>\n",
       "      <td>Soudan</td>\n",
       "      <td>Population-Estimations</td>\n",
       "      <td>NaN</td>\n",
       "      <td>36849918.0</td>\n",
       "      <td>NaN</td>\n",
       "    </tr>\n",
       "    <tr>\n",
       "      <th>230</th>\n",
       "      <td>277</td>\n",
       "      <td>Soudan du Sud</td>\n",
       "      <td>Population-Estimations</td>\n",
       "      <td>NaN</td>\n",
       "      <td>11177490.0</td>\n",
       "      <td>NaN</td>\n",
       "    </tr>\n",
       "  </tbody>\n",
       "</table>\n",
       "</div>"
      ],
      "text/plain": [
       "     Code zone                         Zone                 Produit  \\\n",
       "134        151  Antilles néerlandaises (ex)  Population-Estimations   \n",
       "183        206                  Soudan (ex)  Population-Estimations   \n",
       "229        276                       Soudan  Population-Estimations   \n",
       "230        277                Soudan du Sud  Population-Estimations   \n",
       "\n",
       "           2008        2013  %evopop  \n",
       "134    190320.0         NaN      NaN  \n",
       "183  42218632.0         NaN      NaN  \n",
       "229         NaN  36849918.0      NaN  \n",
       "230         NaN  11177490.0      NaN  "
      ]
     },
     "execution_count": 7,
     "metadata": {},
     "output_type": "execute_result"
    }
   ],
   "source": [
    "# Recherche des individus ayant comme valeur 'NaN' pour la variable '%evopop'\n",
    "pop.loc[np.isnan(pop['%evopop']),:]"
   ]
  },
  {
   "cell_type": "code",
   "execution_count": 8,
   "metadata": {
    "scrolled": false
   },
   "outputs": [
    {
     "name": "stdout",
     "output_type": "stream",
     "text": [
      "<class 'pandas.core.frame.DataFrame'>\n",
      "Int64Index: 228 entries, 0 to 231\n",
      "Data columns (total 6 columns):\n",
      "Code zone    228 non-null int64\n",
      "Zone         228 non-null object\n",
      "Produit      228 non-null object\n",
      "2008         228 non-null float64\n",
      "2013         228 non-null float64\n",
      "%evopop      228 non-null float64\n",
      "dtypes: float64(3), int64(1), object(2)\n",
      "memory usage: 12.5+ KB\n"
     ]
    }
   ],
   "source": [
    "# Suppression des individus de la table 'pop'\n",
    "pop = pop.loc[~np.isnan(pop['%evopop'])]\n",
    "\n",
    "# Nous re-effectuons le test sur les valeurs manquantes\n",
    "pop.info()"
   ]
  },
  {
   "cell_type": "markdown",
   "metadata": {},
   "source": [
    "> Nous n'avons donc plus de valeur manquante au sein de la table 'pop' "
   ]
  },
  {
   "cell_type": "code",
   "execution_count": 9,
   "metadata": {},
   "outputs": [
    {
     "data": {
      "text/html": [
       "<div>\n",
       "<style scoped>\n",
       "    .dataframe tbody tr th:only-of-type {\n",
       "        vertical-align: middle;\n",
       "    }\n",
       "\n",
       "    .dataframe tbody tr th {\n",
       "        vertical-align: top;\n",
       "    }\n",
       "\n",
       "    .dataframe thead th {\n",
       "        text-align: right;\n",
       "    }\n",
       "</style>\n",
       "<table border=\"1\" class=\"dataframe\">\n",
       "  <thead>\n",
       "    <tr style=\"text-align: right;\">\n",
       "      <th></th>\n",
       "      <th>Code Pays</th>\n",
       "      <th>Pays</th>\n",
       "      <th>pop2013</th>\n",
       "      <th>%evopop</th>\n",
       "    </tr>\n",
       "  </thead>\n",
       "  <tbody>\n",
       "    <tr>\n",
       "      <th>0</th>\n",
       "      <td>1</td>\n",
       "      <td>Arménie</td>\n",
       "      <td>2893509.0</td>\n",
       "      <td>-0.505842</td>\n",
       "    </tr>\n",
       "    <tr>\n",
       "      <th>1</th>\n",
       "      <td>2</td>\n",
       "      <td>Afghanistan</td>\n",
       "      <td>31731688.0</td>\n",
       "      <td>16.258709</td>\n",
       "    </tr>\n",
       "    <tr>\n",
       "      <th>2</th>\n",
       "      <td>3</td>\n",
       "      <td>Albanie</td>\n",
       "      <td>2918978.0</td>\n",
       "      <td>-2.429194</td>\n",
       "    </tr>\n",
       "    <tr>\n",
       "      <th>3</th>\n",
       "      <td>4</td>\n",
       "      <td>Algérie</td>\n",
       "      <td>38338562.0</td>\n",
       "      <td>9.976408</td>\n",
       "    </tr>\n",
       "    <tr>\n",
       "      <th>4</th>\n",
       "      <td>5</td>\n",
       "      <td>Samoa américaines</td>\n",
       "      <td>55307.0</td>\n",
       "      <td>-3.021217</td>\n",
       "    </tr>\n",
       "  </tbody>\n",
       "</table>\n",
       "</div>"
      ],
      "text/plain": [
       "   Code Pays               Pays     pop2013    %evopop\n",
       "0          1            Arménie   2893509.0  -0.505842\n",
       "1          2        Afghanistan  31731688.0  16.258709\n",
       "2          3            Albanie   2918978.0  -2.429194\n",
       "3          4            Algérie  38338562.0   9.976408\n",
       "4          5  Samoa américaines     55307.0  -3.021217"
      ]
     },
     "execution_count": 9,
     "metadata": {},
     "output_type": "execute_result"
    }
   ],
   "source": [
    "# Nous ne conservons que les colonnes utiles à notre travail\n",
    "pop = pop.drop(columns=['Produit', '2008'])\n",
    "\n",
    "# Renommage des colonnes \n",
    "pop.columns = ['Code Pays', 'Pays', 'pop2013','%evopop']\n",
    "\n",
    "# On observe\n",
    "pop.head()"
   ]
  },
  {
   "cell_type": "markdown",
   "metadata": {},
   "source": [
    "<div style=\"border: 1px solid RGB(106,90,205);\">\n",
    "<h3 style=\"margin: auto; padding: 20px; color: RGB(106,90,205);\">Recherche des valeurs aberrantes</h3>\n",
    "</div>"
   ]
  },
  {
   "cell_type": "code",
   "execution_count": 10,
   "metadata": {},
   "outputs": [
    {
     "data": {
      "text/html": [
       "<div>\n",
       "<style scoped>\n",
       "    .dataframe tbody tr th:only-of-type {\n",
       "        vertical-align: middle;\n",
       "    }\n",
       "\n",
       "    .dataframe tbody tr th {\n",
       "        vertical-align: top;\n",
       "    }\n",
       "\n",
       "    .dataframe thead th {\n",
       "        text-align: right;\n",
       "    }\n",
       "</style>\n",
       "<table border=\"1\" class=\"dataframe\">\n",
       "  <thead>\n",
       "    <tr style=\"text-align: right;\">\n",
       "      <th></th>\n",
       "      <th>Code Pays</th>\n",
       "      <th>Pays</th>\n",
       "      <th>pop2013</th>\n",
       "      <th>%evopop</th>\n",
       "    </tr>\n",
       "  </thead>\n",
       "  <tbody>\n",
       "    <tr>\n",
       "      <th>0</th>\n",
       "      <td>1</td>\n",
       "      <td>Arménie</td>\n",
       "      <td>2893509.0</td>\n",
       "      <td>-0.505842</td>\n",
       "    </tr>\n",
       "    <tr>\n",
       "      <th>1</th>\n",
       "      <td>2</td>\n",
       "      <td>Afghanistan</td>\n",
       "      <td>31731688.0</td>\n",
       "      <td>16.258709</td>\n",
       "    </tr>\n",
       "    <tr>\n",
       "      <th>2</th>\n",
       "      <td>3</td>\n",
       "      <td>Albanie</td>\n",
       "      <td>2918978.0</td>\n",
       "      <td>-2.429194</td>\n",
       "    </tr>\n",
       "    <tr>\n",
       "      <th>3</th>\n",
       "      <td>4</td>\n",
       "      <td>Algérie</td>\n",
       "      <td>38338562.0</td>\n",
       "      <td>9.976408</td>\n",
       "    </tr>\n",
       "    <tr>\n",
       "      <th>4</th>\n",
       "      <td>5</td>\n",
       "      <td>Samoa américaines</td>\n",
       "      <td>55307.0</td>\n",
       "      <td>-3.021217</td>\n",
       "    </tr>\n",
       "  </tbody>\n",
       "</table>\n",
       "</div>"
      ],
      "text/plain": [
       "   Code Pays               Pays     pop2013    %evopop\n",
       "0          1            Arménie   2893509.0  -0.505842\n",
       "1          2        Afghanistan  31731688.0  16.258709\n",
       "2          3            Albanie   2918978.0  -2.429194\n",
       "3          4            Algérie  38338562.0   9.976408\n",
       "4          5  Samoa américaines     55307.0  -3.021217"
      ]
     },
     "execution_count": 10,
     "metadata": {},
     "output_type": "execute_result"
    }
   ],
   "source": [
    "# Nous faisons un trie ascendant et descendant sur la variable 'Code Pays' avec la méthode .sort_values()\n",
    "pop.sort_values(by='Code Pays',ascending=True).head()"
   ]
  },
  {
   "cell_type": "code",
   "execution_count": 11,
   "metadata": {},
   "outputs": [
    {
     "data": {
      "text/html": [
       "<div>\n",
       "<style scoped>\n",
       "    .dataframe tbody tr th:only-of-type {\n",
       "        vertical-align: middle;\n",
       "    }\n",
       "\n",
       "    .dataframe tbody tr th {\n",
       "        vertical-align: top;\n",
       "    }\n",
       "\n",
       "    .dataframe thead th {\n",
       "        text-align: right;\n",
       "    }\n",
       "</style>\n",
       "<table border=\"1\" class=\"dataframe\">\n",
       "  <thead>\n",
       "    <tr style=\"text-align: right;\">\n",
       "      <th></th>\n",
       "      <th>Code Pays</th>\n",
       "      <th>Pays</th>\n",
       "      <th>pop2013</th>\n",
       "      <th>%evopop</th>\n",
       "    </tr>\n",
       "  </thead>\n",
       "  <tbody>\n",
       "    <tr>\n",
       "      <th>231</th>\n",
       "      <td>299</td>\n",
       "      <td>Territoire palestinien occupé</td>\n",
       "      <td>4414644.0</td>\n",
       "      <td>14.597320</td>\n",
       "    </tr>\n",
       "    <tr>\n",
       "      <th>228</th>\n",
       "      <td>273</td>\n",
       "      <td>Monténégro</td>\n",
       "      <td>627094.0</td>\n",
       "      <td>0.947996</td>\n",
       "    </tr>\n",
       "    <tr>\n",
       "      <th>227</th>\n",
       "      <td>272</td>\n",
       "      <td>Serbie</td>\n",
       "      <td>8920215.0</td>\n",
       "      <td>-1.970833</td>\n",
       "    </tr>\n",
       "    <tr>\n",
       "      <th>226</th>\n",
       "      <td>270</td>\n",
       "      <td>Mayotte</td>\n",
       "      <td>227351.0</td>\n",
       "      <td>15.830527</td>\n",
       "    </tr>\n",
       "    <tr>\n",
       "      <th>225</th>\n",
       "      <td>264</td>\n",
       "      <td>Île de Man</td>\n",
       "      <td>82013.0</td>\n",
       "      <td>4.429928</td>\n",
       "    </tr>\n",
       "  </tbody>\n",
       "</table>\n",
       "</div>"
      ],
      "text/plain": [
       "     Code Pays                           Pays    pop2013    %evopop\n",
       "231        299  Territoire palestinien occupé  4414644.0  14.597320\n",
       "228        273                     Monténégro   627094.0   0.947996\n",
       "227        272                         Serbie  8920215.0  -1.970833\n",
       "226        270                        Mayotte   227351.0  15.830527\n",
       "225        264                     Île de Man    82013.0   4.429928"
      ]
     },
     "execution_count": 11,
     "metadata": {},
     "output_type": "execute_result"
    }
   ],
   "source": [
    "pop.sort_values(by='Code Pays',ascending=False).head()"
   ]
  },
  {
   "cell_type": "markdown",
   "metadata": {},
   "source": [
    "> La variable 'Code Pays' ne contient pas de valeur aberrante"
   ]
  },
  {
   "cell_type": "code",
   "execution_count": 12,
   "metadata": {},
   "outputs": [
    {
     "data": {
      "text/html": [
       "<div>\n",
       "<style scoped>\n",
       "    .dataframe tbody tr th:only-of-type {\n",
       "        vertical-align: middle;\n",
       "    }\n",
       "\n",
       "    .dataframe tbody tr th {\n",
       "        vertical-align: top;\n",
       "    }\n",
       "\n",
       "    .dataframe thead th {\n",
       "        text-align: right;\n",
       "    }\n",
       "</style>\n",
       "<table border=\"1\" class=\"dataframe\">\n",
       "  <thead>\n",
       "    <tr style=\"text-align: right;\">\n",
       "      <th></th>\n",
       "      <th>Code Pays</th>\n",
       "      <th>Pays</th>\n",
       "      <th>pop2013</th>\n",
       "      <th>%evopop</th>\n",
       "    </tr>\n",
       "  </thead>\n",
       "  <tbody>\n",
       "    <tr>\n",
       "      <th>1</th>\n",
       "      <td>2</td>\n",
       "      <td>Afghanistan</td>\n",
       "      <td>31731688.0</td>\n",
       "      <td>16.258709</td>\n",
       "    </tr>\n",
       "    <tr>\n",
       "      <th>180</th>\n",
       "      <td>202</td>\n",
       "      <td>Afrique du Sud</td>\n",
       "      <td>53767396.0</td>\n",
       "      <td>6.655674</td>\n",
       "    </tr>\n",
       "    <tr>\n",
       "      <th>2</th>\n",
       "      <td>3</td>\n",
       "      <td>Albanie</td>\n",
       "      <td>2918978.0</td>\n",
       "      <td>-2.429194</td>\n",
       "    </tr>\n",
       "    <tr>\n",
       "      <th>3</th>\n",
       "      <td>4</td>\n",
       "      <td>Algérie</td>\n",
       "      <td>38338562.0</td>\n",
       "      <td>9.976408</td>\n",
       "    </tr>\n",
       "    <tr>\n",
       "      <th>65</th>\n",
       "      <td>79</td>\n",
       "      <td>Allemagne</td>\n",
       "      <td>81265139.0</td>\n",
       "      <td>0.165405</td>\n",
       "    </tr>\n",
       "  </tbody>\n",
       "</table>\n",
       "</div>"
      ],
      "text/plain": [
       "     Code Pays            Pays     pop2013    %evopop\n",
       "1            2     Afghanistan  31731688.0  16.258709\n",
       "180        202  Afrique du Sud  53767396.0   6.655674\n",
       "2            3         Albanie   2918978.0  -2.429194\n",
       "3            4         Algérie  38338562.0   9.976408\n",
       "65          79       Allemagne  81265139.0   0.165405"
      ]
     },
     "execution_count": 12,
     "metadata": {},
     "output_type": "execute_result"
    }
   ],
   "source": [
    "# Nous faisons un trie ascendant et descendant sur la variable 'Pays' avec la méthode .sort_values()\n",
    "pop.sort_values(by='Pays',ascending=True).head()"
   ]
  },
  {
   "cell_type": "code",
   "execution_count": 13,
   "metadata": {},
   "outputs": [
    {
     "data": {
      "text/html": [
       "<div>\n",
       "<style scoped>\n",
       "    .dataframe tbody tr th:only-of-type {\n",
       "        vertical-align: middle;\n",
       "    }\n",
       "\n",
       "    .dataframe tbody tr th {\n",
       "        vertical-align: top;\n",
       "    }\n",
       "\n",
       "    .dataframe thead th {\n",
       "        text-align: right;\n",
       "    }\n",
       "</style>\n",
       "<table border=\"1\" class=\"dataframe\">\n",
       "  <thead>\n",
       "    <tr style=\"text-align: right;\">\n",
       "      <th></th>\n",
       "      <th>Code Pays</th>\n",
       "      <th>Pays</th>\n",
       "      <th>pop2013</th>\n",
       "      <th>%evopop</th>\n",
       "    </tr>\n",
       "  </thead>\n",
       "  <tbody>\n",
       "    <tr>\n",
       "      <th>216</th>\n",
       "      <td>243</td>\n",
       "      <td>Îles Wallis et Futuna</td>\n",
       "      <td>12551.0</td>\n",
       "      <td>-10.247426</td>\n",
       "    </tr>\n",
       "    <tr>\n",
       "      <th>214</th>\n",
       "      <td>239</td>\n",
       "      <td>Îles Vierges britanniques</td>\n",
       "      <td>29056.0</td>\n",
       "      <td>13.482268</td>\n",
       "    </tr>\n",
       "    <tr>\n",
       "      <th>215</th>\n",
       "      <td>240</td>\n",
       "      <td>Îles Vierges américaines</td>\n",
       "      <td>105311.0</td>\n",
       "      <td>-1.392348</td>\n",
       "    </tr>\n",
       "    <tr>\n",
       "      <th>201</th>\n",
       "      <td>224</td>\n",
       "      <td>Îles Turques et Caïques</td>\n",
       "      <td>33108.0</td>\n",
       "      <td>12.302839</td>\n",
       "    </tr>\n",
       "    <tr>\n",
       "      <th>22</th>\n",
       "      <td>25</td>\n",
       "      <td>Îles Salomon</td>\n",
       "      <td>563513.0</td>\n",
       "      <td>11.702417</td>\n",
       "    </tr>\n",
       "  </tbody>\n",
       "</table>\n",
       "</div>"
      ],
      "text/plain": [
       "     Code Pays                       Pays   pop2013    %evopop\n",
       "216        243      Îles Wallis et Futuna   12551.0 -10.247426\n",
       "214        239  Îles Vierges britanniques   29056.0  13.482268\n",
       "215        240   Îles Vierges américaines  105311.0  -1.392348\n",
       "201        224    Îles Turques et Caïques   33108.0  12.302839\n",
       "22          25               Îles Salomon  563513.0  11.702417"
      ]
     },
     "execution_count": 13,
     "metadata": {},
     "output_type": "execute_result"
    }
   ],
   "source": [
    "pop.sort_values(by='Pays',ascending=False).head()"
   ]
  },
  {
   "cell_type": "markdown",
   "metadata": {},
   "source": [
    "> La variable 'Pays' ne contient pas de valeur aberrante"
   ]
  },
  {
   "cell_type": "code",
   "execution_count": 14,
   "metadata": {},
   "outputs": [
    {
     "data": {
      "text/html": [
       "<div>\n",
       "<style scoped>\n",
       "    .dataframe tbody tr th:only-of-type {\n",
       "        vertical-align: middle;\n",
       "    }\n",
       "\n",
       "    .dataframe tbody tr th {\n",
       "        vertical-align: top;\n",
       "    }\n",
       "\n",
       "    .dataframe thead th {\n",
       "        text-align: right;\n",
       "    }\n",
       "</style>\n",
       "<table border=\"1\" class=\"dataframe\">\n",
       "  <thead>\n",
       "    <tr style=\"text-align: right;\">\n",
       "      <th></th>\n",
       "      <th>Code Pays</th>\n",
       "      <th>Pays</th>\n",
       "      <th>pop2013</th>\n",
       "      <th>%evopop</th>\n",
       "    </tr>\n",
       "  </thead>\n",
       "  <tbody>\n",
       "    <tr>\n",
       "      <th>216</th>\n",
       "      <td>243</td>\n",
       "      <td>Îles Wallis et Futuna</td>\n",
       "      <td>12551.0</td>\n",
       "      <td>-10.247426</td>\n",
       "    </tr>\n",
       "    <tr>\n",
       "      <th>39</th>\n",
       "      <td>47</td>\n",
       "      <td>Îles Cook</td>\n",
       "      <td>17767.0</td>\n",
       "      <td>-7.521341</td>\n",
       "    </tr>\n",
       "    <tr>\n",
       "      <th>62</th>\n",
       "      <td>73</td>\n",
       "      <td>Géorgie</td>\n",
       "      <td>4045910.0</td>\n",
       "      <td>-6.787307</td>\n",
       "    </tr>\n",
       "    <tr>\n",
       "      <th>110</th>\n",
       "      <td>126</td>\n",
       "      <td>Lituanie</td>\n",
       "      <td>2997334.0</td>\n",
       "      <td>-6.759509</td>\n",
       "    </tr>\n",
       "    <tr>\n",
       "      <th>103</th>\n",
       "      <td>119</td>\n",
       "      <td>Lettonie</td>\n",
       "      <td>2040784.0</td>\n",
       "      <td>-6.036104</td>\n",
       "    </tr>\n",
       "  </tbody>\n",
       "</table>\n",
       "</div>"
      ],
      "text/plain": [
       "     Code Pays                   Pays    pop2013    %evopop\n",
       "216        243  Îles Wallis et Futuna    12551.0 -10.247426\n",
       "39          47              Îles Cook    17767.0  -7.521341\n",
       "62          73                Géorgie  4045910.0  -6.787307\n",
       "110        126               Lituanie  2997334.0  -6.759509\n",
       "103        119               Lettonie  2040784.0  -6.036104"
      ]
     },
     "execution_count": 14,
     "metadata": {},
     "output_type": "execute_result"
    }
   ],
   "source": [
    "# Nous faisons un trie ascendant et descendant sur la variable '%evopop' avec la méthode .sort_values()\n",
    "pop.sort_values(by='%evopop',ascending=True).head()"
   ]
  },
  {
   "cell_type": "code",
   "execution_count": 15,
   "metadata": {
    "scrolled": true
   },
   "outputs": [
    {
     "data": {
      "text/html": [
       "<div>\n",
       "<style scoped>\n",
       "    .dataframe tbody tr th:only-of-type {\n",
       "        vertical-align: middle;\n",
       "    }\n",
       "\n",
       "    .dataframe tbody tr th {\n",
       "        vertical-align: top;\n",
       "    }\n",
       "\n",
       "    .dataframe thead th {\n",
       "        text-align: right;\n",
       "    }\n",
       "</style>\n",
       "<table border=\"1\" class=\"dataframe\">\n",
       "  <thead>\n",
       "    <tr style=\"text-align: right;\">\n",
       "      <th></th>\n",
       "      <th>Code Pays</th>\n",
       "      <th>Pays</th>\n",
       "      <th>pop2013</th>\n",
       "      <th>%evopop</th>\n",
       "    </tr>\n",
       "  </thead>\n",
       "  <tbody>\n",
       "    <tr>\n",
       "      <th>158</th>\n",
       "      <td>179</td>\n",
       "      <td>Qatar</td>\n",
       "      <td>2250473.0</td>\n",
       "      <td>61.981211</td>\n",
       "    </tr>\n",
       "    <tr>\n",
       "      <th>102</th>\n",
       "      <td>118</td>\n",
       "      <td>Koweït</td>\n",
       "      <td>3598385.0</td>\n",
       "      <td>35.668316</td>\n",
       "    </tr>\n",
       "    <tr>\n",
       "      <th>198</th>\n",
       "      <td>221</td>\n",
       "      <td>Oman</td>\n",
       "      <td>3711481.0</td>\n",
       "      <td>34.522007</td>\n",
       "    </tr>\n",
       "    <tr>\n",
       "      <th>202</th>\n",
       "      <td>225</td>\n",
       "      <td>Émirats arabes unis</td>\n",
       "      <td>9006263.0</td>\n",
       "      <td>30.633882</td>\n",
       "    </tr>\n",
       "    <tr>\n",
       "      <th>96</th>\n",
       "      <td>112</td>\n",
       "      <td>Jordanie</td>\n",
       "      <td>8413464.0</td>\n",
       "      <td>29.640905</td>\n",
       "    </tr>\n",
       "  </tbody>\n",
       "</table>\n",
       "</div>"
      ],
      "text/plain": [
       "     Code Pays                 Pays    pop2013    %evopop\n",
       "158        179                Qatar  2250473.0  61.981211\n",
       "102        118               Koweït  3598385.0  35.668316\n",
       "198        221                 Oman  3711481.0  34.522007\n",
       "202        225  Émirats arabes unis  9006263.0  30.633882\n",
       "96         112             Jordanie  8413464.0  29.640905"
      ]
     },
     "execution_count": 15,
     "metadata": {},
     "output_type": "execute_result"
    }
   ],
   "source": [
    "pop.sort_values(by='%evopop',ascending=False).head()"
   ]
  },
  {
   "cell_type": "markdown",
   "metadata": {},
   "source": [
    "> La variable '%evopop' ne contient pas de valeur aberrante"
   ]
  },
  {
   "cell_type": "markdown",
   "metadata": {},
   "source": [
    "<div style=\"border: 1px solid RGB(106,90,205);\">\n",
    "<h3 style=\"margin: auto; padding: 20px; color: RGB(106,90,205);\">Recherche des doublons</h3>\n",
    "</div>"
   ]
  },
  {
   "cell_type": "code",
   "execution_count": 16,
   "metadata": {},
   "outputs": [
    {
     "data": {
      "text/plain": [
       "228"
      ]
     },
     "execution_count": 16,
     "metadata": {},
     "output_type": "execute_result"
    }
   ],
   "source": [
    "# Recherche du nombre d'éléments au sein de la table 'pop'\n",
    "len(pop)"
   ]
  },
  {
   "cell_type": "code",
   "execution_count": 17,
   "metadata": {},
   "outputs": [
    {
     "data": {
      "text/plain": [
       "228"
      ]
     },
     "execution_count": 17,
     "metadata": {},
     "output_type": "execute_result"
    }
   ],
   "source": [
    "# Détection et suppression des doublons \n",
    "pop.drop_duplicates(keep='first',inplace=True)\n",
    "len(pop)"
   ]
  },
  {
   "cell_type": "markdown",
   "metadata": {},
   "source": [
    "> Au regard du nombre d'éléments  après traitement, le table 'pop' ne contient plus, ni valeur manquante, ni valeur aberrante, ni doublon"
   ]
  },
  {
   "cell_type": "markdown",
   "metadata": {},
   "source": [
    "<div style=\"border: 1px solid RGB(106,90,205);\">\n",
    "<h3 style=\"margin: auto; padding: 20px; color: RGB(106,90,205);\">Importation du fichier relatif au PIB</h3>\n",
    "</div>"
   ]
  },
  {
   "cell_type": "code",
   "execution_count": 18,
   "metadata": {},
   "outputs": [
    {
     "data": {
      "text/html": [
       "<div>\n",
       "<style scoped>\n",
       "    .dataframe tbody tr th:only-of-type {\n",
       "        vertical-align: middle;\n",
       "    }\n",
       "\n",
       "    .dataframe tbody tr th {\n",
       "        vertical-align: top;\n",
       "    }\n",
       "\n",
       "    .dataframe thead th {\n",
       "        text-align: right;\n",
       "    }\n",
       "</style>\n",
       "<table border=\"1\" class=\"dataframe\">\n",
       "  <thead>\n",
       "    <tr style=\"text-align: right;\">\n",
       "      <th></th>\n",
       "      <th>Code Domaine</th>\n",
       "      <th>Domaine</th>\n",
       "      <th>Code zone</th>\n",
       "      <th>Zone</th>\n",
       "      <th>Code Élément</th>\n",
       "      <th>Élément</th>\n",
       "      <th>Code Produit</th>\n",
       "      <th>Produit</th>\n",
       "      <th>Code année</th>\n",
       "      <th>Année</th>\n",
       "      <th>Unité</th>\n",
       "      <th>Valeur</th>\n",
       "      <th>Symbole</th>\n",
       "      <th>Description du Symbole</th>\n",
       "      <th>Note</th>\n",
       "    </tr>\n",
       "  </thead>\n",
       "  <tbody>\n",
       "    <tr>\n",
       "      <th>0</th>\n",
       "      <td>MK</td>\n",
       "      <td>Indicateurs macro</td>\n",
       "      <td>2</td>\n",
       "      <td>Afghanistan</td>\n",
       "      <td>6110</td>\n",
       "      <td>Valeur (US $)</td>\n",
       "      <td>22008</td>\n",
       "      <td>Produit Intérieur Brut</td>\n",
       "      <td>2013</td>\n",
       "      <td>2013</td>\n",
       "      <td>millions</td>\n",
       "      <td>2.161036e+04</td>\n",
       "      <td>X</td>\n",
       "      <td>Sources internationales sûres</td>\n",
       "      <td>Data from UNSD AMA</td>\n",
       "    </tr>\n",
       "    <tr>\n",
       "      <th>1</th>\n",
       "      <td>MK</td>\n",
       "      <td>Indicateurs macro</td>\n",
       "      <td>202</td>\n",
       "      <td>Afrique du Sud</td>\n",
       "      <td>6110</td>\n",
       "      <td>Valeur (US $)</td>\n",
       "      <td>22008</td>\n",
       "      <td>Produit Intérieur Brut</td>\n",
       "      <td>2013</td>\n",
       "      <td>2013</td>\n",
       "      <td>millions</td>\n",
       "      <td>3.666257e+05</td>\n",
       "      <td>X</td>\n",
       "      <td>Sources internationales sûres</td>\n",
       "      <td>Data from UNSD AMA</td>\n",
       "    </tr>\n",
       "    <tr>\n",
       "      <th>2</th>\n",
       "      <td>MK</td>\n",
       "      <td>Indicateurs macro</td>\n",
       "      <td>3</td>\n",
       "      <td>Albanie</td>\n",
       "      <td>6110</td>\n",
       "      <td>Valeur (US $)</td>\n",
       "      <td>22008</td>\n",
       "      <td>Produit Intérieur Brut</td>\n",
       "      <td>2013</td>\n",
       "      <td>2013</td>\n",
       "      <td>millions</td>\n",
       "      <td>1.277628e+04</td>\n",
       "      <td>X</td>\n",
       "      <td>Sources internationales sûres</td>\n",
       "      <td>Data from UNSD AMA</td>\n",
       "    </tr>\n",
       "    <tr>\n",
       "      <th>3</th>\n",
       "      <td>MK</td>\n",
       "      <td>Indicateurs macro</td>\n",
       "      <td>4</td>\n",
       "      <td>Algérie</td>\n",
       "      <td>6110</td>\n",
       "      <td>Valeur (US $)</td>\n",
       "      <td>22008</td>\n",
       "      <td>Produit Intérieur Brut</td>\n",
       "      <td>2013</td>\n",
       "      <td>2013</td>\n",
       "      <td>millions</td>\n",
       "      <td>2.097835e+05</td>\n",
       "      <td>X</td>\n",
       "      <td>Sources internationales sûres</td>\n",
       "      <td>Data from UNSD AMA</td>\n",
       "    </tr>\n",
       "    <tr>\n",
       "      <th>4</th>\n",
       "      <td>MK</td>\n",
       "      <td>Indicateurs macro</td>\n",
       "      <td>79</td>\n",
       "      <td>Allemagne</td>\n",
       "      <td>6110</td>\n",
       "      <td>Valeur (US $)</td>\n",
       "      <td>22008</td>\n",
       "      <td>Produit Intérieur Brut</td>\n",
       "      <td>2013</td>\n",
       "      <td>2013</td>\n",
       "      <td>millions</td>\n",
       "      <td>3.752514e+06</td>\n",
       "      <td>X</td>\n",
       "      <td>Sources internationales sûres</td>\n",
       "      <td>Data from UNSD AMA</td>\n",
       "    </tr>\n",
       "  </tbody>\n",
       "</table>\n",
       "</div>"
      ],
      "text/plain": [
       "  Code Domaine            Domaine  Code zone            Zone  Code Élément  \\\n",
       "0           MK  Indicateurs macro          2     Afghanistan          6110   \n",
       "1           MK  Indicateurs macro        202  Afrique du Sud          6110   \n",
       "2           MK  Indicateurs macro          3         Albanie          6110   \n",
       "3           MK  Indicateurs macro          4         Algérie          6110   \n",
       "4           MK  Indicateurs macro         79       Allemagne          6110   \n",
       "\n",
       "         Élément  Code Produit                 Produit  Code année  Année  \\\n",
       "0  Valeur (US $)         22008  Produit Intérieur Brut        2013   2013   \n",
       "1  Valeur (US $)         22008  Produit Intérieur Brut        2013   2013   \n",
       "2  Valeur (US $)         22008  Produit Intérieur Brut        2013   2013   \n",
       "3  Valeur (US $)         22008  Produit Intérieur Brut        2013   2013   \n",
       "4  Valeur (US $)         22008  Produit Intérieur Brut        2013   2013   \n",
       "\n",
       "      Unité        Valeur Symbole         Description du Symbole  \\\n",
       "0  millions  2.161036e+04       X  Sources internationales sûres   \n",
       "1  millions  3.666257e+05       X  Sources internationales sûres   \n",
       "2  millions  1.277628e+04       X  Sources internationales sûres   \n",
       "3  millions  2.097835e+05       X  Sources internationales sûres   \n",
       "4  millions  3.752514e+06       X  Sources internationales sûres   \n",
       "\n",
       "                 Note  \n",
       "0  Data from UNSD AMA  \n",
       "1  Data from UNSD AMA  \n",
       "2  Data from UNSD AMA  \n",
       "3  Data from UNSD AMA  \n",
       "4  Data from UNSD AMA  "
      ]
     },
     "execution_count": 18,
     "metadata": {},
     "output_type": "execute_result"
    }
   ],
   "source": [
    "# On importe le fichier du PIB provenant du site de la 'FAO'\n",
    "# l'individu 'Chine' n'a pas été sélectionné, pour éviter les doublons\n",
    "pib = pd.read_csv(\"pib.csv\")\n",
    "\n",
    "# On observe\n",
    "pib.head()"
   ]
  },
  {
   "cell_type": "code",
   "execution_count": 19,
   "metadata": {},
   "outputs": [],
   "source": [
    "# La variable 'Valeur' est mise à la bonne unité\n",
    "pib['Valeur'] = pib['Valeur']*1000000"
   ]
  },
  {
   "cell_type": "code",
   "execution_count": 20,
   "metadata": {},
   "outputs": [
    {
     "data": {
      "text/html": [
       "<div>\n",
       "<style scoped>\n",
       "    .dataframe tbody tr th:only-of-type {\n",
       "        vertical-align: middle;\n",
       "    }\n",
       "\n",
       "    .dataframe tbody tr th {\n",
       "        vertical-align: top;\n",
       "    }\n",
       "\n",
       "    .dataframe thead th {\n",
       "        text-align: right;\n",
       "    }\n",
       "</style>\n",
       "<table border=\"1\" class=\"dataframe\">\n",
       "  <thead>\n",
       "    <tr style=\"text-align: right;\">\n",
       "      <th></th>\n",
       "      <th>Code Pays</th>\n",
       "      <th>Pays</th>\n",
       "      <th>PIB</th>\n",
       "    </tr>\n",
       "  </thead>\n",
       "  <tbody>\n",
       "    <tr>\n",
       "      <th>0</th>\n",
       "      <td>1</td>\n",
       "      <td>Arménie</td>\n",
       "      <td>1.112146e+10</td>\n",
       "    </tr>\n",
       "    <tr>\n",
       "      <th>1</th>\n",
       "      <td>2</td>\n",
       "      <td>Afghanistan</td>\n",
       "      <td>2.161036e+10</td>\n",
       "    </tr>\n",
       "    <tr>\n",
       "      <th>2</th>\n",
       "      <td>3</td>\n",
       "      <td>Albanie</td>\n",
       "      <td>1.277628e+10</td>\n",
       "    </tr>\n",
       "    <tr>\n",
       "      <th>3</th>\n",
       "      <td>4</td>\n",
       "      <td>Algérie</td>\n",
       "      <td>2.097835e+11</td>\n",
       "    </tr>\n",
       "    <tr>\n",
       "      <th>4</th>\n",
       "      <td>6</td>\n",
       "      <td>Andorre</td>\n",
       "      <td>3.281763e+09</td>\n",
       "    </tr>\n",
       "  </tbody>\n",
       "</table>\n",
       "</div>"
      ],
      "text/plain": [
       "   Code Pays         Pays           PIB\n",
       "0          1      Arménie  1.112146e+10\n",
       "1          2  Afghanistan  2.161036e+10\n",
       "2          3      Albanie  1.277628e+10\n",
       "3          4      Algérie  2.097835e+11\n",
       "4          6      Andorre  3.281763e+09"
      ]
     },
     "execution_count": 20,
     "metadata": {},
     "output_type": "execute_result"
    }
   ],
   "source": [
    "# Formatage du dataframe\n",
    "pib = pib.pivot_table(values = [\"Valeur\"], index = [\"Code zone\", \"Zone\"],\n",
    "                      columns = [\"Produit\"], aggfunc = sum)\n",
    "pib.columns = ['Produit Intérieur Brut']\n",
    "pib = pib.reset_index()\n",
    "\n",
    "# Renommage des colonnes\n",
    "pib.columns = ['Code Pays', 'Pays', 'PIB']\n",
    "\n",
    "# On observe\n",
    "pib.head()"
   ]
  },
  {
   "cell_type": "markdown",
   "metadata": {},
   "source": [
    "<div style=\"border: 1px solid RGB(106,90,205);\">\n",
    "<h3 style=\"margin: auto; padding: 20px; color: RGB(106,90,205);\">Recherche des valeurs manquantes</h3>\n",
    "</div>"
   ]
  },
  {
   "cell_type": "code",
   "execution_count": 21,
   "metadata": {},
   "outputs": [
    {
     "name": "stdout",
     "output_type": "stream",
     "text": [
      "<class 'pandas.core.frame.DataFrame'>\n",
      "RangeIndex: 209 entries, 0 to 208\n",
      "Data columns (total 3 columns):\n",
      "Code Pays    209 non-null int64\n",
      "Pays         209 non-null object\n",
      "PIB          209 non-null float64\n",
      "dtypes: float64(1), int64(1), object(1)\n",
      "memory usage: 5.0+ KB\n"
     ]
    }
   ],
   "source": [
    "pib.info()"
   ]
  },
  {
   "cell_type": "markdown",
   "metadata": {},
   "source": [
    "> Nous n'avons pas de valeur manquante au sein de la table 'pib'"
   ]
  },
  {
   "cell_type": "markdown",
   "metadata": {},
   "source": [
    "<div style=\"border: 1px solid RGB(106,90,205);\">\n",
    "<h3 style=\"margin: auto; padding: 20px; color: RGB(106,90,205);\">Jointure entière sur les tables 'pop' et 'pib'</h3>\n",
    "</div>"
   ]
  },
  {
   "cell_type": "code",
   "execution_count": 22,
   "metadata": {
    "scrolled": true
   },
   "outputs": [
    {
     "data": {
      "text/html": [
       "<div>\n",
       "<style scoped>\n",
       "    .dataframe tbody tr th:only-of-type {\n",
       "        vertical-align: middle;\n",
       "    }\n",
       "\n",
       "    .dataframe tbody tr th {\n",
       "        vertical-align: top;\n",
       "    }\n",
       "\n",
       "    .dataframe thead th {\n",
       "        text-align: right;\n",
       "    }\n",
       "</style>\n",
       "<table border=\"1\" class=\"dataframe\">\n",
       "  <thead>\n",
       "    <tr style=\"text-align: right;\">\n",
       "      <th></th>\n",
       "      <th>Code Pays</th>\n",
       "      <th>Pays</th>\n",
       "      <th>pop2013</th>\n",
       "      <th>%evopop</th>\n",
       "      <th>PIB</th>\n",
       "    </tr>\n",
       "  </thead>\n",
       "  <tbody>\n",
       "    <tr>\n",
       "      <th>0</th>\n",
       "      <td>1</td>\n",
       "      <td>Arménie</td>\n",
       "      <td>2893509.0</td>\n",
       "      <td>-0.505842</td>\n",
       "      <td>1.112146e+10</td>\n",
       "    </tr>\n",
       "    <tr>\n",
       "      <th>1</th>\n",
       "      <td>2</td>\n",
       "      <td>Afghanistan</td>\n",
       "      <td>31731688.0</td>\n",
       "      <td>16.258709</td>\n",
       "      <td>2.161036e+10</td>\n",
       "    </tr>\n",
       "    <tr>\n",
       "      <th>2</th>\n",
       "      <td>3</td>\n",
       "      <td>Albanie</td>\n",
       "      <td>2918978.0</td>\n",
       "      <td>-2.429194</td>\n",
       "      <td>1.277628e+10</td>\n",
       "    </tr>\n",
       "    <tr>\n",
       "      <th>3</th>\n",
       "      <td>4</td>\n",
       "      <td>Algérie</td>\n",
       "      <td>38338562.0</td>\n",
       "      <td>9.976408</td>\n",
       "      <td>2.097835e+11</td>\n",
       "    </tr>\n",
       "    <tr>\n",
       "      <th>4</th>\n",
       "      <td>5</td>\n",
       "      <td>Samoa américaines</td>\n",
       "      <td>55307.0</td>\n",
       "      <td>-3.021217</td>\n",
       "      <td>NaN</td>\n",
       "    </tr>\n",
       "  </tbody>\n",
       "</table>\n",
       "</div>"
      ],
      "text/plain": [
       "   Code Pays               Pays     pop2013    %evopop           PIB\n",
       "0          1            Arménie   2893509.0  -0.505842  1.112146e+10\n",
       "1          2        Afghanistan  31731688.0  16.258709  2.161036e+10\n",
       "2          3            Albanie   2918978.0  -2.429194  1.277628e+10\n",
       "3          4            Algérie  38338562.0   9.976408  2.097835e+11\n",
       "4          5  Samoa américaines     55307.0  -3.021217           NaN"
      ]
     },
     "execution_count": 22,
     "metadata": {},
     "output_type": "execute_result"
    }
   ],
   "source": [
    "popib = pd.merge(pop, pib, how='outer', on=['Code Pays', 'Pays'])\n",
    "\n",
    "# On observe\n",
    "popib.head()"
   ]
  },
  {
   "cell_type": "markdown",
   "metadata": {},
   "source": [
    "<div style=\"border: 1px solid RGB(106,90,205);\">\n",
    "<h3 style=\"margin: auto; padding: 20px; color: RGB(106,90,205);\">Recherche des valeurs manquantes</h3>\n",
    "</div>"
   ]
  },
  {
   "cell_type": "code",
   "execution_count": 23,
   "metadata": {},
   "outputs": [
    {
     "name": "stdout",
     "output_type": "stream",
     "text": [
      "<class 'pandas.core.frame.DataFrame'>\n",
      "Int64Index: 231 entries, 0 to 230\n",
      "Data columns (total 5 columns):\n",
      "Code Pays    231 non-null int64\n",
      "Pays         231 non-null object\n",
      "pop2013      228 non-null float64\n",
      "%evopop      228 non-null float64\n",
      "PIB          209 non-null float64\n",
      "dtypes: float64(3), int64(1), object(1)\n",
      "memory usage: 10.8+ KB\n"
     ]
    }
   ],
   "source": [
    "# Recherche des valeurs manquantes au sein de la table 'popib'\n",
    "popib.info()"
   ]
  },
  {
   "cell_type": "markdown",
   "metadata": {},
   "source": [
    "> Nous observons des valeurs manquantes au sein des variables suivantes :\n",
    "> - 'pop2013'\n",
    "> - '%evopop'\n",
    "> - 'PIB'"
   ]
  },
  {
   "cell_type": "code",
   "execution_count": 24,
   "metadata": {},
   "outputs": [
    {
     "data": {
      "text/html": [
       "<div>\n",
       "<style scoped>\n",
       "    .dataframe tbody tr th:only-of-type {\n",
       "        vertical-align: middle;\n",
       "    }\n",
       "\n",
       "    .dataframe tbody tr th {\n",
       "        vertical-align: top;\n",
       "    }\n",
       "\n",
       "    .dataframe thead th {\n",
       "        text-align: right;\n",
       "    }\n",
       "</style>\n",
       "<table border=\"1\" class=\"dataframe\">\n",
       "  <thead>\n",
       "    <tr style=\"text-align: right;\">\n",
       "      <th></th>\n",
       "      <th>Code Pays</th>\n",
       "      <th>Pays</th>\n",
       "      <th>pop2013</th>\n",
       "      <th>%evopop</th>\n",
       "      <th>PIB</th>\n",
       "    </tr>\n",
       "  </thead>\n",
       "  <tbody>\n",
       "    <tr>\n",
       "      <th>228</th>\n",
       "      <td>275</td>\n",
       "      <td>Kosovo</td>\n",
       "      <td>NaN</td>\n",
       "      <td>NaN</td>\n",
       "      <td>7.072365e+09</td>\n",
       "    </tr>\n",
       "    <tr>\n",
       "      <th>229</th>\n",
       "      <td>279</td>\n",
       "      <td>Curaçao</td>\n",
       "      <td>NaN</td>\n",
       "      <td>NaN</td>\n",
       "      <td>3.147616e+09</td>\n",
       "    </tr>\n",
       "    <tr>\n",
       "      <th>230</th>\n",
       "      <td>280</td>\n",
       "      <td>Sint Maarten (Partie Néerlandaise)</td>\n",
       "      <td>NaN</td>\n",
       "      <td>NaN</td>\n",
       "      <td>1.022919e+09</td>\n",
       "    </tr>\n",
       "  </tbody>\n",
       "</table>\n",
       "</div>"
      ],
      "text/plain": [
       "     Code Pays                                Pays  pop2013  %evopop  \\\n",
       "228        275                              Kosovo      NaN      NaN   \n",
       "229        279                             Curaçao      NaN      NaN   \n",
       "230        280  Sint Maarten (Partie Néerlandaise)      NaN      NaN   \n",
       "\n",
       "              PIB  \n",
       "228  7.072365e+09  \n",
       "229  3.147616e+09  \n",
       "230  1.022919e+09  "
      ]
     },
     "execution_count": 24,
     "metadata": {},
     "output_type": "execute_result"
    }
   ],
   "source": [
    "# Recherche des individus de la variable 'pop2013' avec une valeur 'NaN'\n",
    "popib.loc[np.isnan(popib['pop2013']),:]"
   ]
  },
  {
   "cell_type": "code",
   "execution_count": 25,
   "metadata": {},
   "outputs": [
    {
     "name": "stdout",
     "output_type": "stream",
     "text": [
      "<class 'pandas.core.frame.DataFrame'>\n",
      "Int64Index: 228 entries, 0 to 227\n",
      "Data columns (total 5 columns):\n",
      "Code Pays    228 non-null int64\n",
      "Pays         228 non-null object\n",
      "pop2013      228 non-null float64\n",
      "%evopop      228 non-null float64\n",
      "PIB          206 non-null float64\n",
      "dtypes: float64(3), int64(1), object(1)\n",
      "memory usage: 10.7+ KB\n"
     ]
    }
   ],
   "source": [
    "# Suppression des individus de la table 'poppib'\n",
    "popib = popib.loc[~np.isnan(popib['pop2013']),:]\n",
    "\n",
    "# Nous re-effectuons le test sur les valeurs manquantes\n",
    "popib.info()"
   ]
  },
  {
   "cell_type": "code",
   "execution_count": 26,
   "metadata": {},
   "outputs": [
    {
     "data": {
      "text/html": [
       "<div>\n",
       "<style scoped>\n",
       "    .dataframe tbody tr th:only-of-type {\n",
       "        vertical-align: middle;\n",
       "    }\n",
       "\n",
       "    .dataframe tbody tr th {\n",
       "        vertical-align: top;\n",
       "    }\n",
       "\n",
       "    .dataframe thead th {\n",
       "        text-align: right;\n",
       "    }\n",
       "</style>\n",
       "<table border=\"1\" class=\"dataframe\">\n",
       "  <thead>\n",
       "    <tr style=\"text-align: right;\">\n",
       "      <th></th>\n",
       "      <th>Code Pays</th>\n",
       "      <th>Pays</th>\n",
       "      <th>pop2013</th>\n",
       "      <th>%evopop</th>\n",
       "      <th>PIB</th>\n",
       "    </tr>\n",
       "  </thead>\n",
       "  <tbody>\n",
       "    <tr>\n",
       "      <th>4</th>\n",
       "      <td>5</td>\n",
       "      <td>Samoa américaines</td>\n",
       "      <td>55307.0</td>\n",
       "      <td>-3.021217</td>\n",
       "      <td>NaN</td>\n",
       "    </tr>\n",
       "    <tr>\n",
       "      <th>54</th>\n",
       "      <td>64</td>\n",
       "      <td>Îles Féroé</td>\n",
       "      <td>48747.0</td>\n",
       "      <td>0.540373</td>\n",
       "      <td>NaN</td>\n",
       "    </tr>\n",
       "    <tr>\n",
       "      <th>55</th>\n",
       "      <td>65</td>\n",
       "      <td>Îles Falkland</td>\n",
       "      <td>2870.0</td>\n",
       "      <td>-0.519931</td>\n",
       "      <td>NaN</td>\n",
       "    </tr>\n",
       "    <tr>\n",
       "      <th>59</th>\n",
       "      <td>69</td>\n",
       "      <td>Guyane française</td>\n",
       "      <td>254503.0</td>\n",
       "      <td>14.408052</td>\n",
       "      <td>NaN</td>\n",
       "    </tr>\n",
       "    <tr>\n",
       "      <th>68</th>\n",
       "      <td>82</td>\n",
       "      <td>Gibraltar</td>\n",
       "      <td>33831.0</td>\n",
       "      <td>3.357571</td>\n",
       "      <td>NaN</td>\n",
       "    </tr>\n",
       "    <tr>\n",
       "      <th>73</th>\n",
       "      <td>87</td>\n",
       "      <td>Guadeloupe</td>\n",
       "      <td>451338.0</td>\n",
       "      <td>0.892600</td>\n",
       "      <td>NaN</td>\n",
       "    </tr>\n",
       "    <tr>\n",
       "      <th>74</th>\n",
       "      <td>88</td>\n",
       "      <td>Guam</td>\n",
       "      <td>160375.0</td>\n",
       "      <td>0.842582</td>\n",
       "      <td>NaN</td>\n",
       "    </tr>\n",
       "    <tr>\n",
       "      <th>79</th>\n",
       "      <td>94</td>\n",
       "      <td>Saint-Siège</td>\n",
       "      <td>801.0</td>\n",
       "      <td>0.881612</td>\n",
       "      <td>NaN</td>\n",
       "    </tr>\n",
       "    <tr>\n",
       "      <th>119</th>\n",
       "      <td>135</td>\n",
       "      <td>Martinique</td>\n",
       "      <td>389050.0</td>\n",
       "      <td>-2.028924</td>\n",
       "      <td>NaN</td>\n",
       "    </tr>\n",
       "    <tr>\n",
       "      <th>141</th>\n",
       "      <td>160</td>\n",
       "      <td>Nioué</td>\n",
       "      <td>1623.0</td>\n",
       "      <td>-0.976205</td>\n",
       "      <td>NaN</td>\n",
       "    </tr>\n",
       "    <tr>\n",
       "      <th>143</th>\n",
       "      <td>163</td>\n",
       "      <td>Îles Mariannes du Nord</td>\n",
       "      <td>54036.0</td>\n",
       "      <td>-5.911442</td>\n",
       "      <td>NaN</td>\n",
       "    </tr>\n",
       "    <tr>\n",
       "      <th>160</th>\n",
       "      <td>182</td>\n",
       "      <td>Réunion</td>\n",
       "      <td>850400.0</td>\n",
       "      <td>4.172919</td>\n",
       "      <td>NaN</td>\n",
       "    </tr>\n",
       "    <tr>\n",
       "      <th>164</th>\n",
       "      <td>187</td>\n",
       "      <td>Sainte-Hélène, Ascension et Tristan de Cunha</td>\n",
       "      <td>4081.0</td>\n",
       "      <td>-2.040326</td>\n",
       "      <td>NaN</td>\n",
       "    </tr>\n",
       "    <tr>\n",
       "      <th>167</th>\n",
       "      <td>190</td>\n",
       "      <td>Saint-Pierre-et-Miquelon</td>\n",
       "      <td>6273.0</td>\n",
       "      <td>0.063806</td>\n",
       "      <td>NaN</td>\n",
       "    </tr>\n",
       "    <tr>\n",
       "      <th>181</th>\n",
       "      <td>205</td>\n",
       "      <td>Sahara occidental</td>\n",
       "      <td>504855.0</td>\n",
       "      <td>7.729289</td>\n",
       "      <td>NaN</td>\n",
       "    </tr>\n",
       "    <tr>\n",
       "      <th>189</th>\n",
       "      <td>214</td>\n",
       "      <td>Chine, Taiwan Province de</td>\n",
       "      <td>23339858.0</td>\n",
       "      <td>1.793975</td>\n",
       "      <td>NaN</td>\n",
       "    </tr>\n",
       "    <tr>\n",
       "      <th>193</th>\n",
       "      <td>218</td>\n",
       "      <td>Tokélaou</td>\n",
       "      <td>1187.0</td>\n",
       "      <td>5.417407</td>\n",
       "      <td>NaN</td>\n",
       "    </tr>\n",
       "    <tr>\n",
       "      <th>213</th>\n",
       "      <td>240</td>\n",
       "      <td>Îles Vierges américaines</td>\n",
       "      <td>105311.0</td>\n",
       "      <td>-1.392348</td>\n",
       "      <td>NaN</td>\n",
       "    </tr>\n",
       "    <tr>\n",
       "      <th>214</th>\n",
       "      <td>243</td>\n",
       "      <td>Îles Wallis et Futuna</td>\n",
       "      <td>12551.0</td>\n",
       "      <td>-10.247426</td>\n",
       "      <td>NaN</td>\n",
       "    </tr>\n",
       "    <tr>\n",
       "      <th>222</th>\n",
       "      <td>259</td>\n",
       "      <td>Iles Anglo-Normandes</td>\n",
       "      <td>162180.0</td>\n",
       "      <td>2.918499</td>\n",
       "      <td>NaN</td>\n",
       "    </tr>\n",
       "    <tr>\n",
       "      <th>223</th>\n",
       "      <td>264</td>\n",
       "      <td>Île de Man</td>\n",
       "      <td>82013.0</td>\n",
       "      <td>4.429928</td>\n",
       "      <td>NaN</td>\n",
       "    </tr>\n",
       "    <tr>\n",
       "      <th>224</th>\n",
       "      <td>270</td>\n",
       "      <td>Mayotte</td>\n",
       "      <td>227351.0</td>\n",
       "      <td>15.830527</td>\n",
       "      <td>NaN</td>\n",
       "    </tr>\n",
       "  </tbody>\n",
       "</table>\n",
       "</div>"
      ],
      "text/plain": [
       "     Code Pays                                          Pays     pop2013  \\\n",
       "4            5                             Samoa américaines     55307.0   \n",
       "54          64                                    Îles Féroé     48747.0   \n",
       "55          65                                 Îles Falkland      2870.0   \n",
       "59          69                              Guyane française    254503.0   \n",
       "68          82                                     Gibraltar     33831.0   \n",
       "73          87                                    Guadeloupe    451338.0   \n",
       "74          88                                          Guam    160375.0   \n",
       "79          94                                   Saint-Siège       801.0   \n",
       "119        135                                    Martinique    389050.0   \n",
       "141        160                                         Nioué      1623.0   \n",
       "143        163                        Îles Mariannes du Nord     54036.0   \n",
       "160        182                                       Réunion    850400.0   \n",
       "164        187  Sainte-Hélène, Ascension et Tristan de Cunha      4081.0   \n",
       "167        190                      Saint-Pierre-et-Miquelon      6273.0   \n",
       "181        205                             Sahara occidental    504855.0   \n",
       "189        214                     Chine, Taiwan Province de  23339858.0   \n",
       "193        218                                      Tokélaou      1187.0   \n",
       "213        240                      Îles Vierges américaines    105311.0   \n",
       "214        243                         Îles Wallis et Futuna     12551.0   \n",
       "222        259                          Iles Anglo-Normandes    162180.0   \n",
       "223        264                                    Île de Man     82013.0   \n",
       "224        270                                       Mayotte    227351.0   \n",
       "\n",
       "       %evopop  PIB  \n",
       "4    -3.021217  NaN  \n",
       "54    0.540373  NaN  \n",
       "55   -0.519931  NaN  \n",
       "59   14.408052  NaN  \n",
       "68    3.357571  NaN  \n",
       "73    0.892600  NaN  \n",
       "74    0.842582  NaN  \n",
       "79    0.881612  NaN  \n",
       "119  -2.028924  NaN  \n",
       "141  -0.976205  NaN  \n",
       "143  -5.911442  NaN  \n",
       "160   4.172919  NaN  \n",
       "164  -2.040326  NaN  \n",
       "167   0.063806  NaN  \n",
       "181   7.729289  NaN  \n",
       "189   1.793975  NaN  \n",
       "193   5.417407  NaN  \n",
       "213  -1.392348  NaN  \n",
       "214 -10.247426  NaN  \n",
       "222   2.918499  NaN  \n",
       "223   4.429928  NaN  \n",
       "224  15.830527  NaN  "
      ]
     },
     "execution_count": 26,
     "metadata": {},
     "output_type": "execute_result"
    }
   ],
   "source": [
    "# Recherche des individus de la variable 'PIB' avec une valeur 'NaN'\n",
    "popib.loc[np.isnan(popib['PIB']),:]"
   ]
  },
  {
   "cell_type": "code",
   "execution_count": 27,
   "metadata": {
    "scrolled": true
   },
   "outputs": [
    {
     "name": "stdout",
     "output_type": "stream",
     "text": [
      "<class 'pandas.core.frame.DataFrame'>\n",
      "Int64Index: 206 entries, 0 to 227\n",
      "Data columns (total 5 columns):\n",
      "Code Pays    206 non-null int64\n",
      "Pays         206 non-null object\n",
      "pop2013      206 non-null float64\n",
      "%evopop      206 non-null float64\n",
      "PIB          206 non-null float64\n",
      "dtypes: float64(3), int64(1), object(1)\n",
      "memory usage: 9.7+ KB\n"
     ]
    }
   ],
   "source": [
    "# Suppression des individus de la table 'popib'\n",
    "popib = popib.loc[~np.isnan(popib['PIB']),:]\n",
    "\n",
    "# Nous re-effectuons le test sur les valeurs manquantes\n",
    "popib.info()"
   ]
  },
  {
   "cell_type": "markdown",
   "metadata": {},
   "source": [
    "> Nous n'avons donc plus de valeur manquante au sein de la table 'popib'"
   ]
  },
  {
   "cell_type": "markdown",
   "metadata": {},
   "source": [
    "> Nous allons construire la variable suivante 'PIB/hab' : \n",
    ">\n",
    "> - Calcul du PIB par habitant"
   ]
  },
  {
   "cell_type": "code",
   "execution_count": 28,
   "metadata": {},
   "outputs": [
    {
     "data": {
      "text/html": [
       "<div>\n",
       "<style scoped>\n",
       "    .dataframe tbody tr th:only-of-type {\n",
       "        vertical-align: middle;\n",
       "    }\n",
       "\n",
       "    .dataframe tbody tr th {\n",
       "        vertical-align: top;\n",
       "    }\n",
       "\n",
       "    .dataframe thead th {\n",
       "        text-align: right;\n",
       "    }\n",
       "</style>\n",
       "<table border=\"1\" class=\"dataframe\">\n",
       "  <thead>\n",
       "    <tr style=\"text-align: right;\">\n",
       "      <th></th>\n",
       "      <th>Code Pays</th>\n",
       "      <th>Pays</th>\n",
       "      <th>%evopop</th>\n",
       "      <th>PIB/hab</th>\n",
       "    </tr>\n",
       "  </thead>\n",
       "  <tbody>\n",
       "    <tr>\n",
       "      <th>0</th>\n",
       "      <td>1</td>\n",
       "      <td>Arménie</td>\n",
       "      <td>-0.505842</td>\n",
       "      <td>3843.590751</td>\n",
       "    </tr>\n",
       "    <tr>\n",
       "      <th>1</th>\n",
       "      <td>2</td>\n",
       "      <td>Afghanistan</td>\n",
       "      <td>16.258709</td>\n",
       "      <td>681.033974</td>\n",
       "    </tr>\n",
       "    <tr>\n",
       "      <th>2</th>\n",
       "      <td>3</td>\n",
       "      <td>Albanie</td>\n",
       "      <td>-2.429194</td>\n",
       "      <td>4376.970549</td>\n",
       "    </tr>\n",
       "    <tr>\n",
       "      <th>3</th>\n",
       "      <td>4</td>\n",
       "      <td>Algérie</td>\n",
       "      <td>9.976408</td>\n",
       "      <td>5471.866638</td>\n",
       "    </tr>\n",
       "    <tr>\n",
       "      <th>5</th>\n",
       "      <td>6</td>\n",
       "      <td>Andorre</td>\n",
       "      <td>-3.664397</td>\n",
       "      <td>40621.912722</td>\n",
       "    </tr>\n",
       "  </tbody>\n",
       "</table>\n",
       "</div>"
      ],
      "text/plain": [
       "   Code Pays         Pays    %evopop       PIB/hab\n",
       "0          1      Arménie  -0.505842   3843.590751\n",
       "1          2  Afghanistan  16.258709    681.033974\n",
       "2          3      Albanie  -2.429194   4376.970549\n",
       "3          4      Algérie   9.976408   5471.866638\n",
       "5          6      Andorre  -3.664397  40621.912722"
      ]
     },
     "execution_count": 28,
     "metadata": {},
     "output_type": "execute_result"
    }
   ],
   "source": [
    "# Nous allons créer une nouvelle colonne 'PIb/hab'\n",
    "popib['PIB/hab'] = popib['PIB']/popib['pop2013']\n",
    "\n",
    "# Nous ne conservons que les colonnes utiles à notre travail\n",
    "popib = popib.drop(columns=['pop2013', 'PIB'])\n",
    "\n",
    "# On observe\n",
    "popib.head()"
   ]
  },
  {
   "cell_type": "markdown",
   "metadata": {},
   "source": [
    "<div style=\"border: 1px solid RGB(106,90,205);\">\n",
    "<h3 style=\"margin: auto; padding: 20px; color: RGB(106,90,205);\">Recherche des valeurs aberrantes</h3>\n",
    "</div>"
   ]
  },
  {
   "cell_type": "code",
   "execution_count": 29,
   "metadata": {},
   "outputs": [
    {
     "data": {
      "text/html": [
       "<div>\n",
       "<style scoped>\n",
       "    .dataframe tbody tr th:only-of-type {\n",
       "        vertical-align: middle;\n",
       "    }\n",
       "\n",
       "    .dataframe tbody tr th {\n",
       "        vertical-align: top;\n",
       "    }\n",
       "\n",
       "    .dataframe thead th {\n",
       "        text-align: right;\n",
       "    }\n",
       "</style>\n",
       "<table border=\"1\" class=\"dataframe\">\n",
       "  <thead>\n",
       "    <tr style=\"text-align: right;\">\n",
       "      <th></th>\n",
       "      <th>Code Pays</th>\n",
       "      <th>Pays</th>\n",
       "      <th>%evopop</th>\n",
       "      <th>PIB/hab</th>\n",
       "    </tr>\n",
       "  </thead>\n",
       "  <tbody>\n",
       "    <tr>\n",
       "      <th>178</th>\n",
       "      <td>201</td>\n",
       "      <td>Somalie</td>\n",
       "      <td>15.507346</td>\n",
       "      <td>106.512965</td>\n",
       "    </tr>\n",
       "    <tr>\n",
       "      <th>26</th>\n",
       "      <td>29</td>\n",
       "      <td>Burundi</td>\n",
       "      <td>16.900601</td>\n",
       "      <td>255.372685</td>\n",
       "    </tr>\n",
       "    <tr>\n",
       "      <th>114</th>\n",
       "      <td>130</td>\n",
       "      <td>Malawi</td>\n",
       "      <td>16.157769</td>\n",
       "      <td>314.708244</td>\n",
       "    </tr>\n",
       "    <tr>\n",
       "      <th>31</th>\n",
       "      <td>37</td>\n",
       "      <td>République centrafricaine</td>\n",
       "      <td>3.550133</td>\n",
       "      <td>347.913166</td>\n",
       "    </tr>\n",
       "    <tr>\n",
       "      <th>139</th>\n",
       "      <td>158</td>\n",
       "      <td>Niger</td>\n",
       "      <td>20.999059</td>\n",
       "      <td>416.139942</td>\n",
       "    </tr>\n",
       "  </tbody>\n",
       "</table>\n",
       "</div>"
      ],
      "text/plain": [
       "     Code Pays                       Pays    %evopop     PIB/hab\n",
       "178        201                    Somalie  15.507346  106.512965\n",
       "26          29                    Burundi  16.900601  255.372685\n",
       "114        130                     Malawi  16.157769  314.708244\n",
       "31          37  République centrafricaine   3.550133  347.913166\n",
       "139        158                      Niger  20.999059  416.139942"
      ]
     },
     "execution_count": 29,
     "metadata": {},
     "output_type": "execute_result"
    }
   ],
   "source": [
    "# Nous faisons un trie ascendant et descendant sur la variable 'PIB/hab' avec la méthode .sort_values()\n",
    "popib.sort_values(by='PIB/hab',ascending=True).head()"
   ]
  },
  {
   "cell_type": "code",
   "execution_count": 30,
   "metadata": {},
   "outputs": [
    {
     "data": {
      "text/html": [
       "<div>\n",
       "<style scoped>\n",
       "    .dataframe tbody tr th:only-of-type {\n",
       "        vertical-align: middle;\n",
       "    }\n",
       "\n",
       "    .dataframe tbody tr th {\n",
       "        vertical-align: top;\n",
       "    }\n",
       "\n",
       "    .dataframe thead th {\n",
       "        text-align: right;\n",
       "    }\n",
       "</style>\n",
       "<table border=\"1\" class=\"dataframe\">\n",
       "  <thead>\n",
       "    <tr style=\"text-align: right;\">\n",
       "      <th></th>\n",
       "      <th>Code Pays</th>\n",
       "      <th>Pays</th>\n",
       "      <th>%evopop</th>\n",
       "      <th>PIB/hab</th>\n",
       "    </tr>\n",
       "  </thead>\n",
       "  <tbody>\n",
       "    <tr>\n",
       "      <th>109</th>\n",
       "      <td>125</td>\n",
       "      <td>Liechtenstein</td>\n",
       "      <td>3.638052</td>\n",
       "      <td>173527.486263</td>\n",
       "    </tr>\n",
       "    <tr>\n",
       "      <th>123</th>\n",
       "      <td>140</td>\n",
       "      <td>Monaco</td>\n",
       "      <td>5.907455</td>\n",
       "      <td>172598.231387</td>\n",
       "    </tr>\n",
       "    <tr>\n",
       "      <th>220</th>\n",
       "      <td>256</td>\n",
       "      <td>Luxembourg</td>\n",
       "      <td>12.289298</td>\n",
       "      <td>113341.237463</td>\n",
       "    </tr>\n",
       "    <tr>\n",
       "      <th>142</th>\n",
       "      <td>162</td>\n",
       "      <td>Norvège</td>\n",
       "      <td>6.406745</td>\n",
       "      <td>103110.441896</td>\n",
       "    </tr>\n",
       "    <tr>\n",
       "      <th>15</th>\n",
       "      <td>17</td>\n",
       "      <td>Bermudes</td>\n",
       "      <td>-2.868859</td>\n",
       "      <td>90329.786048</td>\n",
       "    </tr>\n",
       "  </tbody>\n",
       "</table>\n",
       "</div>"
      ],
      "text/plain": [
       "     Code Pays           Pays    %evopop        PIB/hab\n",
       "109        125  Liechtenstein   3.638052  173527.486263\n",
       "123        140         Monaco   5.907455  172598.231387\n",
       "220        256     Luxembourg  12.289298  113341.237463\n",
       "142        162        Norvège   6.406745  103110.441896\n",
       "15          17       Bermudes  -2.868859   90329.786048"
      ]
     },
     "execution_count": 30,
     "metadata": {},
     "output_type": "execute_result"
    }
   ],
   "source": [
    "popib.sort_values(by='PIB/hab',ascending=False).head()"
   ]
  },
  {
   "cell_type": "markdown",
   "metadata": {},
   "source": [
    "> La variable 'PIB/hab' ne contient pas de valeur aberrante "
   ]
  },
  {
   "cell_type": "markdown",
   "metadata": {},
   "source": [
    "<div style=\"border: 1px solid RGB(106,90,205);\">\n",
    "<h3 style=\"margin: auto; padding: 20px; color: RGB(106,90,205);\">Recherche des doublons</h3>\n",
    "</div>"
   ]
  },
  {
   "cell_type": "code",
   "execution_count": 31,
   "metadata": {},
   "outputs": [
    {
     "data": {
      "text/plain": [
       "206"
      ]
     },
     "execution_count": 31,
     "metadata": {},
     "output_type": "execute_result"
    }
   ],
   "source": [
    "# Recherche du nombre d'éléments au sein de la table 'pop'\n",
    "len(popib)"
   ]
  },
  {
   "cell_type": "code",
   "execution_count": 32,
   "metadata": {},
   "outputs": [
    {
     "data": {
      "text/plain": [
       "209"
      ]
     },
     "execution_count": 32,
     "metadata": {},
     "output_type": "execute_result"
    }
   ],
   "source": [
    "# Détection et suppression des doublons \n",
    "popib.drop_duplicates(keep='first',inplace=True)\n",
    "len(pib)"
   ]
  },
  {
   "cell_type": "markdown",
   "metadata": {},
   "source": [
    "> La table ne contient pas de doublon "
   ]
  },
  {
   "cell_type": "markdown",
   "metadata": {},
   "source": [
    "<div style=\"border: 1px solid RGB(106,90,205);\">\n",
    "<h3 style=\"margin: auto; padding: 20px; color: RGB(106,90,205);\">Importation du fichier relatif aux protéines</h3>\n",
    "</div>"
   ]
  },
  {
   "cell_type": "code",
   "execution_count": 33,
   "metadata": {},
   "outputs": [
    {
     "data": {
      "text/html": [
       "<div>\n",
       "<style scoped>\n",
       "    .dataframe tbody tr th:only-of-type {\n",
       "        vertical-align: middle;\n",
       "    }\n",
       "\n",
       "    .dataframe tbody tr th {\n",
       "        vertical-align: top;\n",
       "    }\n",
       "\n",
       "    .dataframe thead th {\n",
       "        text-align: right;\n",
       "    }\n",
       "</style>\n",
       "<table border=\"1\" class=\"dataframe\">\n",
       "  <thead>\n",
       "    <tr style=\"text-align: right;\">\n",
       "      <th></th>\n",
       "      <th>Code Domaine</th>\n",
       "      <th>Domaine</th>\n",
       "      <th>Code Pays</th>\n",
       "      <th>Pays</th>\n",
       "      <th>Code Élément</th>\n",
       "      <th>Élément</th>\n",
       "      <th>Code Produit</th>\n",
       "      <th>Produit</th>\n",
       "      <th>Code Année</th>\n",
       "      <th>Année</th>\n",
       "      <th>Unité</th>\n",
       "      <th>Valeur</th>\n",
       "      <th>Symbole</th>\n",
       "      <th>Description du Symbole</th>\n",
       "    </tr>\n",
       "  </thead>\n",
       "  <tbody>\n",
       "    <tr>\n",
       "      <th>0</th>\n",
       "      <td>FBS</td>\n",
       "      <td>Bilans Alimentaires</td>\n",
       "      <td>2</td>\n",
       "      <td>Afghanistan</td>\n",
       "      <td>674</td>\n",
       "      <td>Disponibilité de protéines en quantité (g/pers...</td>\n",
       "      <td>2901</td>\n",
       "      <td>Total General</td>\n",
       "      <td>2013</td>\n",
       "      <td>2013</td>\n",
       "      <td>g/personne/jour</td>\n",
       "      <td>58.25</td>\n",
       "      <td>Fc</td>\n",
       "      <td>Donnée calculée</td>\n",
       "    </tr>\n",
       "    <tr>\n",
       "      <th>1</th>\n",
       "      <td>FBS</td>\n",
       "      <td>Bilans Alimentaires</td>\n",
       "      <td>2</td>\n",
       "      <td>Afghanistan</td>\n",
       "      <td>674</td>\n",
       "      <td>Disponibilité de protéines en quantité (g/pers...</td>\n",
       "      <td>2941</td>\n",
       "      <td>Produits Animaux</td>\n",
       "      <td>2013</td>\n",
       "      <td>2013</td>\n",
       "      <td>g/personne/jour</td>\n",
       "      <td>12.22</td>\n",
       "      <td>Fc</td>\n",
       "      <td>Donnée calculée</td>\n",
       "    </tr>\n",
       "    <tr>\n",
       "      <th>2</th>\n",
       "      <td>FBS</td>\n",
       "      <td>Bilans Alimentaires</td>\n",
       "      <td>202</td>\n",
       "      <td>Afrique du Sud</td>\n",
       "      <td>674</td>\n",
       "      <td>Disponibilité de protéines en quantité (g/pers...</td>\n",
       "      <td>2901</td>\n",
       "      <td>Total General</td>\n",
       "      <td>2013</td>\n",
       "      <td>2013</td>\n",
       "      <td>g/personne/jour</td>\n",
       "      <td>85.33</td>\n",
       "      <td>Fc</td>\n",
       "      <td>Donnée calculée</td>\n",
       "    </tr>\n",
       "    <tr>\n",
       "      <th>3</th>\n",
       "      <td>FBS</td>\n",
       "      <td>Bilans Alimentaires</td>\n",
       "      <td>202</td>\n",
       "      <td>Afrique du Sud</td>\n",
       "      <td>674</td>\n",
       "      <td>Disponibilité de protéines en quantité (g/pers...</td>\n",
       "      <td>2941</td>\n",
       "      <td>Produits Animaux</td>\n",
       "      <td>2013</td>\n",
       "      <td>2013</td>\n",
       "      <td>g/personne/jour</td>\n",
       "      <td>36.38</td>\n",
       "      <td>Fc</td>\n",
       "      <td>Donnée calculée</td>\n",
       "    </tr>\n",
       "    <tr>\n",
       "      <th>4</th>\n",
       "      <td>FBS</td>\n",
       "      <td>Bilans Alimentaires</td>\n",
       "      <td>3</td>\n",
       "      <td>Albanie</td>\n",
       "      <td>674</td>\n",
       "      <td>Disponibilité de protéines en quantité (g/pers...</td>\n",
       "      <td>2901</td>\n",
       "      <td>Total General</td>\n",
       "      <td>2013</td>\n",
       "      <td>2013</td>\n",
       "      <td>g/personne/jour</td>\n",
       "      <td>111.42</td>\n",
       "      <td>Fc</td>\n",
       "      <td>Donnée calculée</td>\n",
       "    </tr>\n",
       "  </tbody>\n",
       "</table>\n",
       "</div>"
      ],
      "text/plain": [
       "  Code Domaine              Domaine  Code Pays            Pays  Code Élément  \\\n",
       "0          FBS  Bilans Alimentaires          2     Afghanistan           674   \n",
       "1          FBS  Bilans Alimentaires          2     Afghanistan           674   \n",
       "2          FBS  Bilans Alimentaires        202  Afrique du Sud           674   \n",
       "3          FBS  Bilans Alimentaires        202  Afrique du Sud           674   \n",
       "4          FBS  Bilans Alimentaires          3         Albanie           674   \n",
       "\n",
       "                                             Élément  Code Produit  \\\n",
       "0  Disponibilité de protéines en quantité (g/pers...          2901   \n",
       "1  Disponibilité de protéines en quantité (g/pers...          2941   \n",
       "2  Disponibilité de protéines en quantité (g/pers...          2901   \n",
       "3  Disponibilité de protéines en quantité (g/pers...          2941   \n",
       "4  Disponibilité de protéines en quantité (g/pers...          2901   \n",
       "\n",
       "            Produit  Code Année  Année            Unité  Valeur Symbole  \\\n",
       "0     Total General        2013   2013  g/personne/jour   58.25      Fc   \n",
       "1  Produits Animaux        2013   2013  g/personne/jour   12.22      Fc   \n",
       "2     Total General        2013   2013  g/personne/jour   85.33      Fc   \n",
       "3  Produits Animaux        2013   2013  g/personne/jour   36.38      Fc   \n",
       "4     Total General        2013   2013  g/personne/jour  111.42      Fc   \n",
       "\n",
       "  Description du Symbole  \n",
       "0        Donnée calculée  \n",
       "1        Donnée calculée  \n",
       "2        Donnée calculée  \n",
       "3        Donnée calculée  \n",
       "4        Donnée calculée  "
      ]
     },
     "execution_count": 33,
     "metadata": {},
     "output_type": "execute_result"
    }
   ],
   "source": [
    "# On importe le fichier des protéines provenant du site de la 'FAO'\n",
    "# D'une part, l'individu 'Chine' n'a pas été sélectionné, pour éviter les doublons\n",
    "# D'autre part les données relatives au pays supprimées ci-dessus n'ont pas été sélectionnées\n",
    "prot = pd.read_csv(\"prot.csv\")\n",
    "\n",
    "# On observe\n",
    "prot.head()"
   ]
  },
  {
   "cell_type": "markdown",
   "metadata": {},
   "source": [
    "> Nous allons construire la variable '%protani' :\n",
    ">\n",
    "> - Calcul de la proportion de protéines d'origine animale par rapport à la quantité totale de protéines dans la disponibilité alimentaire du pays, avec en parallèle un traitement des valeurs manquantes, aberrantes et des doublons sur la table 'prot'"
   ]
  },
  {
   "cell_type": "code",
   "execution_count": 34,
   "metadata": {},
   "outputs": [],
   "source": [
    "# Formatage du dataframe \n",
    "prot = prot.pivot_table(values = [\"Valeur\"], index = [\"Code Pays\", \"Pays\", \"Élément\"],columns = [\"Produit\"],\n",
    "                          aggfunc = sum)\n",
    "prot.columns = ['Produits Animaux', 'Total General']\n",
    "prot = prot.reset_index()"
   ]
  },
  {
   "cell_type": "code",
   "execution_count": 35,
   "metadata": {
    "scrolled": true
   },
   "outputs": [
    {
     "data": {
      "text/html": [
       "<div>\n",
       "<style scoped>\n",
       "    .dataframe tbody tr th:only-of-type {\n",
       "        vertical-align: middle;\n",
       "    }\n",
       "\n",
       "    .dataframe tbody tr th {\n",
       "        vertical-align: top;\n",
       "    }\n",
       "\n",
       "    .dataframe thead th {\n",
       "        text-align: right;\n",
       "    }\n",
       "</style>\n",
       "<table border=\"1\" class=\"dataframe\">\n",
       "  <thead>\n",
       "    <tr style=\"text-align: right;\">\n",
       "      <th></th>\n",
       "      <th>Code Pays</th>\n",
       "      <th>Pays</th>\n",
       "      <th>%protani</th>\n",
       "    </tr>\n",
       "  </thead>\n",
       "  <tbody>\n",
       "    <tr>\n",
       "      <th>0</th>\n",
       "      <td>1</td>\n",
       "      <td>Arménie</td>\n",
       "      <td>48.034207</td>\n",
       "    </tr>\n",
       "    <tr>\n",
       "      <th>1</th>\n",
       "      <td>2</td>\n",
       "      <td>Afghanistan</td>\n",
       "      <td>20.978541</td>\n",
       "    </tr>\n",
       "    <tr>\n",
       "      <th>2</th>\n",
       "      <td>3</td>\n",
       "      <td>Albanie</td>\n",
       "      <td>53.329743</td>\n",
       "    </tr>\n",
       "    <tr>\n",
       "      <th>3</th>\n",
       "      <td>4</td>\n",
       "      <td>Algérie</td>\n",
       "      <td>27.174859</td>\n",
       "    </tr>\n",
       "    <tr>\n",
       "      <th>4</th>\n",
       "      <td>7</td>\n",
       "      <td>Angola</td>\n",
       "      <td>32.134125</td>\n",
       "    </tr>\n",
       "  </tbody>\n",
       "</table>\n",
       "</div>"
      ],
      "text/plain": [
       "   Code Pays         Pays   %protani\n",
       "0          1      Arménie  48.034207\n",
       "1          2  Afghanistan  20.978541\n",
       "2          3      Albanie  53.329743\n",
       "3          4      Algérie  27.174859\n",
       "4          7       Angola  32.134125"
      ]
     },
     "execution_count": 35,
     "metadata": {},
     "output_type": "execute_result"
    }
   ],
   "source": [
    "# Construction de la nouvelle variable \n",
    "prot['%protani'] = (prot['Produits Animaux']/prot['Total General'])*100\n",
    "\n",
    "# Suppression des colonnes inutiles\n",
    "prot = prot.drop(columns=['Élément', 'Produits Animaux', 'Total General'])\n",
    "\n",
    "# On observe\n",
    "prot.head()"
   ]
  },
  {
   "cell_type": "markdown",
   "metadata": {},
   "source": [
    "<div style=\"border: 1px solid RGB(106,90,205);\">\n",
    "<h3 style=\"margin: auto; padding: 20px; color: RGB(106,90,205);\">Recherche des valeurs manquantes</h3>\n",
    "</div>"
   ]
  },
  {
   "cell_type": "code",
   "execution_count": 36,
   "metadata": {},
   "outputs": [
    {
     "name": "stdout",
     "output_type": "stream",
     "text": [
      "<class 'pandas.core.frame.DataFrame'>\n",
      "RangeIndex: 173 entries, 0 to 172\n",
      "Data columns (total 3 columns):\n",
      "Code Pays    173 non-null int64\n",
      "Pays         173 non-null object\n",
      "%protani     173 non-null float64\n",
      "dtypes: float64(1), int64(1), object(1)\n",
      "memory usage: 4.1+ KB\n"
     ]
    }
   ],
   "source": [
    "prot.info()"
   ]
  },
  {
   "cell_type": "markdown",
   "metadata": {},
   "source": [
    "> Nous n'avons pas de valeur manquante au sein de la table 'prot'"
   ]
  },
  {
   "cell_type": "markdown",
   "metadata": {},
   "source": [
    "<div style=\"border: 1px solid RGB(106,90,205);\">\n",
    "<h3 style=\"margin: auto; padding: 20px; color: RGB(106,90,205);\">Recherche des valeurs aberrantes</h3>\n",
    "</div>"
   ]
  },
  {
   "cell_type": "code",
   "execution_count": 37,
   "metadata": {},
   "outputs": [
    {
     "data": {
      "text/html": [
       "<div>\n",
       "<style scoped>\n",
       "    .dataframe tbody tr th:only-of-type {\n",
       "        vertical-align: middle;\n",
       "    }\n",
       "\n",
       "    .dataframe tbody tr th {\n",
       "        vertical-align: top;\n",
       "    }\n",
       "\n",
       "    .dataframe thead th {\n",
       "        text-align: right;\n",
       "    }\n",
       "</style>\n",
       "<table border=\"1\" class=\"dataframe\">\n",
       "  <thead>\n",
       "    <tr style=\"text-align: right;\">\n",
       "      <th></th>\n",
       "      <th>Code Pays</th>\n",
       "      <th>Pays</th>\n",
       "      <th>%protani</th>\n",
       "    </tr>\n",
       "  </thead>\n",
       "  <tbody>\n",
       "    <tr>\n",
       "      <th>128</th>\n",
       "      <td>184</td>\n",
       "      <td>Rwanda</td>\n",
       "      <td>9.839817</td>\n",
       "    </tr>\n",
       "    <tr>\n",
       "      <th>93</th>\n",
       "      <td>130</td>\n",
       "      <td>Malawi</td>\n",
       "      <td>12.068164</td>\n",
       "    </tr>\n",
       "    <tr>\n",
       "      <th>165</th>\n",
       "      <td>238</td>\n",
       "      <td>Éthiopie</td>\n",
       "      <td>12.731788</td>\n",
       "    </tr>\n",
       "    <tr>\n",
       "      <th>103</th>\n",
       "      <td>144</td>\n",
       "      <td>Mozambique</td>\n",
       "      <td>13.894967</td>\n",
       "    </tr>\n",
       "    <tr>\n",
       "      <th>160</th>\n",
       "      <td>233</td>\n",
       "      <td>Burkina Faso</td>\n",
       "      <td>13.945578</td>\n",
       "    </tr>\n",
       "  </tbody>\n",
       "</table>\n",
       "</div>"
      ],
      "text/plain": [
       "     Code Pays          Pays   %protani\n",
       "128        184        Rwanda   9.839817\n",
       "93         130        Malawi  12.068164\n",
       "165        238      Éthiopie  12.731788\n",
       "103        144    Mozambique  13.894967\n",
       "160        233  Burkina Faso  13.945578"
      ]
     },
     "execution_count": 37,
     "metadata": {},
     "output_type": "execute_result"
    }
   ],
   "source": [
    "# Nous faisons un trie ascendant et descendant sur la variable '%protani' avec la méthode .sort_values()\n",
    "prot.sort_values(by='%protani',ascending=True).head()"
   ]
  },
  {
   "cell_type": "code",
   "execution_count": 38,
   "metadata": {},
   "outputs": [
    {
     "data": {
      "text/html": [
       "<div>\n",
       "<style scoped>\n",
       "    .dataframe tbody tr th:only-of-type {\n",
       "        vertical-align: middle;\n",
       "    }\n",
       "\n",
       "    .dataframe tbody tr th {\n",
       "        vertical-align: top;\n",
       "    }\n",
       "\n",
       "    .dataframe thead th {\n",
       "        text-align: right;\n",
       "    }\n",
       "</style>\n",
       "<table border=\"1\" class=\"dataframe\">\n",
       "  <thead>\n",
       "    <tr style=\"text-align: right;\">\n",
       "      <th></th>\n",
       "      <th>Code Pays</th>\n",
       "      <th>Pays</th>\n",
       "      <th>%protani</th>\n",
       "    </tr>\n",
       "  </thead>\n",
       "  <tbody>\n",
       "    <tr>\n",
       "      <th>63</th>\n",
       "      <td>96</td>\n",
       "      <td>Chine - RAS de Hong-Kong</td>\n",
       "      <td>73.084069</td>\n",
       "    </tr>\n",
       "    <tr>\n",
       "      <th>66</th>\n",
       "      <td>99</td>\n",
       "      <td>Islande</td>\n",
       "      <td>72.248016</td>\n",
       "    </tr>\n",
       "    <tr>\n",
       "      <th>95</th>\n",
       "      <td>132</td>\n",
       "      <td>Maldives</td>\n",
       "      <td>70.211549</td>\n",
       "    </tr>\n",
       "    <tr>\n",
       "      <th>5</th>\n",
       "      <td>8</td>\n",
       "      <td>Antigua-et-Barbuda</td>\n",
       "      <td>67.889141</td>\n",
       "    </tr>\n",
       "    <tr>\n",
       "      <th>107</th>\n",
       "      <td>150</td>\n",
       "      <td>Pays-Bas</td>\n",
       "      <td>67.821339</td>\n",
       "    </tr>\n",
       "  </tbody>\n",
       "</table>\n",
       "</div>"
      ],
      "text/plain": [
       "     Code Pays                      Pays   %protani\n",
       "63          96  Chine - RAS de Hong-Kong  73.084069\n",
       "66          99                   Islande  72.248016\n",
       "95         132                  Maldives  70.211549\n",
       "5            8        Antigua-et-Barbuda  67.889141\n",
       "107        150                  Pays-Bas  67.821339"
      ]
     },
     "execution_count": 38,
     "metadata": {},
     "output_type": "execute_result"
    }
   ],
   "source": [
    "prot.sort_values(by='%protani',ascending=False).head()"
   ]
  },
  {
   "cell_type": "markdown",
   "metadata": {},
   "source": [
    "> La variable '%protani' ne contient plus de valeur aberrante"
   ]
  },
  {
   "cell_type": "markdown",
   "metadata": {},
   "source": [
    "<div style=\"border: 1px solid RGB(106,90,205);\">\n",
    "<h3 style=\"margin: auto; padding: 20px; color: RGB(106,90,205);\">Recherche des doublons</h3>\n",
    "</div>"
   ]
  },
  {
   "cell_type": "code",
   "execution_count": 39,
   "metadata": {},
   "outputs": [
    {
     "data": {
      "text/plain": [
       "173"
      ]
     },
     "execution_count": 39,
     "metadata": {},
     "output_type": "execute_result"
    }
   ],
   "source": [
    "# Recherche du nombre d'éléments au sein de la table 'prot'\n",
    "len(prot)"
   ]
  },
  {
   "cell_type": "code",
   "execution_count": 40,
   "metadata": {},
   "outputs": [],
   "source": [
    "# Détection et suppression des doublons au sein de la variable 'Pays'\n",
    "prot.drop_duplicates(keep='first',inplace=True)"
   ]
  },
  {
   "cell_type": "code",
   "execution_count": 41,
   "metadata": {},
   "outputs": [
    {
     "data": {
      "text/plain": [
       "173"
      ]
     },
     "execution_count": 41,
     "metadata": {},
     "output_type": "execute_result"
    }
   ],
   "source": [
    "len(prot)"
   ]
  },
  {
   "cell_type": "markdown",
   "metadata": {},
   "source": [
    "> Au regard du nombre d'éléments  après traitement, la table 'prot' ne contient plus, ni valeur manquante, ni valeur aberrante, ni doublon"
   ]
  },
  {
   "cell_type": "markdown",
   "metadata": {},
   "source": [
    "<div style=\"border: 1px solid RGB(106,90,205);\">\n",
    "<h3 style=\"margin: auto; padding: 20px; color: RGB(106,90,205);\">Importation du fichier relatif à la disponibilité alimentaire</h3>\n",
    "</div>"
   ]
  },
  {
   "cell_type": "code",
   "execution_count": 42,
   "metadata": {
    "scrolled": true
   },
   "outputs": [
    {
     "data": {
      "text/html": [
       "<div>\n",
       "<style scoped>\n",
       "    .dataframe tbody tr th:only-of-type {\n",
       "        vertical-align: middle;\n",
       "    }\n",
       "\n",
       "    .dataframe tbody tr th {\n",
       "        vertical-align: top;\n",
       "    }\n",
       "\n",
       "    .dataframe thead th {\n",
       "        text-align: right;\n",
       "    }\n",
       "</style>\n",
       "<table border=\"1\" class=\"dataframe\">\n",
       "  <thead>\n",
       "    <tr style=\"text-align: right;\">\n",
       "      <th></th>\n",
       "      <th>Code Domaine</th>\n",
       "      <th>Domaine</th>\n",
       "      <th>Code Pays</th>\n",
       "      <th>Pays</th>\n",
       "      <th>Code Élément</th>\n",
       "      <th>Élément</th>\n",
       "      <th>Code Produit</th>\n",
       "      <th>Produit</th>\n",
       "      <th>Code Année</th>\n",
       "      <th>Année</th>\n",
       "      <th>Unité</th>\n",
       "      <th>Valeur</th>\n",
       "      <th>Symbole</th>\n",
       "      <th>Description du Symbole</th>\n",
       "    </tr>\n",
       "  </thead>\n",
       "  <tbody>\n",
       "    <tr>\n",
       "      <th>0</th>\n",
       "      <td>FBS</td>\n",
       "      <td>Bilans Alimentaires</td>\n",
       "      <td>2</td>\n",
       "      <td>Afghanistan</td>\n",
       "      <td>664</td>\n",
       "      <td>Disponibilité alimentaire (Kcal/personne/jour)</td>\n",
       "      <td>2901</td>\n",
       "      <td>Total General</td>\n",
       "      <td>2013</td>\n",
       "      <td>2013</td>\n",
       "      <td>Kcal/personne/jour</td>\n",
       "      <td>2090.00</td>\n",
       "      <td>Fc</td>\n",
       "      <td>Donnée calculée</td>\n",
       "    </tr>\n",
       "    <tr>\n",
       "      <th>1</th>\n",
       "      <td>FBS</td>\n",
       "      <td>Bilans Alimentaires</td>\n",
       "      <td>2</td>\n",
       "      <td>Afghanistan</td>\n",
       "      <td>674</td>\n",
       "      <td>Disponibilité de protéines en quantité (g/pers...</td>\n",
       "      <td>2901</td>\n",
       "      <td>Total General</td>\n",
       "      <td>2013</td>\n",
       "      <td>2013</td>\n",
       "      <td>g/personne/jour</td>\n",
       "      <td>58.25</td>\n",
       "      <td>Fc</td>\n",
       "      <td>Donnée calculée</td>\n",
       "    </tr>\n",
       "    <tr>\n",
       "      <th>2</th>\n",
       "      <td>FBS</td>\n",
       "      <td>Bilans Alimentaires</td>\n",
       "      <td>202</td>\n",
       "      <td>Afrique du Sud</td>\n",
       "      <td>664</td>\n",
       "      <td>Disponibilité alimentaire (Kcal/personne/jour)</td>\n",
       "      <td>2901</td>\n",
       "      <td>Total General</td>\n",
       "      <td>2013</td>\n",
       "      <td>2013</td>\n",
       "      <td>Kcal/personne/jour</td>\n",
       "      <td>3022.00</td>\n",
       "      <td>Fc</td>\n",
       "      <td>Donnée calculée</td>\n",
       "    </tr>\n",
       "    <tr>\n",
       "      <th>3</th>\n",
       "      <td>FBS</td>\n",
       "      <td>Bilans Alimentaires</td>\n",
       "      <td>202</td>\n",
       "      <td>Afrique du Sud</td>\n",
       "      <td>674</td>\n",
       "      <td>Disponibilité de protéines en quantité (g/pers...</td>\n",
       "      <td>2901</td>\n",
       "      <td>Total General</td>\n",
       "      <td>2013</td>\n",
       "      <td>2013</td>\n",
       "      <td>g/personne/jour</td>\n",
       "      <td>85.33</td>\n",
       "      <td>Fc</td>\n",
       "      <td>Donnée calculée</td>\n",
       "    </tr>\n",
       "    <tr>\n",
       "      <th>4</th>\n",
       "      <td>FBS</td>\n",
       "      <td>Bilans Alimentaires</td>\n",
       "      <td>3</td>\n",
       "      <td>Albanie</td>\n",
       "      <td>664</td>\n",
       "      <td>Disponibilité alimentaire (Kcal/personne/jour)</td>\n",
       "      <td>2901</td>\n",
       "      <td>Total General</td>\n",
       "      <td>2013</td>\n",
       "      <td>2013</td>\n",
       "      <td>Kcal/personne/jour</td>\n",
       "      <td>3193.00</td>\n",
       "      <td>Fc</td>\n",
       "      <td>Donnée calculée</td>\n",
       "    </tr>\n",
       "  </tbody>\n",
       "</table>\n",
       "</div>"
      ],
      "text/plain": [
       "  Code Domaine              Domaine  Code Pays            Pays  Code Élément  \\\n",
       "0          FBS  Bilans Alimentaires          2     Afghanistan           664   \n",
       "1          FBS  Bilans Alimentaires          2     Afghanistan           674   \n",
       "2          FBS  Bilans Alimentaires        202  Afrique du Sud           664   \n",
       "3          FBS  Bilans Alimentaires        202  Afrique du Sud           674   \n",
       "4          FBS  Bilans Alimentaires          3         Albanie           664   \n",
       "\n",
       "                                             Élément  Code Produit  \\\n",
       "0     Disponibilité alimentaire (Kcal/personne/jour)          2901   \n",
       "1  Disponibilité de protéines en quantité (g/pers...          2901   \n",
       "2     Disponibilité alimentaire (Kcal/personne/jour)          2901   \n",
       "3  Disponibilité de protéines en quantité (g/pers...          2901   \n",
       "4     Disponibilité alimentaire (Kcal/personne/jour)          2901   \n",
       "\n",
       "         Produit  Code Année  Année               Unité   Valeur Symbole  \\\n",
       "0  Total General        2013   2013  Kcal/personne/jour  2090.00      Fc   \n",
       "1  Total General        2013   2013     g/personne/jour    58.25      Fc   \n",
       "2  Total General        2013   2013  Kcal/personne/jour  3022.00      Fc   \n",
       "3  Total General        2013   2013     g/personne/jour    85.33      Fc   \n",
       "4  Total General        2013   2013  Kcal/personne/jour  3193.00      Fc   \n",
       "\n",
       "  Description du Symbole  \n",
       "0        Donnée calculée  \n",
       "1        Donnée calculée  \n",
       "2        Donnée calculée  \n",
       "3        Donnée calculée  \n",
       "4        Donnée calculée  "
      ]
     },
     "execution_count": 42,
     "metadata": {},
     "output_type": "execute_result"
    }
   ],
   "source": [
    "# On importe le fichier de la disponibilité alimantaire provenant du site de la 'FAO'\n",
    "# D'une part, l'individu 'Chine' n'a pas été sélectionné, pour éviter les doublons\n",
    "# D'autre part les données relatives au pays supprimées ci-dessus n'ont pas été sélectionnées\n",
    "bilanalim = pd.read_csv(\"bilanalim.csv\")\n",
    "\n",
    "# On observe\n",
    "bilanalim.head()"
   ]
  },
  {
   "cell_type": "markdown",
   "metadata": {},
   "source": [
    "> Nous allons construire les variables 'Dispoalim(Kcal/hab/an)' et 'Dispoprot(kg/hab/an)' :\n",
    ">\n",
    "> - Calcul de la disponibilité alimentaire en protéines et en calories par habitant, avec en parallèle un traitement des valeurs manquantes, aberrantes et des doublons sur la table 'bilanalim'"
   ]
  },
  {
   "cell_type": "code",
   "execution_count": 43,
   "metadata": {},
   "outputs": [],
   "source": [
    "# Formatage du dataframe \n",
    "bilanalim = bilanalim.pivot_table(values = [\"Valeur\"], index = [\"Code Pays\", \"Pays\"],\n",
    "                      columns = [\"Élément\"], aggfunc = sum)\n",
    "bilanalim.columns = ['Disponibilité alimentaire (Kcal/personne/jour)', \n",
    "               'Disponibilité de protéines en quantité (g/personne/jour)']\n",
    "bilanalim = bilanalim.reset_index()"
   ]
  },
  {
   "cell_type": "code",
   "execution_count": 44,
   "metadata": {},
   "outputs": [],
   "source": [
    "# Valeurs mises aux bonnes unités\n",
    "bilanalim['Disponibilité alimentaire (Kcal/personne/jour)']=bilanalim['Disponibilité alimentaire (Kcal/personne/jour)']*365\n",
    "bilanalim['Disponibilité de protéines en quantité (g/personne/jour)']=(bilanalim['Disponibilité de protéines en quantité (g/personne/jour)']/1000)*365"
   ]
  },
  {
   "cell_type": "code",
   "execution_count": 45,
   "metadata": {
    "scrolled": true
   },
   "outputs": [
    {
     "data": {
      "text/html": [
       "<div>\n",
       "<style scoped>\n",
       "    .dataframe tbody tr th:only-of-type {\n",
       "        vertical-align: middle;\n",
       "    }\n",
       "\n",
       "    .dataframe tbody tr th {\n",
       "        vertical-align: top;\n",
       "    }\n",
       "\n",
       "    .dataframe thead th {\n",
       "        text-align: right;\n",
       "    }\n",
       "</style>\n",
       "<table border=\"1\" class=\"dataframe\">\n",
       "  <thead>\n",
       "    <tr style=\"text-align: right;\">\n",
       "      <th></th>\n",
       "      <th>Code Pays</th>\n",
       "      <th>Pays</th>\n",
       "      <th>Dispoalim(Kcal/hab/an)</th>\n",
       "      <th>Dispoprot(kg/hab/an)</th>\n",
       "    </tr>\n",
       "  </thead>\n",
       "  <tbody>\n",
       "    <tr>\n",
       "      <th>0</th>\n",
       "      <td>1</td>\n",
       "      <td>Arménie</td>\n",
       "      <td>1068720.0</td>\n",
       "      <td>32.86460</td>\n",
       "    </tr>\n",
       "    <tr>\n",
       "      <th>1</th>\n",
       "      <td>2</td>\n",
       "      <td>Afghanistan</td>\n",
       "      <td>762850.0</td>\n",
       "      <td>21.26125</td>\n",
       "    </tr>\n",
       "    <tr>\n",
       "      <th>2</th>\n",
       "      <td>3</td>\n",
       "      <td>Albanie</td>\n",
       "      <td>1165445.0</td>\n",
       "      <td>40.66830</td>\n",
       "    </tr>\n",
       "    <tr>\n",
       "      <th>3</th>\n",
       "      <td>4</td>\n",
       "      <td>Algérie</td>\n",
       "      <td>1203040.0</td>\n",
       "      <td>33.56540</td>\n",
       "    </tr>\n",
       "    <tr>\n",
       "      <th>4</th>\n",
       "      <td>7</td>\n",
       "      <td>Angola</td>\n",
       "      <td>902645.0</td>\n",
       "      <td>20.89990</td>\n",
       "    </tr>\n",
       "  </tbody>\n",
       "</table>\n",
       "</div>"
      ],
      "text/plain": [
       "   Code Pays         Pays  Dispoalim(Kcal/hab/an)  Dispoprot(kg/hab/an)\n",
       "0          1      Arménie               1068720.0              32.86460\n",
       "1          2  Afghanistan                762850.0              21.26125\n",
       "2          3      Albanie               1165445.0              40.66830\n",
       "3          4      Algérie               1203040.0              33.56540\n",
       "4          7       Angola                902645.0              20.89990"
      ]
     },
     "execution_count": 45,
     "metadata": {},
     "output_type": "execute_result"
    }
   ],
   "source": [
    "# Renommage des colonnes\n",
    "bilanalim.columns = ['Code Pays', 'Pays', 'Dispoalim(Kcal/hab/an)', 'Dispoprot(kg/hab/an)']\n",
    "\n",
    "# On observe\n",
    "bilanalim.head()"
   ]
  },
  {
   "cell_type": "markdown",
   "metadata": {},
   "source": [
    "<div style=\"border: 1px solid RGB(106,90,205);\">\n",
    "<h3 style=\"margin: auto; padding: 20px; color: RGB(106,90,205);\">Recherche des valeurs manquantes</h3>\n",
    "</div>"
   ]
  },
  {
   "cell_type": "code",
   "execution_count": 46,
   "metadata": {},
   "outputs": [
    {
     "name": "stdout",
     "output_type": "stream",
     "text": [
      "<class 'pandas.core.frame.DataFrame'>\n",
      "RangeIndex: 173 entries, 0 to 172\n",
      "Data columns (total 4 columns):\n",
      "Code Pays                 173 non-null int64\n",
      "Pays                      173 non-null object\n",
      "Dispoalim(Kcal/hab/an)    173 non-null float64\n",
      "Dispoprot(kg/hab/an)      173 non-null float64\n",
      "dtypes: float64(2), int64(1), object(1)\n",
      "memory usage: 5.5+ KB\n"
     ]
    }
   ],
   "source": [
    "bilanalim.info()"
   ]
  },
  {
   "cell_type": "markdown",
   "metadata": {},
   "source": [
    "> La table ne contient pas de valeur manquante"
   ]
  },
  {
   "cell_type": "markdown",
   "metadata": {},
   "source": [
    "<div style=\"border: 1px solid RGB(106,90,205);\">\n",
    "<h3 style=\"margin: auto; padding: 20px; color: RGB(106,90,205);\">Recherche des valeurs aberrantes</h3>\n",
    "</div>"
   ]
  },
  {
   "cell_type": "code",
   "execution_count": 47,
   "metadata": {},
   "outputs": [
    {
     "data": {
      "text/html": [
       "<div>\n",
       "<style scoped>\n",
       "    .dataframe tbody tr th:only-of-type {\n",
       "        vertical-align: middle;\n",
       "    }\n",
       "\n",
       "    .dataframe tbody tr th {\n",
       "        vertical-align: top;\n",
       "    }\n",
       "\n",
       "    .dataframe thead th {\n",
       "        text-align: right;\n",
       "    }\n",
       "</style>\n",
       "<table border=\"1\" class=\"dataframe\">\n",
       "  <thead>\n",
       "    <tr style=\"text-align: right;\">\n",
       "      <th></th>\n",
       "      <th>Code Pays</th>\n",
       "      <th>Pays</th>\n",
       "      <th>Dispoalim(Kcal/hab/an)</th>\n",
       "      <th>Dispoprot(kg/hab/an)</th>\n",
       "    </tr>\n",
       "  </thead>\n",
       "  <tbody>\n",
       "    <tr>\n",
       "      <th>24</th>\n",
       "      <td>37</td>\n",
       "      <td>République centrafricaine</td>\n",
       "      <td>685835.0</td>\n",
       "      <td>16.81190</td>\n",
       "    </tr>\n",
       "    <tr>\n",
       "      <th>168</th>\n",
       "      <td>251</td>\n",
       "      <td>Zambie</td>\n",
       "      <td>704450.0</td>\n",
       "      <td>20.15530</td>\n",
       "    </tr>\n",
       "    <tr>\n",
       "      <th>92</th>\n",
       "      <td>129</td>\n",
       "      <td>Madagascar</td>\n",
       "      <td>748980.0</td>\n",
       "      <td>17.03455</td>\n",
       "    </tr>\n",
       "    <tr>\n",
       "      <th>1</th>\n",
       "      <td>2</td>\n",
       "      <td>Afghanistan</td>\n",
       "      <td>762850.0</td>\n",
       "      <td>21.26125</td>\n",
       "    </tr>\n",
       "    <tr>\n",
       "      <th>61</th>\n",
       "      <td>93</td>\n",
       "      <td>Haïti</td>\n",
       "      <td>763215.0</td>\n",
       "      <td>17.41780</td>\n",
       "    </tr>\n",
       "  </tbody>\n",
       "</table>\n",
       "</div>"
      ],
      "text/plain": [
       "     Code Pays                       Pays  Dispoalim(Kcal/hab/an)  \\\n",
       "24          37  République centrafricaine                685835.0   \n",
       "168        251                     Zambie                704450.0   \n",
       "92         129                 Madagascar                748980.0   \n",
       "1            2                Afghanistan                762850.0   \n",
       "61          93                      Haïti                763215.0   \n",
       "\n",
       "     Dispoprot(kg/hab/an)  \n",
       "24               16.81190  \n",
       "168              20.15530  \n",
       "92               17.03455  \n",
       "1                21.26125  \n",
       "61               17.41780  "
      ]
     },
     "execution_count": 47,
     "metadata": {},
     "output_type": "execute_result"
    }
   ],
   "source": [
    "# Nous faisons un trie ascendant et descendant sur la variable 'Dispoalim(Kcal/hab/an)' avec la méthode .sort_values()\n",
    "bilanalim.sort_values(by='Dispoalim(Kcal/hab/an)',ascending=True).head()"
   ]
  },
  {
   "cell_type": "code",
   "execution_count": 48,
   "metadata": {},
   "outputs": [
    {
     "data": {
      "text/html": [
       "<div>\n",
       "<style scoped>\n",
       "    .dataframe tbody tr th:only-of-type {\n",
       "        vertical-align: middle;\n",
       "    }\n",
       "\n",
       "    .dataframe tbody tr th {\n",
       "        vertical-align: top;\n",
       "    }\n",
       "\n",
       "    .dataframe thead th {\n",
       "        text-align: right;\n",
       "    }\n",
       "</style>\n",
       "<table border=\"1\" class=\"dataframe\">\n",
       "  <thead>\n",
       "    <tr style=\"text-align: right;\">\n",
       "      <th></th>\n",
       "      <th>Code Pays</th>\n",
       "      <th>Pays</th>\n",
       "      <th>Dispoalim(Kcal/hab/an)</th>\n",
       "      <th>Dispoprot(kg/hab/an)</th>\n",
       "    </tr>\n",
       "  </thead>\n",
       "  <tbody>\n",
       "    <tr>\n",
       "      <th>8</th>\n",
       "      <td>11</td>\n",
       "      <td>Autriche</td>\n",
       "      <td>1375320.0</td>\n",
       "      <td>38.76665</td>\n",
       "    </tr>\n",
       "    <tr>\n",
       "      <th>169</th>\n",
       "      <td>255</td>\n",
       "      <td>Belgique</td>\n",
       "      <td>1362545.0</td>\n",
       "      <td>36.35035</td>\n",
       "    </tr>\n",
       "    <tr>\n",
       "      <th>154</th>\n",
       "      <td>223</td>\n",
       "      <td>Turquie</td>\n",
       "      <td>1352690.0</td>\n",
       "      <td>39.46380</td>\n",
       "    </tr>\n",
       "    <tr>\n",
       "      <th>159</th>\n",
       "      <td>231</td>\n",
       "      <td>États-Unis d'Amérique</td>\n",
       "      <td>1343930.0</td>\n",
       "      <td>40.00400</td>\n",
       "    </tr>\n",
       "    <tr>\n",
       "      <th>72</th>\n",
       "      <td>105</td>\n",
       "      <td>Israël</td>\n",
       "      <td>1317650.0</td>\n",
       "      <td>46.77110</td>\n",
       "    </tr>\n",
       "  </tbody>\n",
       "</table>\n",
       "</div>"
      ],
      "text/plain": [
       "     Code Pays                   Pays  Dispoalim(Kcal/hab/an)  \\\n",
       "8           11               Autriche               1375320.0   \n",
       "169        255               Belgique               1362545.0   \n",
       "154        223                Turquie               1352690.0   \n",
       "159        231  États-Unis d'Amérique               1343930.0   \n",
       "72         105                 Israël               1317650.0   \n",
       "\n",
       "     Dispoprot(kg/hab/an)  \n",
       "8                38.76665  \n",
       "169              36.35035  \n",
       "154              39.46380  \n",
       "159              40.00400  \n",
       "72               46.77110  "
      ]
     },
     "execution_count": 48,
     "metadata": {},
     "output_type": "execute_result"
    }
   ],
   "source": [
    "bilanalim.sort_values(by='Dispoalim(Kcal/hab/an)',ascending=False).head()"
   ]
  },
  {
   "cell_type": "markdown",
   "metadata": {},
   "source": [
    "> La variable 'Dispoalim(Kcal/hab/an)' ne contient pas de valeur aberrante"
   ]
  },
  {
   "cell_type": "code",
   "execution_count": 49,
   "metadata": {},
   "outputs": [
    {
     "data": {
      "text/html": [
       "<div>\n",
       "<style scoped>\n",
       "    .dataframe tbody tr th:only-of-type {\n",
       "        vertical-align: middle;\n",
       "    }\n",
       "\n",
       "    .dataframe tbody tr th {\n",
       "        vertical-align: top;\n",
       "    }\n",
       "\n",
       "    .dataframe thead th {\n",
       "        text-align: right;\n",
       "    }\n",
       "</style>\n",
       "<table border=\"1\" class=\"dataframe\">\n",
       "  <thead>\n",
       "    <tr style=\"text-align: right;\">\n",
       "      <th></th>\n",
       "      <th>Code Pays</th>\n",
       "      <th>Pays</th>\n",
       "      <th>Dispoalim(Kcal/hab/an)</th>\n",
       "      <th>Dispoprot(kg/hab/an)</th>\n",
       "    </tr>\n",
       "  </thead>\n",
       "  <tbody>\n",
       "    <tr>\n",
       "      <th>89</th>\n",
       "      <td>123</td>\n",
       "      <td>Libéria</td>\n",
       "      <td>804460.0</td>\n",
       "      <td>13.74590</td>\n",
       "    </tr>\n",
       "    <tr>\n",
       "      <th>124</th>\n",
       "      <td>175</td>\n",
       "      <td>Guinée-Bissau</td>\n",
       "      <td>836580.0</td>\n",
       "      <td>16.07460</td>\n",
       "    </tr>\n",
       "    <tr>\n",
       "      <th>103</th>\n",
       "      <td>144</td>\n",
       "      <td>Mozambique</td>\n",
       "      <td>833295.0</td>\n",
       "      <td>16.68050</td>\n",
       "    </tr>\n",
       "    <tr>\n",
       "      <th>24</th>\n",
       "      <td>37</td>\n",
       "      <td>République centrafricaine</td>\n",
       "      <td>685835.0</td>\n",
       "      <td>16.81190</td>\n",
       "    </tr>\n",
       "    <tr>\n",
       "      <th>92</th>\n",
       "      <td>129</td>\n",
       "      <td>Madagascar</td>\n",
       "      <td>748980.0</td>\n",
       "      <td>17.03455</td>\n",
       "    </tr>\n",
       "  </tbody>\n",
       "</table>\n",
       "</div>"
      ],
      "text/plain": [
       "     Code Pays                       Pays  Dispoalim(Kcal/hab/an)  \\\n",
       "89         123                    Libéria                804460.0   \n",
       "124        175              Guinée-Bissau                836580.0   \n",
       "103        144                 Mozambique                833295.0   \n",
       "24          37  République centrafricaine                685835.0   \n",
       "92         129                 Madagascar                748980.0   \n",
       "\n",
       "     Dispoprot(kg/hab/an)  \n",
       "89               13.74590  \n",
       "124              16.07460  \n",
       "103              16.68050  \n",
       "24               16.81190  \n",
       "92               17.03455  "
      ]
     },
     "execution_count": 49,
     "metadata": {},
     "output_type": "execute_result"
    }
   ],
   "source": [
    "# Nous faisons un trie ascendant et descendant sur la variable 'Dispoprot(kg/hab/an)' avec la méthode .sort_values()\n",
    "bilanalim.sort_values(by='Dispoprot(kg/hab/an)',ascending=True).head()"
   ]
  },
  {
   "cell_type": "code",
   "execution_count": 50,
   "metadata": {},
   "outputs": [
    {
     "data": {
      "text/html": [
       "<div>\n",
       "<style scoped>\n",
       "    .dataframe tbody tr th:only-of-type {\n",
       "        vertical-align: middle;\n",
       "    }\n",
       "\n",
       "    .dataframe tbody tr th {\n",
       "        vertical-align: top;\n",
       "    }\n",
       "\n",
       "    .dataframe thead th {\n",
       "        text-align: right;\n",
       "    }\n",
       "</style>\n",
       "<table border=\"1\" class=\"dataframe\">\n",
       "  <thead>\n",
       "    <tr style=\"text-align: right;\">\n",
       "      <th></th>\n",
       "      <th>Code Pays</th>\n",
       "      <th>Pays</th>\n",
       "      <th>Dispoalim(Kcal/hab/an)</th>\n",
       "      <th>Dispoprot(kg/hab/an)</th>\n",
       "    </tr>\n",
       "  </thead>\n",
       "  <tbody>\n",
       "    <tr>\n",
       "      <th>66</th>\n",
       "      <td>99</td>\n",
       "      <td>Islande</td>\n",
       "      <td>1233700.0</td>\n",
       "      <td>48.74210</td>\n",
       "    </tr>\n",
       "    <tr>\n",
       "      <th>63</th>\n",
       "      <td>96</td>\n",
       "      <td>Chine - RAS de Hong-Kong</td>\n",
       "      <td>1200850.0</td>\n",
       "      <td>47.15070</td>\n",
       "    </tr>\n",
       "    <tr>\n",
       "      <th>72</th>\n",
       "      <td>105</td>\n",
       "      <td>Israël</td>\n",
       "      <td>1317650.0</td>\n",
       "      <td>46.77110</td>\n",
       "    </tr>\n",
       "    <tr>\n",
       "      <th>90</th>\n",
       "      <td>126</td>\n",
       "      <td>Lituanie</td>\n",
       "      <td>1247205.0</td>\n",
       "      <td>45.43885</td>\n",
       "    </tr>\n",
       "    <tr>\n",
       "      <th>95</th>\n",
       "      <td>132</td>\n",
       "      <td>Maldives</td>\n",
       "      <td>997180.0</td>\n",
       "      <td>44.68695</td>\n",
       "    </tr>\n",
       "  </tbody>\n",
       "</table>\n",
       "</div>"
      ],
      "text/plain": [
       "    Code Pays                      Pays  Dispoalim(Kcal/hab/an)  \\\n",
       "66         99                   Islande               1233700.0   \n",
       "63         96  Chine - RAS de Hong-Kong               1200850.0   \n",
       "72        105                    Israël               1317650.0   \n",
       "90        126                  Lituanie               1247205.0   \n",
       "95        132                  Maldives                997180.0   \n",
       "\n",
       "    Dispoprot(kg/hab/an)  \n",
       "66              48.74210  \n",
       "63              47.15070  \n",
       "72              46.77110  \n",
       "90              45.43885  \n",
       "95              44.68695  "
      ]
     },
     "execution_count": 50,
     "metadata": {},
     "output_type": "execute_result"
    }
   ],
   "source": [
    "bilanalim.sort_values(by='Dispoprot(kg/hab/an)',ascending=False).head()"
   ]
  },
  {
   "cell_type": "markdown",
   "metadata": {},
   "source": [
    "> La variable 'Dispoprot(kg/hab/an)' ne contient pas de valeur aberrante"
   ]
  },
  {
   "cell_type": "markdown",
   "metadata": {},
   "source": [
    "<div style=\"border: 1px solid RGB(106,90,205);\">\n",
    "<h3 style=\"margin: auto; padding: 20px; color: RGB(106,90,205);\">Recherche des doublons</h3>\n",
    "</div>"
   ]
  },
  {
   "cell_type": "code",
   "execution_count": 51,
   "metadata": {},
   "outputs": [
    {
     "data": {
      "text/plain": [
       "173"
      ]
     },
     "execution_count": 51,
     "metadata": {},
     "output_type": "execute_result"
    }
   ],
   "source": [
    "# recherche du nombre d'élémnets au sein de la table 'bilanalim'\n",
    "len(bilanalim)"
   ]
  },
  {
   "cell_type": "code",
   "execution_count": 52,
   "metadata": {},
   "outputs": [],
   "source": [
    "# détection et suppression des doublons \n",
    "bilanalim.drop_duplicates(keep='first',inplace=True)"
   ]
  },
  {
   "cell_type": "code",
   "execution_count": 53,
   "metadata": {},
   "outputs": [
    {
     "data": {
      "text/plain": [
       "173"
      ]
     },
     "execution_count": 53,
     "metadata": {},
     "output_type": "execute_result"
    }
   ],
   "source": [
    "len(bilanalim)"
   ]
  },
  {
   "cell_type": "markdown",
   "metadata": {},
   "source": [
    "> Au regard du nombre d'éléments  après traitement, la table 'bilanalim' ne contient plus, ni valeur manquante, ni \n",
    "> valeur aberrante, ni doublon"
   ]
  },
  {
   "cell_type": "markdown",
   "metadata": {},
   "source": [
    "<div style=\"border: 1px solid RGB(106,90,205);\">\n",
    "<h3 style=\"margin: auto; padding: 20px; color: RGB(106,90,205);\">Importation du fichier relatif aux importations de volailles</h3>\n",
    "</div>"
   ]
  },
  {
   "cell_type": "code",
   "execution_count": 54,
   "metadata": {},
   "outputs": [
    {
     "data": {
      "text/html": [
       "<div>\n",
       "<style scoped>\n",
       "    .dataframe tbody tr th:only-of-type {\n",
       "        vertical-align: middle;\n",
       "    }\n",
       "\n",
       "    .dataframe tbody tr th {\n",
       "        vertical-align: top;\n",
       "    }\n",
       "\n",
       "    .dataframe thead th {\n",
       "        text-align: right;\n",
       "    }\n",
       "</style>\n",
       "<table border=\"1\" class=\"dataframe\">\n",
       "  <thead>\n",
       "    <tr style=\"text-align: right;\">\n",
       "      <th></th>\n",
       "      <th>Code Domaine</th>\n",
       "      <th>Domaine</th>\n",
       "      <th>Code Pays</th>\n",
       "      <th>Pays</th>\n",
       "      <th>Code Élément</th>\n",
       "      <th>Élément</th>\n",
       "      <th>Code Produit</th>\n",
       "      <th>Produit</th>\n",
       "      <th>Code Année</th>\n",
       "      <th>Année</th>\n",
       "      <th>Unité</th>\n",
       "      <th>Valeur</th>\n",
       "      <th>Symbole</th>\n",
       "      <th>Description du Symbole</th>\n",
       "    </tr>\n",
       "  </thead>\n",
       "  <tbody>\n",
       "    <tr>\n",
       "      <th>0</th>\n",
       "      <td>FBS</td>\n",
       "      <td>Bilans Alimentaires</td>\n",
       "      <td>2</td>\n",
       "      <td>Afghanistan</td>\n",
       "      <td>5611</td>\n",
       "      <td>Importations - Quantité</td>\n",
       "      <td>2734</td>\n",
       "      <td>Viande de Volailles</td>\n",
       "      <td>2013</td>\n",
       "      <td>2013</td>\n",
       "      <td>Milliers de tonnes</td>\n",
       "      <td>48</td>\n",
       "      <td>S</td>\n",
       "      <td>Données standardisées</td>\n",
       "    </tr>\n",
       "    <tr>\n",
       "      <th>1</th>\n",
       "      <td>FBS</td>\n",
       "      <td>Bilans Alimentaires</td>\n",
       "      <td>202</td>\n",
       "      <td>Afrique du Sud</td>\n",
       "      <td>5611</td>\n",
       "      <td>Importations - Quantité</td>\n",
       "      <td>2734</td>\n",
       "      <td>Viande de Volailles</td>\n",
       "      <td>2013</td>\n",
       "      <td>2013</td>\n",
       "      <td>Milliers de tonnes</td>\n",
       "      <td>356</td>\n",
       "      <td>S</td>\n",
       "      <td>Données standardisées</td>\n",
       "    </tr>\n",
       "    <tr>\n",
       "      <th>2</th>\n",
       "      <td>FBS</td>\n",
       "      <td>Bilans Alimentaires</td>\n",
       "      <td>3</td>\n",
       "      <td>Albanie</td>\n",
       "      <td>5611</td>\n",
       "      <td>Importations - Quantité</td>\n",
       "      <td>2734</td>\n",
       "      <td>Viande de Volailles</td>\n",
       "      <td>2013</td>\n",
       "      <td>2013</td>\n",
       "      <td>Milliers de tonnes</td>\n",
       "      <td>25</td>\n",
       "      <td>S</td>\n",
       "      <td>Données standardisées</td>\n",
       "    </tr>\n",
       "    <tr>\n",
       "      <th>3</th>\n",
       "      <td>FBS</td>\n",
       "      <td>Bilans Alimentaires</td>\n",
       "      <td>4</td>\n",
       "      <td>Algérie</td>\n",
       "      <td>5611</td>\n",
       "      <td>Importations - Quantité</td>\n",
       "      <td>2734</td>\n",
       "      <td>Viande de Volailles</td>\n",
       "      <td>2013</td>\n",
       "      <td>2013</td>\n",
       "      <td>Milliers de tonnes</td>\n",
       "      <td>3</td>\n",
       "      <td>S</td>\n",
       "      <td>Données standardisées</td>\n",
       "    </tr>\n",
       "    <tr>\n",
       "      <th>4</th>\n",
       "      <td>FBS</td>\n",
       "      <td>Bilans Alimentaires</td>\n",
       "      <td>79</td>\n",
       "      <td>Allemagne</td>\n",
       "      <td>5611</td>\n",
       "      <td>Importations - Quantité</td>\n",
       "      <td>2734</td>\n",
       "      <td>Viande de Volailles</td>\n",
       "      <td>2013</td>\n",
       "      <td>2013</td>\n",
       "      <td>Milliers de tonnes</td>\n",
       "      <td>788</td>\n",
       "      <td>S</td>\n",
       "      <td>Données standardisées</td>\n",
       "    </tr>\n",
       "  </tbody>\n",
       "</table>\n",
       "</div>"
      ],
      "text/plain": [
       "  Code Domaine              Domaine  Code Pays            Pays  Code Élément  \\\n",
       "0          FBS  Bilans Alimentaires          2     Afghanistan          5611   \n",
       "1          FBS  Bilans Alimentaires        202  Afrique du Sud          5611   \n",
       "2          FBS  Bilans Alimentaires          3         Albanie          5611   \n",
       "3          FBS  Bilans Alimentaires          4         Algérie          5611   \n",
       "4          FBS  Bilans Alimentaires         79       Allemagne          5611   \n",
       "\n",
       "                   Élément  Code Produit              Produit  Code Année  \\\n",
       "0  Importations - Quantité          2734  Viande de Volailles        2013   \n",
       "1  Importations - Quantité          2734  Viande de Volailles        2013   \n",
       "2  Importations - Quantité          2734  Viande de Volailles        2013   \n",
       "3  Importations - Quantité          2734  Viande de Volailles        2013   \n",
       "4  Importations - Quantité          2734  Viande de Volailles        2013   \n",
       "\n",
       "   Année               Unité  Valeur Symbole Description du Symbole  \n",
       "0   2013  Milliers de tonnes      48       S  Données standardisées  \n",
       "1   2013  Milliers de tonnes     356       S  Données standardisées  \n",
       "2   2013  Milliers de tonnes      25       S  Données standardisées  \n",
       "3   2013  Milliers de tonnes       3       S  Données standardisées  \n",
       "4   2013  Milliers de tonnes     788       S  Données standardisées  "
      ]
     },
     "execution_count": 54,
     "metadata": {},
     "output_type": "execute_result"
    }
   ],
   "source": [
    "# On importe le fichier provenant du site de la 'FAO'\n",
    "# D'une part, l'individu 'Chine' n'a pas été sélectionné, pour éviter les doublons\n",
    "# D'autre part les données relatives au pays supprimées ci-dessus n'ont pas été sélectionnées\n",
    "impvola = pd.read_csv(\"impvola.csv\")\n",
    "\n",
    "# On observe\n",
    "impvola.head()"
   ]
  },
  {
   "cell_type": "code",
   "execution_count": 55,
   "metadata": {},
   "outputs": [],
   "source": [
    "# 'Valeur' mise à la bonne unité\n",
    "impvola['Valeur'] = impvola['Valeur']*1000000"
   ]
  },
  {
   "cell_type": "markdown",
   "metadata": {},
   "source": [
    "> Nous allons construire la variable 'impvola' :\n",
    ">\n",
    "> - Calcul de la quantité importée de volailles par pays, avec en parallèle un traitement des valeurs manquantes, aberrantes et des doublons sur la table 'impvola'"
   ]
  },
  {
   "cell_type": "code",
   "execution_count": 56,
   "metadata": {
    "scrolled": false
   },
   "outputs": [
    {
     "data": {
      "text/html": [
       "<div>\n",
       "<style scoped>\n",
       "    .dataframe tbody tr th:only-of-type {\n",
       "        vertical-align: middle;\n",
       "    }\n",
       "\n",
       "    .dataframe tbody tr th {\n",
       "        vertical-align: top;\n",
       "    }\n",
       "\n",
       "    .dataframe thead th {\n",
       "        text-align: right;\n",
       "    }\n",
       "</style>\n",
       "<table border=\"1\" class=\"dataframe\">\n",
       "  <thead>\n",
       "    <tr style=\"text-align: right;\">\n",
       "      <th></th>\n",
       "      <th>Code Pays</th>\n",
       "      <th>Pays</th>\n",
       "      <th>impvola</th>\n",
       "    </tr>\n",
       "  </thead>\n",
       "  <tbody>\n",
       "    <tr>\n",
       "      <th>0</th>\n",
       "      <td>1</td>\n",
       "      <td>Arménie</td>\n",
       "      <td>32000000</td>\n",
       "    </tr>\n",
       "    <tr>\n",
       "      <th>1</th>\n",
       "      <td>2</td>\n",
       "      <td>Afghanistan</td>\n",
       "      <td>48000000</td>\n",
       "    </tr>\n",
       "    <tr>\n",
       "      <th>2</th>\n",
       "      <td>3</td>\n",
       "      <td>Albanie</td>\n",
       "      <td>25000000</td>\n",
       "    </tr>\n",
       "    <tr>\n",
       "      <th>3</th>\n",
       "      <td>4</td>\n",
       "      <td>Algérie</td>\n",
       "      <td>3000000</td>\n",
       "    </tr>\n",
       "    <tr>\n",
       "      <th>4</th>\n",
       "      <td>7</td>\n",
       "      <td>Angola</td>\n",
       "      <td>342000000</td>\n",
       "    </tr>\n",
       "  </tbody>\n",
       "</table>\n",
       "</div>"
      ],
      "text/plain": [
       "   Code Pays         Pays    impvola\n",
       "0          1      Arménie   32000000\n",
       "1          2  Afghanistan   48000000\n",
       "2          3      Albanie   25000000\n",
       "3          4      Algérie    3000000\n",
       "4          7       Angola  342000000"
      ]
     },
     "execution_count": 56,
     "metadata": {},
     "output_type": "execute_result"
    }
   ],
   "source": [
    "# Formatage du dataframe\n",
    "impvola = impvola.pivot_table(values = [\"Valeur\"], index = [\"Code Pays\", \"Pays\"],columns = [\"Élément\"],\n",
    "                          aggfunc = sum)\n",
    "impvola.columns = ['Importations - Quantité']\n",
    "impvola = impvola.reset_index()\n",
    "\n",
    "# Renommage des colonnes \n",
    "impvola.columns = ['Code Pays', 'Pays', 'impvola']\n",
    "\n",
    "# On observe\n",
    "impvola.head()"
   ]
  },
  {
   "cell_type": "markdown",
   "metadata": {},
   "source": [
    "<div style=\"border: 1px solid RGB(106,90,205);\">\n",
    "<h3 style=\"margin: auto; padding: 20px; color: RGB(106,90,205);\">Recherche des valeurs manquantes</h3>\n",
    "</div>"
   ]
  },
  {
   "cell_type": "code",
   "execution_count": 57,
   "metadata": {},
   "outputs": [
    {
     "name": "stdout",
     "output_type": "stream",
     "text": [
      "<class 'pandas.core.frame.DataFrame'>\n",
      "RangeIndex: 172 entries, 0 to 171\n",
      "Data columns (total 3 columns):\n",
      "Code Pays    172 non-null int64\n",
      "Pays         172 non-null object\n",
      "impvola      172 non-null int64\n",
      "dtypes: int64(2), object(1)\n",
      "memory usage: 4.1+ KB\n"
     ]
    }
   ],
   "source": [
    "impvola.info()"
   ]
  },
  {
   "cell_type": "markdown",
   "metadata": {},
   "source": [
    "> La table 'impvola' ne contient pas de valeur manquante"
   ]
  },
  {
   "cell_type": "markdown",
   "metadata": {},
   "source": [
    "<div style=\"border: 1px solid RGB(106,90,205);\">\n",
    "<h3 style=\"margin: auto; padding: 20px; color: RGB(106,90,205);\">Recherche des valeurs aberrantes</h3>\n",
    "</div>"
   ]
  },
  {
   "cell_type": "code",
   "execution_count": 58,
   "metadata": {},
   "outputs": [
    {
     "data": {
      "text/html": [
       "<div>\n",
       "<style scoped>\n",
       "    .dataframe tbody tr th:only-of-type {\n",
       "        vertical-align: middle;\n",
       "    }\n",
       "\n",
       "    .dataframe tbody tr th {\n",
       "        vertical-align: top;\n",
       "    }\n",
       "\n",
       "    .dataframe thead th {\n",
       "        text-align: right;\n",
       "    }\n",
       "</style>\n",
       "<table border=\"1\" class=\"dataframe\">\n",
       "  <thead>\n",
       "    <tr style=\"text-align: right;\">\n",
       "      <th></th>\n",
       "      <th>Code Pays</th>\n",
       "      <th>Pays</th>\n",
       "      <th>impvola</th>\n",
       "    </tr>\n",
       "  </thead>\n",
       "  <tbody>\n",
       "    <tr>\n",
       "      <th>85</th>\n",
       "      <td>120</td>\n",
       "      <td>République démocratique populaire lao</td>\n",
       "      <td>0</td>\n",
       "    </tr>\n",
       "    <tr>\n",
       "      <th>72</th>\n",
       "      <td>105</td>\n",
       "      <td>Israël</td>\n",
       "      <td>0</td>\n",
       "    </tr>\n",
       "    <tr>\n",
       "      <th>80</th>\n",
       "      <td>114</td>\n",
       "      <td>Kenya</td>\n",
       "      <td>0</td>\n",
       "    </tr>\n",
       "    <tr>\n",
       "      <th>91</th>\n",
       "      <td>129</td>\n",
       "      <td>Madagascar</td>\n",
       "      <td>0</td>\n",
       "    </tr>\n",
       "    <tr>\n",
       "      <th>92</th>\n",
       "      <td>130</td>\n",
       "      <td>Malawi</td>\n",
       "      <td>0</td>\n",
       "    </tr>\n",
       "  </tbody>\n",
       "</table>\n",
       "</div>"
      ],
      "text/plain": [
       "    Code Pays                                   Pays  impvola\n",
       "85        120  République démocratique populaire lao        0\n",
       "72        105                                 Israël        0\n",
       "80        114                                  Kenya        0\n",
       "91        129                             Madagascar        0\n",
       "92        130                                 Malawi        0"
      ]
     },
     "execution_count": 58,
     "metadata": {},
     "output_type": "execute_result"
    }
   ],
   "source": [
    "# Nous faisons un trie ascendant et descendant sur la variable 'impvola' avec la méthode .sort_values()\n",
    "impvola.sort_values(by='impvola',ascending=True).head()"
   ]
  },
  {
   "cell_type": "code",
   "execution_count": 59,
   "metadata": {},
   "outputs": [
    {
     "data": {
      "text/html": [
       "<div>\n",
       "<style scoped>\n",
       "    .dataframe tbody tr th:only-of-type {\n",
       "        vertical-align: middle;\n",
       "    }\n",
       "\n",
       "    .dataframe tbody tr th {\n",
       "        vertical-align: top;\n",
       "    }\n",
       "\n",
       "    .dataframe thead th {\n",
       "        text-align: right;\n",
       "    }\n",
       "</style>\n",
       "<table border=\"1\" class=\"dataframe\">\n",
       "  <thead>\n",
       "    <tr style=\"text-align: right;\">\n",
       "      <th></th>\n",
       "      <th>Code Pays</th>\n",
       "      <th>Pays</th>\n",
       "      <th>impvola</th>\n",
       "    </tr>\n",
       "  </thead>\n",
       "  <tbody>\n",
       "    <tr>\n",
       "      <th>63</th>\n",
       "      <td>96</td>\n",
       "      <td>Chine - RAS de Hong-Kong</td>\n",
       "      <td>1186000000</td>\n",
       "    </tr>\n",
       "    <tr>\n",
       "      <th>77</th>\n",
       "      <td>110</td>\n",
       "      <td>Japon</td>\n",
       "      <td>1056000000</td>\n",
       "    </tr>\n",
       "    <tr>\n",
       "      <th>133</th>\n",
       "      <td>194</td>\n",
       "      <td>Arabie saoudite</td>\n",
       "      <td>879000000</td>\n",
       "    </tr>\n",
       "    <tr>\n",
       "      <th>99</th>\n",
       "      <td>138</td>\n",
       "      <td>Mexique</td>\n",
       "      <td>849000000</td>\n",
       "    </tr>\n",
       "    <tr>\n",
       "      <th>156</th>\n",
       "      <td>229</td>\n",
       "      <td>Royaume-Uni</td>\n",
       "      <td>812000000</td>\n",
       "    </tr>\n",
       "  </tbody>\n",
       "</table>\n",
       "</div>"
      ],
      "text/plain": [
       "     Code Pays                      Pays     impvola\n",
       "63          96  Chine - RAS de Hong-Kong  1186000000\n",
       "77         110                     Japon  1056000000\n",
       "133        194           Arabie saoudite   879000000\n",
       "99         138                   Mexique   849000000\n",
       "156        229               Royaume-Uni   812000000"
      ]
     },
     "execution_count": 59,
     "metadata": {},
     "output_type": "execute_result"
    }
   ],
   "source": [
    "impvola.sort_values(by='impvola',ascending=False).head()"
   ]
  },
  {
   "cell_type": "markdown",
   "metadata": {},
   "source": [
    "> La variable 'impvola' ne contient pas de valeur aberrante"
   ]
  },
  {
   "cell_type": "markdown",
   "metadata": {},
   "source": [
    "<div style=\"border: 1px solid RGB(106,90,205);\">\n",
    "<h3 style=\"margin: auto; padding: 20px; color: RGB(106,90,205);\">Recherche des doublons</h3>\n",
    "</div>"
   ]
  },
  {
   "cell_type": "code",
   "execution_count": 60,
   "metadata": {},
   "outputs": [
    {
     "data": {
      "text/plain": [
       "172"
      ]
     },
     "execution_count": 60,
     "metadata": {},
     "output_type": "execute_result"
    }
   ],
   "source": [
    "# recherche du nombre d'éléments au sein de la table 'impvola'\n",
    "len(impvola)"
   ]
  },
  {
   "cell_type": "code",
   "execution_count": 61,
   "metadata": {},
   "outputs": [],
   "source": [
    "# détection et suppression des doublons \n",
    "impvola.drop_duplicates(keep='first',inplace=True)"
   ]
  },
  {
   "cell_type": "code",
   "execution_count": 62,
   "metadata": {},
   "outputs": [
    {
     "data": {
      "text/plain": [
       "172"
      ]
     },
     "execution_count": 62,
     "metadata": {},
     "output_type": "execute_result"
    }
   ],
   "source": [
    "len(impvola)"
   ]
  },
  {
   "cell_type": "markdown",
   "metadata": {},
   "source": [
    "> Au regard du nombre d'éléments  après traitement, la table 'impvola' ne contient plus, ni valeur manquante, ni \n",
    "> valeur aberrante, ni doublon"
   ]
  },
  {
   "cell_type": "markdown",
   "metadata": {},
   "source": [
    "<div style=\"border: 1px solid RGB(106,90,205);\">\n",
    "<h3 style=\"margin: auto; padding: 20px; color: RGB(106,90,205);\">Jointure entière sur l'ensemble des tables travaillées </h3>\n",
    "</div>"
   ]
  },
  {
   "cell_type": "code",
   "execution_count": 63,
   "metadata": {
    "scrolled": true
   },
   "outputs": [
    {
     "data": {
      "text/html": [
       "<div>\n",
       "<style scoped>\n",
       "    .dataframe tbody tr th:only-of-type {\n",
       "        vertical-align: middle;\n",
       "    }\n",
       "\n",
       "    .dataframe tbody tr th {\n",
       "        vertical-align: top;\n",
       "    }\n",
       "\n",
       "    .dataframe thead th {\n",
       "        text-align: right;\n",
       "    }\n",
       "</style>\n",
       "<table border=\"1\" class=\"dataframe\">\n",
       "  <thead>\n",
       "    <tr style=\"text-align: right;\">\n",
       "      <th></th>\n",
       "      <th>Pays</th>\n",
       "      <th>%evopop</th>\n",
       "      <th>PIB/hab</th>\n",
       "      <th>%protani</th>\n",
       "      <th>Dispoalim(Kcal/hab/an)</th>\n",
       "      <th>Dispoprot(kg/hab/an)</th>\n",
       "      <th>impvola</th>\n",
       "    </tr>\n",
       "  </thead>\n",
       "  <tbody>\n",
       "    <tr>\n",
       "      <th>0</th>\n",
       "      <td>Arménie</td>\n",
       "      <td>-0.505842</td>\n",
       "      <td>3843.590751</td>\n",
       "      <td>48.034207</td>\n",
       "      <td>1068720.0</td>\n",
       "      <td>32.86460</td>\n",
       "      <td>32000000.0</td>\n",
       "    </tr>\n",
       "    <tr>\n",
       "      <th>1</th>\n",
       "      <td>Afghanistan</td>\n",
       "      <td>16.258709</td>\n",
       "      <td>681.033974</td>\n",
       "      <td>20.978541</td>\n",
       "      <td>762850.0</td>\n",
       "      <td>21.26125</td>\n",
       "      <td>48000000.0</td>\n",
       "    </tr>\n",
       "    <tr>\n",
       "      <th>2</th>\n",
       "      <td>Albanie</td>\n",
       "      <td>-2.429194</td>\n",
       "      <td>4376.970549</td>\n",
       "      <td>53.329743</td>\n",
       "      <td>1165445.0</td>\n",
       "      <td>40.66830</td>\n",
       "      <td>25000000.0</td>\n",
       "    </tr>\n",
       "    <tr>\n",
       "      <th>3</th>\n",
       "      <td>Algérie</td>\n",
       "      <td>9.976408</td>\n",
       "      <td>5471.866638</td>\n",
       "      <td>27.174859</td>\n",
       "      <td>1203040.0</td>\n",
       "      <td>33.56540</td>\n",
       "      <td>3000000.0</td>\n",
       "    </tr>\n",
       "    <tr>\n",
       "      <th>4</th>\n",
       "      <td>Andorre</td>\n",
       "      <td>-3.664397</td>\n",
       "      <td>40621.912722</td>\n",
       "      <td>NaN</td>\n",
       "      <td>NaN</td>\n",
       "      <td>NaN</td>\n",
       "      <td>NaN</td>\n",
       "    </tr>\n",
       "  </tbody>\n",
       "</table>\n",
       "</div>"
      ],
      "text/plain": [
       "          Pays    %evopop       PIB/hab   %protani  Dispoalim(Kcal/hab/an)  \\\n",
       "0      Arménie  -0.505842   3843.590751  48.034207               1068720.0   \n",
       "1  Afghanistan  16.258709    681.033974  20.978541                762850.0   \n",
       "2      Albanie  -2.429194   4376.970549  53.329743               1165445.0   \n",
       "3      Algérie   9.976408   5471.866638  27.174859               1203040.0   \n",
       "4      Andorre  -3.664397  40621.912722        NaN                     NaN   \n",
       "\n",
       "   Dispoprot(kg/hab/an)     impvola  \n",
       "0              32.86460  32000000.0  \n",
       "1              21.26125  48000000.0  \n",
       "2              40.66830  25000000.0  \n",
       "3              33.56540   3000000.0  \n",
       "4                   NaN         NaN  "
      ]
     },
     "execution_count": 63,
     "metadata": {},
     "output_type": "execute_result"
    }
   ],
   "source": [
    "# Jointure\n",
    "bdd = pd.merge(popib, prot, how='outer', on=['Code Pays','Pays'])\n",
    "bdd = pd.merge(bdd, bilanalim, how='outer', on=['Code Pays','Pays'])\n",
    "bdd = pd.merge(bdd, impvola, how='outer', on=['Code Pays','Pays'])\n",
    "\n",
    "# Suppression de la variable inutile \n",
    "bdd = bdd.drop(columns=['Code Pays'])\n",
    "\n",
    "# On observe\n",
    "bdd.head()"
   ]
  },
  {
   "cell_type": "markdown",
   "metadata": {},
   "source": [
    "<div style=\"border: 1px solid RGB(106,90,205);\">\n",
    "<h3 style=\"margin: auto; padding: 20px; color: RGB(106,90,205);\">Recherche des valeurs manquantes</h3>\n",
    "</div>"
   ]
  },
  {
   "cell_type": "code",
   "execution_count": 64,
   "metadata": {
    "scrolled": true
   },
   "outputs": [
    {
     "name": "stdout",
     "output_type": "stream",
     "text": [
      "<class 'pandas.core.frame.DataFrame'>\n",
      "Int64Index: 207 entries, 0 to 206\n",
      "Data columns (total 7 columns):\n",
      "Pays                      207 non-null object\n",
      "%evopop                   206 non-null float64\n",
      "PIB/hab                   206 non-null float64\n",
      "%protani                  173 non-null float64\n",
      "Dispoalim(Kcal/hab/an)    173 non-null float64\n",
      "Dispoprot(kg/hab/an)      173 non-null float64\n",
      "impvola                   172 non-null float64\n",
      "dtypes: float64(6), object(1)\n",
      "memory usage: 12.9+ KB\n"
     ]
    }
   ],
   "source": [
    "bdd.info()"
   ]
  },
  {
   "cell_type": "markdown",
   "metadata": {},
   "source": [
    "> Nous observons des valeurs manquantes au sein des variables suivantes :\n",
    "> - '%evopop'\n",
    "> - 'PIB/hab'\n",
    "> - '%protani'\n",
    "> - 'Dispoalim(Kcal/hab/an)'\n",
    "> - 'Dispoprot(kg/hab/an)'\n",
    "> - 'impvola'"
   ]
  },
  {
   "cell_type": "code",
   "execution_count": 65,
   "metadata": {},
   "outputs": [
    {
     "data": {
      "text/html": [
       "<div>\n",
       "<style scoped>\n",
       "    .dataframe tbody tr th:only-of-type {\n",
       "        vertical-align: middle;\n",
       "    }\n",
       "\n",
       "    .dataframe tbody tr th {\n",
       "        vertical-align: top;\n",
       "    }\n",
       "\n",
       "    .dataframe thead th {\n",
       "        text-align: right;\n",
       "    }\n",
       "</style>\n",
       "<table border=\"1\" class=\"dataframe\">\n",
       "  <thead>\n",
       "    <tr style=\"text-align: right;\">\n",
       "      <th></th>\n",
       "      <th>Pays</th>\n",
       "      <th>%evopop</th>\n",
       "      <th>PIB/hab</th>\n",
       "      <th>%protani</th>\n",
       "      <th>Dispoalim(Kcal/hab/an)</th>\n",
       "      <th>Dispoprot(kg/hab/an)</th>\n",
       "      <th>impvola</th>\n",
       "    </tr>\n",
       "  </thead>\n",
       "  <tbody>\n",
       "    <tr>\n",
       "      <th>206</th>\n",
       "      <td>Chine, Taiwan Province de</td>\n",
       "      <td>NaN</td>\n",
       "      <td>NaN</td>\n",
       "      <td>48.462224</td>\n",
       "      <td>1093905.0</td>\n",
       "      <td>32.7551</td>\n",
       "      <td>116000000.0</td>\n",
       "    </tr>\n",
       "  </tbody>\n",
       "</table>\n",
       "</div>"
      ],
      "text/plain": [
       "                          Pays  %evopop  PIB/hab   %protani  \\\n",
       "206  Chine, Taiwan Province de      NaN      NaN  48.462224   \n",
       "\n",
       "     Dispoalim(Kcal/hab/an)  Dispoprot(kg/hab/an)      impvola  \n",
       "206               1093905.0               32.7551  116000000.0  "
      ]
     },
     "execution_count": 65,
     "metadata": {},
     "output_type": "execute_result"
    }
   ],
   "source": [
    "# Recherche de l'individu de la variable '%evopop' avec une valeur 'NaN'\n",
    "bdd.loc[np.isnan(bdd['%evopop']),:]"
   ]
  },
  {
   "cell_type": "code",
   "execution_count": 66,
   "metadata": {},
   "outputs": [],
   "source": [
    "# Suppression de l'individu \n",
    "bdd = bdd.loc[~np.isnan(bdd['%evopop']),:]"
   ]
  },
  {
   "cell_type": "code",
   "execution_count": 67,
   "metadata": {},
   "outputs": [
    {
     "data": {
      "text/html": [
       "<div>\n",
       "<style scoped>\n",
       "    .dataframe tbody tr th:only-of-type {\n",
       "        vertical-align: middle;\n",
       "    }\n",
       "\n",
       "    .dataframe tbody tr th {\n",
       "        vertical-align: top;\n",
       "    }\n",
       "\n",
       "    .dataframe thead th {\n",
       "        text-align: right;\n",
       "    }\n",
       "</style>\n",
       "<table border=\"1\" class=\"dataframe\">\n",
       "  <thead>\n",
       "    <tr style=\"text-align: right;\">\n",
       "      <th></th>\n",
       "      <th>Pays</th>\n",
       "      <th>%evopop</th>\n",
       "      <th>PIB/hab</th>\n",
       "      <th>%protani</th>\n",
       "      <th>Dispoalim(Kcal/hab/an)</th>\n",
       "      <th>Dispoprot(kg/hab/an)</th>\n",
       "      <th>impvola</th>\n",
       "    </tr>\n",
       "  </thead>\n",
       "  <tbody>\n",
       "    <tr>\n",
       "      <th>4</th>\n",
       "      <td>Andorre</td>\n",
       "      <td>-3.664397</td>\n",
       "      <td>40621.912722</td>\n",
       "      <td>NaN</td>\n",
       "      <td>NaN</td>\n",
       "      <td>NaN</td>\n",
       "      <td>NaN</td>\n",
       "    </tr>\n",
       "    <tr>\n",
       "      <th>11</th>\n",
       "      <td>Bahreïn</td>\n",
       "      <td>18.017477</td>\n",
       "      <td>24737.179100</td>\n",
       "      <td>NaN</td>\n",
       "      <td>NaN</td>\n",
       "      <td>NaN</td>\n",
       "      <td>NaN</td>\n",
       "    </tr>\n",
       "    <tr>\n",
       "      <th>15</th>\n",
       "      <td>Bhoutan</td>\n",
       "      <td>9.132035</td>\n",
       "      <td>2350.879846</td>\n",
       "      <td>NaN</td>\n",
       "      <td>NaN</td>\n",
       "      <td>NaN</td>\n",
       "      <td>NaN</td>\n",
       "    </tr>\n",
       "    <tr>\n",
       "      <th>19</th>\n",
       "      <td>Aruba</td>\n",
       "      <td>1.809517</td>\n",
       "      <td>25018.308954</td>\n",
       "      <td>NaN</td>\n",
       "      <td>NaN</td>\n",
       "      <td>NaN</td>\n",
       "      <td>NaN</td>\n",
       "    </tr>\n",
       "    <tr>\n",
       "      <th>25</th>\n",
       "      <td>Burundi</td>\n",
       "      <td>16.900601</td>\n",
       "      <td>255.372685</td>\n",
       "      <td>NaN</td>\n",
       "      <td>NaN</td>\n",
       "      <td>NaN</td>\n",
       "      <td>NaN</td>\n",
       "    </tr>\n",
       "    <tr>\n",
       "      <th>29</th>\n",
       "      <td>Îles Caïmanes</td>\n",
       "      <td>10.287949</td>\n",
       "      <td>59592.603519</td>\n",
       "      <td>NaN</td>\n",
       "      <td>NaN</td>\n",
       "      <td>NaN</td>\n",
       "      <td>NaN</td>\n",
       "    </tr>\n",
       "    <tr>\n",
       "      <th>36</th>\n",
       "      <td>Comores</td>\n",
       "      <td>12.822167</td>\n",
       "      <td>1699.126967</td>\n",
       "      <td>NaN</td>\n",
       "      <td>NaN</td>\n",
       "      <td>NaN</td>\n",
       "      <td>NaN</td>\n",
       "    </tr>\n",
       "    <tr>\n",
       "      <th>38</th>\n",
       "      <td>Îles Cook</td>\n",
       "      <td>-7.521341</td>\n",
       "      <td>16971.901278</td>\n",
       "      <td>NaN</td>\n",
       "      <td>NaN</td>\n",
       "      <td>NaN</td>\n",
       "      <td>NaN</td>\n",
       "    </tr>\n",
       "    <tr>\n",
       "      <th>51</th>\n",
       "      <td>Guinée équatoriale</td>\n",
       "      <td>24.795433</td>\n",
       "      <td>20246.991548</td>\n",
       "      <td>NaN</td>\n",
       "      <td>NaN</td>\n",
       "      <td>NaN</td>\n",
       "      <td>NaN</td>\n",
       "    </tr>\n",
       "    <tr>\n",
       "      <th>66</th>\n",
       "      <td>Groenland</td>\n",
       "      <td>-0.751218</td>\n",
       "      <td>44020.834811</td>\n",
       "      <td>NaN</td>\n",
       "      <td>NaN</td>\n",
       "      <td>NaN</td>\n",
       "      <td>NaN</td>\n",
       "    </tr>\n",
       "    <tr>\n",
       "      <th>100</th>\n",
       "      <td>Libye</td>\n",
       "      <td>2.360650</td>\n",
       "      <td>10623.933204</td>\n",
       "      <td>NaN</td>\n",
       "      <td>NaN</td>\n",
       "      <td>NaN</td>\n",
       "      <td>NaN</td>\n",
       "    </tr>\n",
       "    <tr>\n",
       "      <th>101</th>\n",
       "      <td>Liechtenstein</td>\n",
       "      <td>3.638052</td>\n",
       "      <td>173527.486263</td>\n",
       "      <td>NaN</td>\n",
       "      <td>NaN</td>\n",
       "      <td>NaN</td>\n",
       "      <td>NaN</td>\n",
       "    </tr>\n",
       "    <tr>\n",
       "      <th>103</th>\n",
       "      <td>Îles Marshall</td>\n",
       "      <td>1.101153</td>\n",
       "      <td>3617.751501</td>\n",
       "      <td>NaN</td>\n",
       "      <td>NaN</td>\n",
       "      <td>NaN</td>\n",
       "      <td>NaN</td>\n",
       "    </tr>\n",
       "    <tr>\n",
       "      <th>114</th>\n",
       "      <td>Monaco</td>\n",
       "      <td>5.907455</td>\n",
       "      <td>172598.231387</td>\n",
       "      <td>NaN</td>\n",
       "      <td>NaN</td>\n",
       "      <td>NaN</td>\n",
       "      <td>NaN</td>\n",
       "    </tr>\n",
       "    <tr>\n",
       "      <th>116</th>\n",
       "      <td>Montserrat</td>\n",
       "      <td>3.259984</td>\n",
       "      <td>11737.408248</td>\n",
       "      <td>NaN</td>\n",
       "      <td>NaN</td>\n",
       "      <td>NaN</td>\n",
       "      <td>NaN</td>\n",
       "    </tr>\n",
       "    <tr>\n",
       "      <th>119</th>\n",
       "      <td>Micronésie (États fédérés de)</td>\n",
       "      <td>-0.742740</td>\n",
       "      <td>3047.584695</td>\n",
       "      <td>NaN</td>\n",
       "      <td>NaN</td>\n",
       "      <td>NaN</td>\n",
       "      <td>NaN</td>\n",
       "    </tr>\n",
       "    <tr>\n",
       "      <th>122</th>\n",
       "      <td>Nauru</td>\n",
       "      <td>8.474917</td>\n",
       "      <td>9406.706766</td>\n",
       "      <td>NaN</td>\n",
       "      <td>NaN</td>\n",
       "      <td>NaN</td>\n",
       "      <td>NaN</td>\n",
       "    </tr>\n",
       "    <tr>\n",
       "      <th>136</th>\n",
       "      <td>Papouasie-Nouvelle-Guinée</td>\n",
       "      <td>11.870573</td>\n",
       "      <td>2784.783007</td>\n",
       "      <td>NaN</td>\n",
       "      <td>NaN</td>\n",
       "      <td>NaN</td>\n",
       "      <td>NaN</td>\n",
       "    </tr>\n",
       "    <tr>\n",
       "      <th>144</th>\n",
       "      <td>Porto Rico</td>\n",
       "      <td>-1.259841</td>\n",
       "      <td>27773.839348</td>\n",
       "      <td>NaN</td>\n",
       "      <td>NaN</td>\n",
       "      <td>NaN</td>\n",
       "      <td>NaN</td>\n",
       "    </tr>\n",
       "    <tr>\n",
       "      <th>145</th>\n",
       "      <td>Érythrée</td>\n",
       "      <td>9.884195</td>\n",
       "      <td>753.035420</td>\n",
       "      <td>NaN</td>\n",
       "      <td>NaN</td>\n",
       "      <td>NaN</td>\n",
       "      <td>NaN</td>\n",
       "    </tr>\n",
       "    <tr>\n",
       "      <th>146</th>\n",
       "      <td>Qatar</td>\n",
       "      <td>61.981211</td>\n",
       "      <td>88304.879574</td>\n",
       "      <td>NaN</td>\n",
       "      <td>NaN</td>\n",
       "      <td>NaN</td>\n",
       "      <td>NaN</td>\n",
       "    </tr>\n",
       "    <tr>\n",
       "      <th>147</th>\n",
       "      <td>Palaos</td>\n",
       "      <td>3.421001</td>\n",
       "      <td>10899.235182</td>\n",
       "      <td>NaN</td>\n",
       "      <td>NaN</td>\n",
       "      <td>NaN</td>\n",
       "      <td>NaN</td>\n",
       "    </tr>\n",
       "    <tr>\n",
       "      <th>155</th>\n",
       "      <td>Saint-Marin</td>\n",
       "      <td>6.431419</td>\n",
       "      <td>57735.033031</td>\n",
       "      <td>NaN</td>\n",
       "      <td>NaN</td>\n",
       "      <td>NaN</td>\n",
       "      <td>NaN</td>\n",
       "    </tr>\n",
       "    <tr>\n",
       "      <th>159</th>\n",
       "      <td>Seychelles</td>\n",
       "      <td>2.292526</td>\n",
       "      <td>14316.710915</td>\n",
       "      <td>NaN</td>\n",
       "      <td>NaN</td>\n",
       "      <td>NaN</td>\n",
       "      <td>NaN</td>\n",
       "    </tr>\n",
       "    <tr>\n",
       "      <th>163</th>\n",
       "      <td>Singapour</td>\n",
       "      <td>10.507453</td>\n",
       "      <td>56429.745747</td>\n",
       "      <td>NaN</td>\n",
       "      <td>NaN</td>\n",
       "      <td>NaN</td>\n",
       "      <td>NaN</td>\n",
       "    </tr>\n",
       "    <tr>\n",
       "      <th>164</th>\n",
       "      <td>Somalie</td>\n",
       "      <td>15.507346</td>\n",
       "      <td>106.512965</td>\n",
       "      <td>NaN</td>\n",
       "      <td>NaN</td>\n",
       "      <td>NaN</td>\n",
       "      <td>NaN</td>\n",
       "    </tr>\n",
       "    <tr>\n",
       "      <th>172</th>\n",
       "      <td>République arabe syrienne</td>\n",
       "      <td>-2.540176</td>\n",
       "      <td>1598.586565</td>\n",
       "      <td>NaN</td>\n",
       "      <td>NaN</td>\n",
       "      <td>NaN</td>\n",
       "      <td>NaN</td>\n",
       "    </tr>\n",
       "    <tr>\n",
       "      <th>177</th>\n",
       "      <td>Tonga</td>\n",
       "      <td>2.255230</td>\n",
       "      <td>4181.528093</td>\n",
       "      <td>NaN</td>\n",
       "      <td>NaN</td>\n",
       "      <td>NaN</td>\n",
       "      <td>NaN</td>\n",
       "    </tr>\n",
       "    <tr>\n",
       "      <th>182</th>\n",
       "      <td>Îles Turques et Caïques</td>\n",
       "      <td>12.302839</td>\n",
       "      <td>22241.643863</td>\n",
       "      <td>NaN</td>\n",
       "      <td>NaN</td>\n",
       "      <td>NaN</td>\n",
       "      <td>NaN</td>\n",
       "    </tr>\n",
       "    <tr>\n",
       "      <th>185</th>\n",
       "      <td>Tuvalu</td>\n",
       "      <td>4.632495</td>\n",
       "      <td>3541.986690</td>\n",
       "      <td>NaN</td>\n",
       "      <td>NaN</td>\n",
       "      <td>NaN</td>\n",
       "      <td>NaN</td>\n",
       "    </tr>\n",
       "    <tr>\n",
       "      <th>195</th>\n",
       "      <td>Îles Vierges britanniques</td>\n",
       "      <td>13.482268</td>\n",
       "      <td>30885.187225</td>\n",
       "      <td>NaN</td>\n",
       "      <td>NaN</td>\n",
       "      <td>NaN</td>\n",
       "      <td>NaN</td>\n",
       "    </tr>\n",
       "    <tr>\n",
       "      <th>198</th>\n",
       "      <td>République démocratique du Congo</td>\n",
       "      <td>18.124517</td>\n",
       "      <td>458.125692</td>\n",
       "      <td>NaN</td>\n",
       "      <td>NaN</td>\n",
       "      <td>NaN</td>\n",
       "      <td>NaN</td>\n",
       "    </tr>\n",
       "    <tr>\n",
       "      <th>202</th>\n",
       "      <td>Anguilla</td>\n",
       "      <td>7.028443</td>\n",
       "      <td>19721.079376</td>\n",
       "      <td>NaN</td>\n",
       "      <td>NaN</td>\n",
       "      <td>NaN</td>\n",
       "      <td>NaN</td>\n",
       "    </tr>\n",
       "    <tr>\n",
       "      <th>205</th>\n",
       "      <td>Territoire palestinien occupé</td>\n",
       "      <td>14.597320</td>\n",
       "      <td>2826.048941</td>\n",
       "      <td>NaN</td>\n",
       "      <td>NaN</td>\n",
       "      <td>NaN</td>\n",
       "      <td>NaN</td>\n",
       "    </tr>\n",
       "  </tbody>\n",
       "</table>\n",
       "</div>"
      ],
      "text/plain": [
       "                                 Pays    %evopop        PIB/hab  %protani  \\\n",
       "4                             Andorre  -3.664397   40621.912722       NaN   \n",
       "11                            Bahreïn  18.017477   24737.179100       NaN   \n",
       "15                            Bhoutan   9.132035    2350.879846       NaN   \n",
       "19                              Aruba   1.809517   25018.308954       NaN   \n",
       "25                            Burundi  16.900601     255.372685       NaN   \n",
       "29                      Îles Caïmanes  10.287949   59592.603519       NaN   \n",
       "36                            Comores  12.822167    1699.126967       NaN   \n",
       "38                          Îles Cook  -7.521341   16971.901278       NaN   \n",
       "51                 Guinée équatoriale  24.795433   20246.991548       NaN   \n",
       "66                          Groenland  -0.751218   44020.834811       NaN   \n",
       "100                             Libye   2.360650   10623.933204       NaN   \n",
       "101                     Liechtenstein   3.638052  173527.486263       NaN   \n",
       "103                     Îles Marshall   1.101153    3617.751501       NaN   \n",
       "114                            Monaco   5.907455  172598.231387       NaN   \n",
       "116                        Montserrat   3.259984   11737.408248       NaN   \n",
       "119     Micronésie (États fédérés de)  -0.742740    3047.584695       NaN   \n",
       "122                             Nauru   8.474917    9406.706766       NaN   \n",
       "136         Papouasie-Nouvelle-Guinée  11.870573    2784.783007       NaN   \n",
       "144                        Porto Rico  -1.259841   27773.839348       NaN   \n",
       "145                          Érythrée   9.884195     753.035420       NaN   \n",
       "146                             Qatar  61.981211   88304.879574       NaN   \n",
       "147                            Palaos   3.421001   10899.235182       NaN   \n",
       "155                       Saint-Marin   6.431419   57735.033031       NaN   \n",
       "159                        Seychelles   2.292526   14316.710915       NaN   \n",
       "163                         Singapour  10.507453   56429.745747       NaN   \n",
       "164                           Somalie  15.507346     106.512965       NaN   \n",
       "172         République arabe syrienne  -2.540176    1598.586565       NaN   \n",
       "177                             Tonga   2.255230    4181.528093       NaN   \n",
       "182           Îles Turques et Caïques  12.302839   22241.643863       NaN   \n",
       "185                            Tuvalu   4.632495    3541.986690       NaN   \n",
       "195         Îles Vierges britanniques  13.482268   30885.187225       NaN   \n",
       "198  République démocratique du Congo  18.124517     458.125692       NaN   \n",
       "202                          Anguilla   7.028443   19721.079376       NaN   \n",
       "205     Territoire palestinien occupé  14.597320    2826.048941       NaN   \n",
       "\n",
       "     Dispoalim(Kcal/hab/an)  Dispoprot(kg/hab/an)  impvola  \n",
       "4                       NaN                   NaN      NaN  \n",
       "11                      NaN                   NaN      NaN  \n",
       "15                      NaN                   NaN      NaN  \n",
       "19                      NaN                   NaN      NaN  \n",
       "25                      NaN                   NaN      NaN  \n",
       "29                      NaN                   NaN      NaN  \n",
       "36                      NaN                   NaN      NaN  \n",
       "38                      NaN                   NaN      NaN  \n",
       "51                      NaN                   NaN      NaN  \n",
       "66                      NaN                   NaN      NaN  \n",
       "100                     NaN                   NaN      NaN  \n",
       "101                     NaN                   NaN      NaN  \n",
       "103                     NaN                   NaN      NaN  \n",
       "114                     NaN                   NaN      NaN  \n",
       "116                     NaN                   NaN      NaN  \n",
       "119                     NaN                   NaN      NaN  \n",
       "122                     NaN                   NaN      NaN  \n",
       "136                     NaN                   NaN      NaN  \n",
       "144                     NaN                   NaN      NaN  \n",
       "145                     NaN                   NaN      NaN  \n",
       "146                     NaN                   NaN      NaN  \n",
       "147                     NaN                   NaN      NaN  \n",
       "155                     NaN                   NaN      NaN  \n",
       "159                     NaN                   NaN      NaN  \n",
       "163                     NaN                   NaN      NaN  \n",
       "164                     NaN                   NaN      NaN  \n",
       "172                     NaN                   NaN      NaN  \n",
       "177                     NaN                   NaN      NaN  \n",
       "182                     NaN                   NaN      NaN  \n",
       "185                     NaN                   NaN      NaN  \n",
       "195                     NaN                   NaN      NaN  \n",
       "198                     NaN                   NaN      NaN  \n",
       "202                     NaN                   NaN      NaN  \n",
       "205                     NaN                   NaN      NaN  "
      ]
     },
     "execution_count": 67,
     "metadata": {},
     "output_type": "execute_result"
    }
   ],
   "source": [
    "# Recherche des individus de la variable '%protani' avec une valeur 'NaN'\n",
    "bdd.loc[np.isnan(bdd['%protani']),:]"
   ]
  },
  {
   "cell_type": "code",
   "execution_count": 68,
   "metadata": {},
   "outputs": [],
   "source": [
    "# Suppression des individus \n",
    "bdd = bdd.loc[~np.isnan(bdd['%protani']),:]"
   ]
  },
  {
   "cell_type": "code",
   "execution_count": 69,
   "metadata": {},
   "outputs": [
    {
     "data": {
      "text/html": [
       "<div>\n",
       "<style scoped>\n",
       "    .dataframe tbody tr th:only-of-type {\n",
       "        vertical-align: middle;\n",
       "    }\n",
       "\n",
       "    .dataframe tbody tr th {\n",
       "        vertical-align: top;\n",
       "    }\n",
       "\n",
       "    .dataframe thead th {\n",
       "        text-align: right;\n",
       "    }\n",
       "</style>\n",
       "<table border=\"1\" class=\"dataframe\">\n",
       "  <thead>\n",
       "    <tr style=\"text-align: right;\">\n",
       "      <th></th>\n",
       "      <th>Pays</th>\n",
       "      <th>%evopop</th>\n",
       "      <th>PIB/hab</th>\n",
       "      <th>%protani</th>\n",
       "      <th>Dispoalim(Kcal/hab/an)</th>\n",
       "      <th>Dispoprot(kg/hab/an)</th>\n",
       "      <th>impvola</th>\n",
       "    </tr>\n",
       "  </thead>\n",
       "  <tbody>\n",
       "    <tr>\n",
       "      <th>92</th>\n",
       "      <td>République populaire démocratique de Corée</td>\n",
       "      <td>2.674445</td>\n",
       "      <td>662.973266</td>\n",
       "      <td>18.309091</td>\n",
       "      <td>764310.0</td>\n",
       "      <td>20.075</td>\n",
       "      <td>NaN</td>\n",
       "    </tr>\n",
       "  </tbody>\n",
       "</table>\n",
       "</div>"
      ],
      "text/plain": [
       "                                          Pays   %evopop     PIB/hab  \\\n",
       "92  République populaire démocratique de Corée  2.674445  662.973266   \n",
       "\n",
       "     %protani  Dispoalim(Kcal/hab/an)  Dispoprot(kg/hab/an)  impvola  \n",
       "92  18.309091                764310.0                20.075      NaN  "
      ]
     },
     "execution_count": 69,
     "metadata": {},
     "output_type": "execute_result"
    }
   ],
   "source": [
    "# recherche de l'individu de la variable 'impvola' avec une valeur 'NaN'\n",
    "bdd.loc[np.isnan(bdd['impvola']),:]"
   ]
  },
  {
   "cell_type": "code",
   "execution_count": 70,
   "metadata": {
    "scrolled": true
   },
   "outputs": [
    {
     "name": "stdout",
     "output_type": "stream",
     "text": [
      "<class 'pandas.core.frame.DataFrame'>\n",
      "Int64Index: 171 entries, 0 to 204\n",
      "Data columns (total 7 columns):\n",
      "Pays                      171 non-null object\n",
      "%evopop                   171 non-null float64\n",
      "PIB/hab                   171 non-null float64\n",
      "%protani                  171 non-null float64\n",
      "Dispoalim(Kcal/hab/an)    171 non-null float64\n",
      "Dispoprot(kg/hab/an)      171 non-null float64\n",
      "impvola                   171 non-null float64\n",
      "dtypes: float64(6), object(1)\n",
      "memory usage: 10.7+ KB\n"
     ]
    }
   ],
   "source": [
    "# Suppression de l'individu \n",
    "bdd = bdd.loc[~np.isnan(bdd['impvola']),:]\n",
    "\n",
    "# nous re-effectuons le test sur les valeurs manquantes\n",
    "bdd.info()"
   ]
  },
  {
   "cell_type": "markdown",
   "metadata": {},
   "source": [
    "> La table ne contient plus de valeur manquante"
   ]
  },
  {
   "cell_type": "markdown",
   "metadata": {},
   "source": [
    "<div style=\"border: 1px solid RGB(106,90,205);\">\n",
    "<h3 style=\"margin: auto; padding: 20px; color: RGB(106,90,205);\">Recherche des doublons</h3>\n",
    "</div>"
   ]
  },
  {
   "cell_type": "code",
   "execution_count": 71,
   "metadata": {},
   "outputs": [],
   "source": [
    "# Détection et suppression des doublons \n",
    "bdd.drop_duplicates(keep='first',inplace=True)"
   ]
  },
  {
   "cell_type": "code",
   "execution_count": 72,
   "metadata": {
    "scrolled": true
   },
   "outputs": [
    {
     "data": {
      "text/plain": [
       "171"
      ]
     },
     "execution_count": 72,
     "metadata": {},
     "output_type": "execute_result"
    }
   ],
   "source": [
    "# Recherche du nombre d'éléments au sein de la table \n",
    "len(bdd)"
   ]
  },
  {
   "cell_type": "markdown",
   "metadata": {},
   "source": [
    "> Au regard du nombre d'éléments  après traitement, la table 'bdd' ne contient plus, ni valeur manquante, ni valeur aberrante, ni doublon"
   ]
  },
  {
   "cell_type": "markdown",
   "metadata": {},
   "source": [
    "<div style=\"background-color: RGB(106,90,205);\">\n",
    "<h2 style=\"margin: auto; padding: 20px; color:RGB(255,255,255);\">Construction d'un dendrogramme (coupé en 5 groupes) avec l'ensemble des pays étudiés</h2>\n",
    "</div>"
   ]
  },
  {
   "cell_type": "markdown",
   "metadata": {},
   "source": [
    "<div style=\"border: 1px solid RGB(106,90,205);\">\n",
    "<h3 style=\"margin: auto; padding: 20px; color: RGB(106,90,205);\">Préparation des données pour l'ACP</h3>\n",
    "</div>"
   ]
  },
  {
   "cell_type": "code",
   "execution_count": 73,
   "metadata": {},
   "outputs": [],
   "source": [
    "# Nous convertissons la variable 'pays' en index\n",
    "bdd = bdd.set_index('Pays')"
   ]
  },
  {
   "cell_type": "code",
   "execution_count": 74,
   "metadata": {},
   "outputs": [
    {
     "data": {
      "text/plain": [
       "array([[-5.05842061e-01,  3.84359075e+03,  4.80342070e+01,\n",
       "         1.06872000e+06,  3.28646000e+01,  3.20000000e+07],\n",
       "       [ 1.62587087e+01,  6.81033974e+02,  2.09785408e+01,\n",
       "         7.62850000e+05,  2.12612500e+01,  4.80000000e+07],\n",
       "       [-2.42919378e+00,  4.37697055e+03,  5.33297433e+01,\n",
       "         1.16544500e+06,  4.06683000e+01,  2.50000000e+07],\n",
       "       ...,\n",
       "       [ 1.22892982e+01,  1.13341237e+05,  6.33298209e+01,\n",
       "         1.29173500e+06,  4.15662000e+01,  1.00000000e+07],\n",
       "       [-1.97083329e+00,  5.10297540e+03,  4.85648261e+01,\n",
       "         9.95720000e+05,  3.00103000e+01,  1.20000000e+07],\n",
       "       [ 9.47996233e-01,  7.11934910e+03,  5.63130186e+01,\n",
       "         1.27421500e+06,  4.09055500e+01,  7.00000000e+06]])"
      ]
     },
     "execution_count": 74,
     "metadata": {},
     "output_type": "execute_result"
    }
   ],
   "source": [
    "# Nous convertissons ces données en un objet type array Numpy\n",
    "X = bdd.values\n",
    "\n",
    "# On observe\n",
    "X"
   ]
  },
  {
   "cell_type": "code",
   "execution_count": 75,
   "metadata": {},
   "outputs": [],
   "source": [
    "names = bdd.index\n",
    "features = bdd.columns"
   ]
  },
  {
   "cell_type": "code",
   "execution_count": 76,
   "metadata": {},
   "outputs": [
    {
     "data": {
      "text/plain": [
       "PCA(copy=True, iterated_power='auto', n_components=4, random_state=None,\n",
       "  svd_solver='auto', tol=0.0, whiten=False)"
      ]
     },
     "execution_count": 76,
     "metadata": {},
     "output_type": "execute_result"
    }
   ],
   "source": [
    "# Centrage et Réduction\n",
    "X_scaled = preprocessing.StandardScaler().fit_transform(X)\n",
    "\n",
    "# Nous déterminons le nombre des composantes principales\n",
    "n_comp = 4\n",
    "\n",
    "# Calcul des composantes principales \n",
    "pca = decomposition.PCA(n_components=n_comp)\n",
    "pca.fit(X_scaled)"
   ]
  },
  {
   "cell_type": "code",
   "execution_count": 77,
   "metadata": {},
   "outputs": [
    {
     "data": {
      "image/png": "[encoded data removed]",
      "text/plain": [
       "<Figure size 432x288 with 1 Axes>"
      ]
     },
     "metadata": {},
     "output_type": "display_data"
    }
   ],
   "source": [
    "# Eboulis des valeurs propres\n",
    "display_scree_plot(pca)"
   ]
  },
  {
   "cell_type": "markdown",
   "metadata": {},
   "source": [
    "<div style=\"border: 1px solid RGB(106,90,205);\">\n",
    "<h3 style=\"margin: auto; padding: 20px; color: RGB(106,90,205);\">Représentation des variables par le cercle des corrélations</h3>\n",
    "</div>"
   ]
  },
  {
   "cell_type": "code",
   "execution_count": 78,
   "metadata": {},
   "outputs": [
    {
     "data": {
      "image/png": "[encoded data removed]",
      "text/plain": [
       "<Figure size 504x432 with 1 Axes>"
      ]
     },
     "metadata": {},
     "output_type": "display_data"
    },
    {
     "data": {
      "image/png": "[encoded data removed]",
      "text/plain": [
       "<Figure size 504x432 with 1 Axes>"
      ]
     },
     "metadata": {},
     "output_type": "display_data"
    }
   ],
   "source": [
    "# Cercle des corrélations\n",
    "pcs = pca.components_\n",
    "\n",
    "# On observe\n",
    "display_circles(pcs, n_comp, pca, [(0,1),(1,2)], labels = np.array(features))"
   ]
  },
  {
   "cell_type": "markdown",
   "metadata": {},
   "source": [
    "<div style=\"border: 1px solid RGB(106,90,205);\">\n",
    "<h3 style=\"margin: auto; padding: 20px; color: RGB(106,90,205);\">Représentation des individus par les plans factoriels</h3>\n",
    "</div>"
   ]
  },
  {
   "cell_type": "code",
   "execution_count": 79,
   "metadata": {},
   "outputs": [
    {
     "data": {
      "image/png": "[encoded data removed]",
      "text/plain": [
       "<Figure size 504x432 with 1 Axes>"
      ]
     },
     "metadata": {},
     "output_type": "display_data"
    },
    {
     "data": {
      "image/png": "[encoded data removed]",
      "text/plain": [
       "<Figure size 504x432 with 1 Axes>"
      ]
     },
     "metadata": {},
     "output_type": "display_data"
    }
   ],
   "source": [
    "# Projection des individus\n",
    "X_projected = pca.transform(X_scaled)\n",
    "\n",
    "# On observe\n",
    "display_factorial_planes(X_projected, n_comp, pca, [(0,1),(1,2)], labels = np.array(names))"
   ]
  },
  {
   "cell_type": "code",
   "execution_count": 80,
   "metadata": {},
   "outputs": [
    {
     "data": {
      "image/png": "[encoded data removed]",
      "text/plain": [
       "<Figure size 720x1800 with 1 Axes>"
      ]
     },
     "metadata": {},
     "output_type": "display_data"
    }
   ],
   "source": [
    "# Clustering hiérarchique\n",
    "Z = linkage(X_scaled, 'ward')\n",
    "\n",
    "# Affichage du dendrogramme\n",
    "plt.figure(figsize=(10,25))\n",
    "plt.title('Hierarchical Clustering Dendrogram')\n",
    "plt.xlabel('distance')\n",
    "dendrogram(Z, labels = names, orientation = \"left\")\n",
    "\n",
    "# Export de l'image du plot\n",
    "plt.savefig('Dendrogram')"
   ]
  },
  {
   "cell_type": "markdown",
   "metadata": {},
   "source": [
    "<div style=\"border: 1px solid RGB(106,90,205);\">\n",
    "<h3 style=\"margin: auto; padding: 20px; color: RGB(106,90,205);\">Dendrogramme découpé en 5 clusters</h3>\n",
    "</div>"
   ]
  },
  {
   "cell_type": "code",
   "execution_count": 81,
   "metadata": {},
   "outputs": [
    {
     "data": {
      "text/html": [
       "<div>\n",
       "<style scoped>\n",
       "    .dataframe tbody tr th:only-of-type {\n",
       "        vertical-align: middle;\n",
       "    }\n",
       "\n",
       "    .dataframe tbody tr th {\n",
       "        vertical-align: top;\n",
       "    }\n",
       "\n",
       "    .dataframe thead th {\n",
       "        text-align: right;\n",
       "    }\n",
       "</style>\n",
       "<table border=\"1\" class=\"dataframe\">\n",
       "  <thead>\n",
       "    <tr style=\"text-align: right;\">\n",
       "      <th></th>\n",
       "      <th>%evopop</th>\n",
       "      <th>PIB/hab</th>\n",
       "      <th>%protani</th>\n",
       "      <th>Dispoalim(Kcal/hab/an)</th>\n",
       "      <th>Dispoprot(kg/hab/an)</th>\n",
       "      <th>impvola</th>\n",
       "      <th>clusters</th>\n",
       "    </tr>\n",
       "    <tr>\n",
       "      <th>Pays</th>\n",
       "      <th></th>\n",
       "      <th></th>\n",
       "      <th></th>\n",
       "      <th></th>\n",
       "      <th></th>\n",
       "      <th></th>\n",
       "      <th></th>\n",
       "    </tr>\n",
       "  </thead>\n",
       "  <tbody>\n",
       "    <tr>\n",
       "      <th>Arménie</th>\n",
       "      <td>-0.505842</td>\n",
       "      <td>3843.590751</td>\n",
       "      <td>48.034207</td>\n",
       "      <td>1068720.0</td>\n",
       "      <td>32.86460</td>\n",
       "      <td>32000000.0</td>\n",
       "      <td>3</td>\n",
       "    </tr>\n",
       "    <tr>\n",
       "      <th>Afghanistan</th>\n",
       "      <td>16.258709</td>\n",
       "      <td>681.033974</td>\n",
       "      <td>20.978541</td>\n",
       "      <td>762850.0</td>\n",
       "      <td>21.26125</td>\n",
       "      <td>48000000.0</td>\n",
       "      <td>2</td>\n",
       "    </tr>\n",
       "    <tr>\n",
       "      <th>Albanie</th>\n",
       "      <td>-2.429194</td>\n",
       "      <td>4376.970549</td>\n",
       "      <td>53.329743</td>\n",
       "      <td>1165445.0</td>\n",
       "      <td>40.66830</td>\n",
       "      <td>25000000.0</td>\n",
       "      <td>3</td>\n",
       "    </tr>\n",
       "    <tr>\n",
       "      <th>Algérie</th>\n",
       "      <td>9.976408</td>\n",
       "      <td>5471.866638</td>\n",
       "      <td>27.174859</td>\n",
       "      <td>1203040.0</td>\n",
       "      <td>33.56540</td>\n",
       "      <td>3000000.0</td>\n",
       "      <td>3</td>\n",
       "    </tr>\n",
       "    <tr>\n",
       "      <th>Angola</th>\n",
       "      <td>19.480850</td>\n",
       "      <td>5258.408672</td>\n",
       "      <td>32.134125</td>\n",
       "      <td>902645.0</td>\n",
       "      <td>20.89990</td>\n",
       "      <td>342000000.0</td>\n",
       "      <td>2</td>\n",
       "    </tr>\n",
       "  </tbody>\n",
       "</table>\n",
       "</div>"
      ],
      "text/plain": [
       "               %evopop      PIB/hab   %protani  Dispoalim(Kcal/hab/an)  \\\n",
       "Pays                                                                     \n",
       "Arménie      -0.505842  3843.590751  48.034207               1068720.0   \n",
       "Afghanistan  16.258709   681.033974  20.978541                762850.0   \n",
       "Albanie      -2.429194  4376.970549  53.329743               1165445.0   \n",
       "Algérie       9.976408  5471.866638  27.174859               1203040.0   \n",
       "Angola       19.480850  5258.408672  32.134125                902645.0   \n",
       "\n",
       "             Dispoprot(kg/hab/an)      impvola  clusters  \n",
       "Pays                                                      \n",
       "Arménie                  32.86460   32000000.0         3  \n",
       "Afghanistan              21.26125   48000000.0         2  \n",
       "Albanie                  40.66830   25000000.0         3  \n",
       "Algérie                  33.56540    3000000.0         3  \n",
       "Angola                   20.89990  342000000.0         2  "
      ]
     },
     "execution_count": 81,
     "metadata": {},
     "output_type": "execute_result"
    }
   ],
   "source": [
    "n_comp = 5\n",
    "clusters = fcluster(Z, n_comp, criterion='maxclust')\n",
    "\n",
    "# Ajout des clusters à 'BDD'\n",
    "bdd[\"clusters\"] = clusters\n",
    "\n",
    "# On observe\n",
    "bdd.head()"
   ]
  },
  {
   "cell_type": "markdown",
   "metadata": {},
   "source": [
    "> Nous exportons le dataframe sous format csv "
   ]
  },
  {
   "cell_type": "code",
   "execution_count": 82,
   "metadata": {},
   "outputs": [],
   "source": [
    "bdd.to_csv(\"pays_clusters.csv\")"
   ]
  },
  {
   "cell_type": "markdown",
   "metadata": {},
   "source": [
    "<div style=\"border: 1px solid RGB(106,90,205);\">\n",
    "<h3 style=\"margin: auto; padding: 20px; color: RGB(106,90,205);\">Nous allons visualiser les partitions obtenues dans les 2 premiers plans \n",
    "factoriels par ACP</h3>\n",
    "</div>"
   ]
  },
  {
   "cell_type": "code",
   "execution_count": 83,
   "metadata": {},
   "outputs": [
    {
     "data": {
      "image/png": "[encoded data removed]",
      "text/plain": [
       "<Figure size 504x432 with 1 Axes>"
      ]
     },
     "metadata": {},
     "output_type": "display_data"
    },
    {
     "data": {
      "image/png": "[encoded data removed]",
      "text/plain": [
       "<Figure size 504x432 with 1 Axes>"
      ]
     },
     "metadata": {},
     "output_type": "display_data"
    }
   ],
   "source": [
    "display_factorial_planes(X_projected, n_comp, pca, [(0,1),(1,2)], illustrative_var=clusters)"
   ]
  },
  {
   "cell_type": "markdown",
   "metadata": {},
   "source": [
    "<div style=\"border: 1px solid RGB(106,90,205);\">\n",
    "<h3 style=\"margin: auto; padding: 20px; color: RGB(106,90,205);\">Pour un ciblage plus précis, nous allons découper en 8 groupes</h3>\n",
    "</div>"
   ]
  },
  {
   "cell_type": "code",
   "execution_count": 84,
   "metadata": {},
   "outputs": [],
   "source": [
    "n_comp = 8\n",
    "clusters = fcluster(Z, n_comp, criterion='maxclust')\n",
    "\n",
    "# Ajout des clusters modifiés à 'BDD'\n",
    "bdd[\"clusters\"] = clusters"
   ]
  },
  {
   "cell_type": "markdown",
   "metadata": {},
   "source": [
    "<div style=\"border: 1px solid RGB(106,90,205);\">\n",
    "<h3 style=\"margin: auto; padding: 20px; color: RGB(106,90,205);\">Calcul de la position des centroïdes de chacun des groupes</h3>\n",
    "</div>"
   ]
  },
  {
   "cell_type": "code",
   "execution_count": 85,
   "metadata": {},
   "outputs": [
    {
     "data": {
      "text/html": [
       "<div>\n",
       "<style scoped>\n",
       "    .dataframe tbody tr th:only-of-type {\n",
       "        vertical-align: middle;\n",
       "    }\n",
       "\n",
       "    .dataframe tbody tr th {\n",
       "        vertical-align: top;\n",
       "    }\n",
       "\n",
       "    .dataframe thead th {\n",
       "        text-align: right;\n",
       "    }\n",
       "</style>\n",
       "<table border=\"1\" class=\"dataframe\">\n",
       "  <thead>\n",
       "    <tr style=\"text-align: right;\">\n",
       "      <th></th>\n",
       "      <th>%evopop</th>\n",
       "      <th>PIB/hab</th>\n",
       "      <th>%protani</th>\n",
       "      <th>Dispoalim(Kcal/hab/an)</th>\n",
       "      <th>Dispoprot(kg/hab/an)</th>\n",
       "      <th>impvola</th>\n",
       "    </tr>\n",
       "    <tr>\n",
       "      <th>clusters</th>\n",
       "      <th></th>\n",
       "      <th></th>\n",
       "      <th></th>\n",
       "      <th></th>\n",
       "      <th></th>\n",
       "      <th></th>\n",
       "    </tr>\n",
       "  </thead>\n",
       "  <tbody>\n",
       "    <tr>\n",
       "      <th>1</th>\n",
       "      <td>31.760946</td>\n",
       "      <td>25139.924007</td>\n",
       "      <td>42.413275</td>\n",
       "      <td>1.174570e+06</td>\n",
       "      <td>33.609930</td>\n",
       "      <td>1.466000e+08</td>\n",
       "    </tr>\n",
       "    <tr>\n",
       "      <th>2</th>\n",
       "      <td>12.215107</td>\n",
       "      <td>1797.203611</td>\n",
       "      <td>24.664284</td>\n",
       "      <td>8.733977e+05</td>\n",
       "      <td>21.856876</td>\n",
       "      <td>3.290741e+07</td>\n",
       "    </tr>\n",
       "    <tr>\n",
       "      <th>3</th>\n",
       "      <td>6.796637</td>\n",
       "      <td>6358.566827</td>\n",
       "      <td>47.499524</td>\n",
       "      <td>9.945069e+05</td>\n",
       "      <td>27.647462</td>\n",
       "      <td>1.667647e+07</td>\n",
       "    </tr>\n",
       "    <tr>\n",
       "      <th>4</th>\n",
       "      <td>1.165423</td>\n",
       "      <td>16337.833301</td>\n",
       "      <td>54.215652</td>\n",
       "      <td>1.143276e+06</td>\n",
       "      <td>34.696379</td>\n",
       "      <td>4.483333e+07</td>\n",
       "    </tr>\n",
       "    <tr>\n",
       "      <th>5</th>\n",
       "      <td>7.725262</td>\n",
       "      <td>6175.614120</td>\n",
       "      <td>28.571489</td>\n",
       "      <td>1.224731e+06</td>\n",
       "      <td>35.471221</td>\n",
       "      <td>2.228571e+07</td>\n",
       "    </tr>\n",
       "    <tr>\n",
       "      <th>6</th>\n",
       "      <td>4.625318</td>\n",
       "      <td>8687.987436</td>\n",
       "      <td>45.519063</td>\n",
       "      <td>1.085291e+06</td>\n",
       "      <td>32.179130</td>\n",
       "      <td>4.498000e+08</td>\n",
       "    </tr>\n",
       "    <tr>\n",
       "      <th>7</th>\n",
       "      <td>4.317679</td>\n",
       "      <td>37256.022753</td>\n",
       "      <td>58.231765</td>\n",
       "      <td>1.185155e+06</td>\n",
       "      <td>37.558956</td>\n",
       "      <td>8.206250e+08</td>\n",
       "    </tr>\n",
       "    <tr>\n",
       "      <th>8</th>\n",
       "      <td>5.437813</td>\n",
       "      <td>66009.147773</td>\n",
       "      <td>62.392466</td>\n",
       "      <td>1.242323e+06</td>\n",
       "      <td>39.605694</td>\n",
       "      <td>6.631250e+07</td>\n",
       "    </tr>\n",
       "  </tbody>\n",
       "</table>\n",
       "</div>"
      ],
      "text/plain": [
       "            %evopop       PIB/hab   %protani  Dispoalim(Kcal/hab/an)  \\\n",
       "clusters                                                               \n",
       "1         31.760946  25139.924007  42.413275            1.174570e+06   \n",
       "2         12.215107   1797.203611  24.664284            8.733977e+05   \n",
       "3          6.796637   6358.566827  47.499524            9.945069e+05   \n",
       "4          1.165423  16337.833301  54.215652            1.143276e+06   \n",
       "5          7.725262   6175.614120  28.571489            1.224731e+06   \n",
       "6          4.625318   8687.987436  45.519063            1.085291e+06   \n",
       "7          4.317679  37256.022753  58.231765            1.185155e+06   \n",
       "8          5.437813  66009.147773  62.392466            1.242323e+06   \n",
       "\n",
       "          Dispoprot(kg/hab/an)       impvola  \n",
       "clusters                                      \n",
       "1                    33.609930  1.466000e+08  \n",
       "2                    21.856876  3.290741e+07  \n",
       "3                    27.647462  1.667647e+07  \n",
       "4                    34.696379  4.483333e+07  \n",
       "5                    35.471221  2.228571e+07  \n",
       "6                    32.179130  4.498000e+08  \n",
       "7                    37.558956  8.206250e+08  \n",
       "8                    39.605694  6.631250e+07  "
      ]
     },
     "execution_count": 85,
     "metadata": {},
     "output_type": "execute_result"
    }
   ],
   "source": [
    "centroides = bdd.groupby(by='clusters').mean()\n",
    "centroides"
   ]
  },
  {
   "cell_type": "markdown",
   "metadata": {},
   "source": [
    "> Nous exportons le dataframe sous format csv"
   ]
  },
  {
   "cell_type": "code",
   "execution_count": 86,
   "metadata": {},
   "outputs": [],
   "source": [
    "centroides.to_csv(\"centroides.csv\")"
   ]
  },
  {
   "cell_type": "markdown",
   "metadata": {},
   "source": [
    "<div style=\"border: 1px solid RGB(106,90,205);\">\n",
    "<h3 style=\"margin: auto; padding: 20px; color: RGB(106,90,205);\">Nous relançonc l'ACP</h3>\n",
    "</div>"
   ]
  },
  {
   "cell_type": "code",
   "execution_count": 87,
   "metadata": {},
   "outputs": [
    {
     "data": {
      "image/png": "[encoded data removed]",
      "text/plain": [
       "<Figure size 504x432 with 1 Axes>"
      ]
     },
     "metadata": {},
     "output_type": "display_data"
    },
    {
     "data": {
      "image/png": "[encoded data removed]",
      "text/plain": [
       "<Figure size 504x432 with 1 Axes>"
      ]
     },
     "metadata": {},
     "output_type": "display_data"
    }
   ],
   "source": [
    "display_factorial_planes(X_projected, n_comp, pca, [(0,1),(1,2)], illustrative_var=clusters)"
   ]
  },
  {
   "cell_type": "markdown",
   "metadata": {},
   "source": [
    "<div style=\"border: 1px solid RGB(106,90,205);\">\n",
    "<h3 style=\"margin: auto; padding: 20px; color: RGB(106,90,205);\">Analyse des résultats obtenus</h3>\n",
    "</div>"
   ]
  },
  {
   "cell_type": "code",
   "execution_count": 88,
   "metadata": {},
   "outputs": [
    {
     "data": {
      "text/html": [
       "<div>\n",
       "<style scoped>\n",
       "    .dataframe tbody tr th:only-of-type {\n",
       "        vertical-align: middle;\n",
       "    }\n",
       "\n",
       "    .dataframe tbody tr th {\n",
       "        vertical-align: top;\n",
       "    }\n",
       "\n",
       "    .dataframe thead th {\n",
       "        text-align: right;\n",
       "    }\n",
       "</style>\n",
       "<table border=\"1\" class=\"dataframe\">\n",
       "  <thead>\n",
       "    <tr style=\"text-align: right;\">\n",
       "      <th></th>\n",
       "      <th>%evopop</th>\n",
       "      <th>PIB/hab</th>\n",
       "      <th>%protani</th>\n",
       "      <th>Dispoalim(Kcal/hab/an)</th>\n",
       "      <th>Dispoprot(kg/hab/an)</th>\n",
       "      <th>impvola</th>\n",
       "      <th>clusters</th>\n",
       "    </tr>\n",
       "    <tr>\n",
       "      <th>Pays</th>\n",
       "      <th></th>\n",
       "      <th></th>\n",
       "      <th></th>\n",
       "      <th></th>\n",
       "      <th></th>\n",
       "      <th></th>\n",
       "      <th></th>\n",
       "    </tr>\n",
       "  </thead>\n",
       "  <tbody>\n",
       "    <tr>\n",
       "      <th>Jordanie</th>\n",
       "      <td>29.640905</td>\n",
       "      <td>3992.867103</td>\n",
       "      <td>34.150019</td>\n",
       "      <td>1131500.0</td>\n",
       "      <td>29.05035</td>\n",
       "      <td>84000000.0</td>\n",
       "      <td>1</td>\n",
       "    </tr>\n",
       "    <tr>\n",
       "      <th>Koweït</th>\n",
       "      <td>35.668316</td>\n",
       "      <td>48401.609794</td>\n",
       "      <td>49.501109</td>\n",
       "      <td>1277865.0</td>\n",
       "      <td>39.50760</td>\n",
       "      <td>139000000.0</td>\n",
       "      <td>1</td>\n",
       "    </tr>\n",
       "    <tr>\n",
       "      <th>Liban</th>\n",
       "      <td>28.339618</td>\n",
       "      <td>8721.248317</td>\n",
       "      <td>36.783340</td>\n",
       "      <td>1119090.0</td>\n",
       "      <td>29.09415</td>\n",
       "      <td>17000000.0</td>\n",
       "      <td>1</td>\n",
       "    </tr>\n",
       "    <tr>\n",
       "      <th>Oman</th>\n",
       "      <td>34.522007</td>\n",
       "      <td>21268.756403</td>\n",
       "      <td>51.773371</td>\n",
       "      <td>1147195.0</td>\n",
       "      <td>32.21125</td>\n",
       "      <td>118000000.0</td>\n",
       "      <td>1</td>\n",
       "    </tr>\n",
       "    <tr>\n",
       "      <th>Émirats arabes unis</th>\n",
       "      <td>30.633882</td>\n",
       "      <td>43315.138419</td>\n",
       "      <td>39.858536</td>\n",
       "      <td>1197200.0</td>\n",
       "      <td>38.18630</td>\n",
       "      <td>375000000.0</td>\n",
       "      <td>1</td>\n",
       "    </tr>\n",
       "  </tbody>\n",
       "</table>\n",
       "</div>"
      ],
      "text/plain": [
       "                       %evopop       PIB/hab   %protani  \\\n",
       "Pays                                                      \n",
       "Jordanie             29.640905   3992.867103  34.150019   \n",
       "Koweït               35.668316  48401.609794  49.501109   \n",
       "Liban                28.339618   8721.248317  36.783340   \n",
       "Oman                 34.522007  21268.756403  51.773371   \n",
       "Émirats arabes unis  30.633882  43315.138419  39.858536   \n",
       "\n",
       "                     Dispoalim(Kcal/hab/an)  Dispoprot(kg/hab/an)  \\\n",
       "Pays                                                                \n",
       "Jordanie                          1131500.0              29.05035   \n",
       "Koweït                            1277865.0              39.50760   \n",
       "Liban                             1119090.0              29.09415   \n",
       "Oman                              1147195.0              32.21125   \n",
       "Émirats arabes unis               1197200.0              38.18630   \n",
       "\n",
       "                         impvola  clusters  \n",
       "Pays                                        \n",
       "Jordanie              84000000.0         1  \n",
       "Koweït               139000000.0         1  \n",
       "Liban                 17000000.0         1  \n",
       "Oman                 118000000.0         1  \n",
       "Émirats arabes unis  375000000.0         1  "
      ]
     },
     "execution_count": 88,
     "metadata": {},
     "output_type": "execute_result"
    }
   ],
   "source": [
    "# suite à l'analyse des cercles de corrélations :\n",
    "# le cluster 1 nous semble très approprié\n",
    "liste_1 = bdd.loc[bdd[\"clusters\"].isin([1]),:]\n",
    "\n",
    "# On observe\n",
    "liste_1.head()"
   ]
  },
  {
   "cell_type": "markdown",
   "metadata": {},
   "source": [
    "<div style=\"background-color: RGB(106,90,205);\">\n",
    "<h2 style=\"margin: auto; padding: 20px; color:RGB(255,255,255);\">Réalisation de tests statistiques</h2>\n",
    "</div>"
   ]
  },
  {
   "cell_type": "markdown",
   "metadata": {},
   "source": [
    "<div style=\"border: 1px solid RGB(106,90,205);\">\n",
    "<h3 style=\"margin: auto; padding: 20px; color: RGB(106,90,205);\">Test d'adéquation sur l'ensemble des variables, de façon à trouver une variable dont la loi est normale</h3>\n",
    "</div>"
   ]
  },
  {
   "cell_type": "markdown",
   "metadata": {},
   "source": [
    "> Nous allons utiliser le test de Shapiro–Wilk sur l'ensemble des variables, celui-ci teste l'hypothèse nulle selon \n",
    "> laquelle un échantillon x1,...,xn est issu d'une population normalement distribuée"
   ]
  },
  {
   "cell_type": "code",
   "execution_count": 89,
   "metadata": {},
   "outputs": [
    {
     "data": {
      "text/plain": [
       "(0.9437400698661804, 2.735466978265322e-06)"
      ]
     },
     "execution_count": 89,
     "metadata": {},
     "output_type": "execute_result"
    }
   ],
   "source": [
    "shapiro(bdd['%evopop'])"
   ]
  },
  {
   "cell_type": "code",
   "execution_count": 90,
   "metadata": {},
   "outputs": [
    {
     "data": {
      "text/plain": [
       "(0.6918768882751465, 1.767976798345929e-17)"
      ]
     },
     "execution_count": 90,
     "metadata": {},
     "output_type": "execute_result"
    }
   ],
   "source": [
    "shapiro(bdd['PIB/hab'])"
   ]
  },
  {
   "cell_type": "code",
   "execution_count": 91,
   "metadata": {},
   "outputs": [
    {
     "data": {
      "text/plain": [
       "(0.9579640030860901, 5.209694427321665e-05)"
      ]
     },
     "execution_count": 91,
     "metadata": {},
     "output_type": "execute_result"
    }
   ],
   "source": [
    "shapiro(bdd['%protani'])"
   ]
  },
  {
   "cell_type": "code",
   "execution_count": 92,
   "metadata": {},
   "outputs": [
    {
     "data": {
      "text/plain": [
       "(0.9829756617546082, 0.0345720537006855)"
      ]
     },
     "execution_count": 92,
     "metadata": {},
     "output_type": "execute_result"
    }
   ],
   "source": [
    "shapiro(bdd['Dispoalim(Kcal/hab/an)'])"
   ]
  },
  {
   "cell_type": "code",
   "execution_count": 93,
   "metadata": {},
   "outputs": [
    {
     "data": {
      "text/plain": [
       "(0.9817173480987549, 0.02383829839527607)"
      ]
     },
     "execution_count": 93,
     "metadata": {},
     "output_type": "execute_result"
    }
   ],
   "source": [
    "shapiro(bdd['Dispoprot(kg/hab/an)'])"
   ]
  },
  {
   "cell_type": "code",
   "execution_count": 94,
   "metadata": {},
   "outputs": [
    {
     "data": {
      "text/plain": [
       "(0.4882097840309143, 4.598939927887374e-22)"
      ]
     },
     "execution_count": 94,
     "metadata": {},
     "output_type": "execute_result"
    }
   ],
   "source": [
    "shapiro(bdd['impvola'])"
   ]
  },
  {
   "cell_type": "markdown",
   "metadata": {},
   "source": [
    "<div style=\"border: 1px solid RGB(106,90,205);\">\n",
    "<h3 style=\"margin: auto; padding: 20px; color: RGB(106,90,205);\">Interprétation des résultats</h3>\n",
    "</div>"
   ]
  },
  {
   "cell_type": "markdown",
   "metadata": {},
   "source": [
    "> Aucune des variables de notre DataFrame ne suit une distribution normale"
   ]
  },
  {
   "cell_type": "markdown",
   "metadata": {},
   "source": [
    "<div style=\"border: 1px solid RGB(106,90,205);\">\n",
    "<h3 style=\"margin: auto; padding: 20px; color: RGB(106,90,205);\">Test de comparaison de deux populations (dans le cas non-gaussien)</h3>\n",
    "</div>"
   ]
  },
  {
   "cell_type": "markdown",
   "metadata": {},
   "source": [
    "> Sélection de 2 clusters"
   ]
  },
  {
   "cell_type": "code",
   "execution_count": 95,
   "metadata": {},
   "outputs": [],
   "source": [
    "clust_2 = bdd.loc[bdd['clusters']==2,'Dispoalim(Kcal/hab/an)']\n",
    "clust_3 = bdd.loc[bdd['clusters']==3,'Dispoalim(Kcal/hab/an)']"
   ]
  },
  {
   "cell_type": "markdown",
   "metadata": {},
   "source": [
    "> Test de comparaison de médianes : \n",
    "> - H0 = médiane cluster 2 égale médiane cluster 3"
   ]
  },
  {
   "cell_type": "code",
   "execution_count": 96,
   "metadata": {},
   "outputs": [
    {
     "data": {
      "text/plain": [
       "Ks_2sampResult(statistic=0.630718954248366, pvalue=4.2661702597496815e-08)"
      ]
     },
     "execution_count": 96,
     "metadata": {},
     "output_type": "execute_result"
    }
   ],
   "source": [
    "ks_2samp(clust_2, clust_3)"
   ]
  },
  {
   "cell_type": "markdown",
   "metadata": {},
   "source": [
    "<div style=\"border: 1px solid RGB(106,90,205);\">\n",
    "<h3 style=\"margin: auto; padding: 20px; color: RGB(106,90,205);\">Interprétation des résultats</h3>\n",
    "</div>"
   ]
  },
  {
   "cell_type": "markdown",
   "metadata": {},
   "source": [
    "> - p-value inférieure à 1%, on rejette l'hypothèse H0, donc les médianes ne sont pas égales \n",
    "> - Les clusters 2 et 3 n'ont pas les mêmes valeurs "
   ]
  },
  {
   "cell_type": "code",
   "execution_count": null,
   "metadata": {},
   "outputs": [],
   "source": []
  }
 ],
 "metadata": {
  "kernelspec": {
   "display_name": "Python 3",
   "language": "python",
   "name": "python3"
  },
  "language_info": {
   "codemirror_mode": {
    "name": "ipython",
    "version": 3
   },
   "file_extension": ".py",
   "mimetype": "text/x-python",
   "name": "python",
   "nbconvert_exporter": "python",
   "pygments_lexer": "ipython3",
   "version": "3.8.8"
  }
 },
 "nbformat": 4,
 "nbformat_minor": 2
}
